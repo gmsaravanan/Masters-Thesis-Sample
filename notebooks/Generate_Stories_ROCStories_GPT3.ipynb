{
 "cells": [
  {
   "cell_type": "code",
   "execution_count": 26,
   "id": "6d966458-dc6f-4f4a-ab6b-2eb44ca250d3",
   "metadata": {},
   "outputs": [],
   "source": [
    "import pandas as pd\n",
    "import numpy as np\n",
    "import evaluate\n",
    "import openai\n",
    "import time\n",
    "from tqdm.autonotebook import tqdm\n",
    "\n",
    "tqdm.pandas()\n",
    "\n",
    "from IPython.core.interactiveshell import InteractiveShell\n",
    "InteractiveShell.ast_node_interactivity = \"all\""
   ]
  },
  {
   "cell_type": "code",
   "execution_count": 12,
   "id": "40d71fcb-3f2a-4716-a532-5251b0d4533b",
   "metadata": {},
   "outputs": [],
   "source": [
    "with open(\"/home/pparesh/.secrets/openai/openai_api_key\") as f:\n",
    "    openai.api_key = f.readline().strip()"
   ]
  },
  {
   "cell_type": "markdown",
   "id": "2e1ac104-5d38-4650-91ef-bf4ef209f9aa",
   "metadata": {},
   "source": [
    "## Read & Preprocess Data"
   ]
  },
  {
   "cell_type": "code",
   "execution_count": 13,
   "id": "a0e74f4a-fedc-4296-98b4-669cfd8fe8f2",
   "metadata": {},
   "outputs": [
    {
     "data": {
      "text/plain": [
       "(100, 8)"
      ]
     },
     "execution_count": 13,
     "metadata": {},
     "output_type": "execute_result"
    },
    {
     "data": {
      "text/html": [
       "<div>\n",
       "<style scoped>\n",
       "    .dataframe tbody tr th:only-of-type {\n",
       "        vertical-align: middle;\n",
       "    }\n",
       "\n",
       "    .dataframe tbody tr th {\n",
       "        vertical-align: top;\n",
       "    }\n",
       "\n",
       "    .dataframe thead th {\n",
       "        text-align: right;\n",
       "    }\n",
       "</style>\n",
       "<table border=\"1\" class=\"dataframe\">\n",
       "  <thead>\n",
       "    <tr style=\"text-align: right;\">\n",
       "      <th></th>\n",
       "      <th>InputStoryid</th>\n",
       "      <th>InputSentence1</th>\n",
       "      <th>InputSentence2</th>\n",
       "      <th>InputSentence3</th>\n",
       "      <th>InputSentence4</th>\n",
       "      <th>RandomFifthSentenceQuiz1</th>\n",
       "      <th>RandomFifthSentenceQuiz2</th>\n",
       "      <th>AnswerRightEnding</th>\n",
       "    </tr>\n",
       "  </thead>\n",
       "  <tbody>\n",
       "    <tr>\n",
       "      <th>0</th>\n",
       "      <td>138d5bfb-05cc-41e3-bf2c-fa85ebad14e2</td>\n",
       "      <td>Rick grew up in a troubled household.</td>\n",
       "      <td>He never found good support in family, and tur...</td>\n",
       "      <td>It wasn't long before Rick got shot in a robbery.</td>\n",
       "      <td>The incident caused him to turn a new leaf.</td>\n",
       "      <td>He is happy now.</td>\n",
       "      <td>He joined a gang.</td>\n",
       "      <td>1</td>\n",
       "    </tr>\n",
       "    <tr>\n",
       "      <th>1</th>\n",
       "      <td>bff9f820-9605-4875-b9af-fe6f14d04256</td>\n",
       "      <td>Laverne needs to prepare something for her fri...</td>\n",
       "      <td>She decides to bake a batch of brownies.</td>\n",
       "      <td>She chooses a recipe and follows it closely.</td>\n",
       "      <td>Laverne tests one of the brownies to make sure...</td>\n",
       "      <td>The brownies are so delicious Laverne eats two...</td>\n",
       "      <td>Laverne doesn't go to her friend's party.</td>\n",
       "      <td>1</td>\n",
       "    </tr>\n",
       "    <tr>\n",
       "      <th>2</th>\n",
       "      <td>e8f628d5-9f97-40ed-8611-fc0e774673c4</td>\n",
       "      <td>Sarah had been dreaming of visiting Europe for...</td>\n",
       "      <td>She had finally saved enough for the trip.</td>\n",
       "      <td>She landed in Spain and traveled east across t...</td>\n",
       "      <td>She didn't like how different everything was.</td>\n",
       "      <td>Sarah then decided to move to Europe.</td>\n",
       "      <td>Sarah decided that she preferred her home over...</td>\n",
       "      <td>2</td>\n",
       "    </tr>\n",
       "    <tr>\n",
       "      <th>3</th>\n",
       "      <td>f5226bfe-9f26-4377-b05f-3d9568dbdec1</td>\n",
       "      <td>Gina was worried the cookie dough in the tube ...</td>\n",
       "      <td>She was very happy to find she was wrong.</td>\n",
       "      <td>The cookies from the tube were as good as from...</td>\n",
       "      <td>Gina intended to only eat 2 cookies and save t...</td>\n",
       "      <td>Gina liked the cookies so much she ate them al...</td>\n",
       "      <td>Gina gave the cookies away at her church.</td>\n",
       "      <td>1</td>\n",
       "    </tr>\n",
       "    <tr>\n",
       "      <th>4</th>\n",
       "      <td>69ac9b05-b956-402f-9fff-1f926ef9176b</td>\n",
       "      <td>It was  my final performance in marching band.</td>\n",
       "      <td>I was playing the snare drum in the band.</td>\n",
       "      <td>We played Thriller and Radar Love.</td>\n",
       "      <td>The performance was flawless.</td>\n",
       "      <td>I was very proud of my performance.</td>\n",
       "      <td>I was very ashamed of my performance.</td>\n",
       "      <td>1</td>\n",
       "    </tr>\n",
       "  </tbody>\n",
       "</table>\n",
       "</div>"
      ],
      "text/plain": [
       "                           InputStoryid  \\\n",
       "0  138d5bfb-05cc-41e3-bf2c-fa85ebad14e2   \n",
       "1  bff9f820-9605-4875-b9af-fe6f14d04256   \n",
       "2  e8f628d5-9f97-40ed-8611-fc0e774673c4   \n",
       "3  f5226bfe-9f26-4377-b05f-3d9568dbdec1   \n",
       "4  69ac9b05-b956-402f-9fff-1f926ef9176b   \n",
       "\n",
       "                                      InputSentence1  \\\n",
       "0              Rick grew up in a troubled household.   \n",
       "1  Laverne needs to prepare something for her fri...   \n",
       "2  Sarah had been dreaming of visiting Europe for...   \n",
       "3  Gina was worried the cookie dough in the tube ...   \n",
       "4     It was  my final performance in marching band.   \n",
       "\n",
       "                                      InputSentence2  \\\n",
       "0  He never found good support in family, and tur...   \n",
       "1           She decides to bake a batch of brownies.   \n",
       "2         She had finally saved enough for the trip.   \n",
       "3          She was very happy to find she was wrong.   \n",
       "4          I was playing the snare drum in the band.   \n",
       "\n",
       "                                      InputSentence3  \\\n",
       "0  It wasn't long before Rick got shot in a robbery.   \n",
       "1       She chooses a recipe and follows it closely.   \n",
       "2  She landed in Spain and traveled east across t...   \n",
       "3  The cookies from the tube were as good as from...   \n",
       "4                 We played Thriller and Radar Love.   \n",
       "\n",
       "                                      InputSentence4  \\\n",
       "0        The incident caused him to turn a new leaf.   \n",
       "1  Laverne tests one of the brownies to make sure...   \n",
       "2      She didn't like how different everything was.   \n",
       "3  Gina intended to only eat 2 cookies and save t...   \n",
       "4                      The performance was flawless.   \n",
       "\n",
       "                            RandomFifthSentenceQuiz1  \\\n",
       "0                                   He is happy now.   \n",
       "1  The brownies are so delicious Laverne eats two...   \n",
       "2              Sarah then decided to move to Europe.   \n",
       "3  Gina liked the cookies so much she ate them al...   \n",
       "4                I was very proud of my performance.   \n",
       "\n",
       "                            RandomFifthSentenceQuiz2  AnswerRightEnding  \n",
       "0                                  He joined a gang.                  1  \n",
       "1          Laverne doesn't go to her friend's party.                  1  \n",
       "2  Sarah decided that she preferred her home over...                  2  \n",
       "3          Gina gave the cookies away at her church.                  1  \n",
       "4              I was very ashamed of my performance.                  1  "
      ]
     },
     "execution_count": 13,
     "metadata": {},
     "output_type": "execute_result"
    }
   ],
   "source": [
    "df_data = pd.read_csv(\"../data/ROCStories/cloze_test_val__winter2018-cloze_test_ALL_val.csv\")\n",
    "df_data = df_data.head(100)\n",
    "df_data.shape\n",
    "df_data.head()"
   ]
  },
  {
   "cell_type": "code",
   "execution_count": 14,
   "id": "6382259d-af50-4c61-abc7-a579b36898e1",
   "metadata": {},
   "outputs": [],
   "source": [
    "# add 5th sentence\n",
    "df_data['InputSentence5'] = df_data.apply(\n",
    "    lambda row: row['RandomFifthSentenceQuiz1'] if row['AnswerRightEnding']==1 \\\n",
    "    else row['RandomFifthSentenceQuiz2'],\n",
    "    axis=1\n",
    ")\n",
    "\n",
    "# combine all 5 sentences into outline\n",
    "df_data['outline'] = df_data['InputSentence1'] + \"\\n\" + \\\n",
    "                     df_data['InputSentence2'] + \"\\n\" + \\\n",
    "                     df_data['InputSentence3'] + \"\\n\" + \\\n",
    "                     df_data['InputSentence4'] + \"\\n\" + \\\n",
    "                     df_data['InputSentence5']\n",
    "\n",
    "# create prompt\n",
    "df_data['prompt'] = \"Generate a multi-paragaph story using the following outline:\\nOUTLINE:\\n\" + \\\n",
    "                    df_data['outline'] + \"\\n\" + \"STORY:\""
   ]
  },
  {
   "cell_type": "code",
   "execution_count": 15,
   "id": "c2207bbf-c45e-48c3-9861-8a094c60bc19",
   "metadata": {},
   "outputs": [
    {
     "data": {
      "text/html": [
       "<div>\n",
       "<style scoped>\n",
       "    .dataframe tbody tr th:only-of-type {\n",
       "        vertical-align: middle;\n",
       "    }\n",
       "\n",
       "    .dataframe tbody tr th {\n",
       "        vertical-align: top;\n",
       "    }\n",
       "\n",
       "    .dataframe thead th {\n",
       "        text-align: right;\n",
       "    }\n",
       "</style>\n",
       "<table border=\"1\" class=\"dataframe\">\n",
       "  <thead>\n",
       "    <tr style=\"text-align: right;\">\n",
       "      <th></th>\n",
       "      <th>InputStoryid</th>\n",
       "      <th>InputSentence1</th>\n",
       "      <th>InputSentence2</th>\n",
       "      <th>InputSentence3</th>\n",
       "      <th>InputSentence4</th>\n",
       "      <th>RandomFifthSentenceQuiz1</th>\n",
       "      <th>RandomFifthSentenceQuiz2</th>\n",
       "      <th>AnswerRightEnding</th>\n",
       "      <th>InputSentence5</th>\n",
       "      <th>outline</th>\n",
       "      <th>prompt</th>\n",
       "    </tr>\n",
       "  </thead>\n",
       "  <tbody>\n",
       "    <tr>\n",
       "      <th>0</th>\n",
       "      <td>138d5bfb-05cc-41e3-bf2c-fa85ebad14e2</td>\n",
       "      <td>Rick grew up in a troubled household.</td>\n",
       "      <td>He never found good support in family, and tur...</td>\n",
       "      <td>It wasn't long before Rick got shot in a robbery.</td>\n",
       "      <td>The incident caused him to turn a new leaf.</td>\n",
       "      <td>He is happy now.</td>\n",
       "      <td>He joined a gang.</td>\n",
       "      <td>1</td>\n",
       "      <td>He is happy now.</td>\n",
       "      <td>Rick grew up in a troubled household.\\nHe neve...</td>\n",
       "      <td>Generate a multi-paragaph story using the foll...</td>\n",
       "    </tr>\n",
       "    <tr>\n",
       "      <th>1</th>\n",
       "      <td>bff9f820-9605-4875-b9af-fe6f14d04256</td>\n",
       "      <td>Laverne needs to prepare something for her fri...</td>\n",
       "      <td>She decides to bake a batch of brownies.</td>\n",
       "      <td>She chooses a recipe and follows it closely.</td>\n",
       "      <td>Laverne tests one of the brownies to make sure...</td>\n",
       "      <td>The brownies are so delicious Laverne eats two...</td>\n",
       "      <td>Laverne doesn't go to her friend's party.</td>\n",
       "      <td>1</td>\n",
       "      <td>The brownies are so delicious Laverne eats two...</td>\n",
       "      <td>Laverne needs to prepare something for her fri...</td>\n",
       "      <td>Generate a multi-paragaph story using the foll...</td>\n",
       "    </tr>\n",
       "  </tbody>\n",
       "</table>\n",
       "</div>"
      ],
      "text/plain": [
       "                           InputStoryid  \\\n",
       "0  138d5bfb-05cc-41e3-bf2c-fa85ebad14e2   \n",
       "1  bff9f820-9605-4875-b9af-fe6f14d04256   \n",
       "\n",
       "                                      InputSentence1  \\\n",
       "0              Rick grew up in a troubled household.   \n",
       "1  Laverne needs to prepare something for her fri...   \n",
       "\n",
       "                                      InputSentence2  \\\n",
       "0  He never found good support in family, and tur...   \n",
       "1           She decides to bake a batch of brownies.   \n",
       "\n",
       "                                      InputSentence3  \\\n",
       "0  It wasn't long before Rick got shot in a robbery.   \n",
       "1       She chooses a recipe and follows it closely.   \n",
       "\n",
       "                                      InputSentence4  \\\n",
       "0        The incident caused him to turn a new leaf.   \n",
       "1  Laverne tests one of the brownies to make sure...   \n",
       "\n",
       "                            RandomFifthSentenceQuiz1  \\\n",
       "0                                   He is happy now.   \n",
       "1  The brownies are so delicious Laverne eats two...   \n",
       "\n",
       "                    RandomFifthSentenceQuiz2  AnswerRightEnding  \\\n",
       "0                          He joined a gang.                  1   \n",
       "1  Laverne doesn't go to her friend's party.                  1   \n",
       "\n",
       "                                      InputSentence5  \\\n",
       "0                                   He is happy now.   \n",
       "1  The brownies are so delicious Laverne eats two...   \n",
       "\n",
       "                                             outline  \\\n",
       "0  Rick grew up in a troubled household.\\nHe neve...   \n",
       "1  Laverne needs to prepare something for her fri...   \n",
       "\n",
       "                                              prompt  \n",
       "0  Generate a multi-paragaph story using the foll...  \n",
       "1  Generate a multi-paragaph story using the foll...  "
      ]
     },
     "execution_count": 15,
     "metadata": {},
     "output_type": "execute_result"
    }
   ],
   "source": [
    "df_data.head(2)"
   ]
  },
  {
   "cell_type": "code",
   "execution_count": 16,
   "id": "22637944-d167-4052-9271-183859394f8d",
   "metadata": {},
   "outputs": [
    {
     "name": "stdout",
     "output_type": "stream",
     "text": [
      "Jim found an old disposable camera in the bottom of his junk drawer.\n",
      "He began snapping away at everything around him.\n",
      "The counter clicked down to one final photo.\n",
      "The gravity of the situation began to dawn on Jim.\n",
      "Jim took time to decide what he would take a picture of.\n"
     ]
    }
   ],
   "source": [
    "print(df_data['outline'][5])"
   ]
  },
  {
   "cell_type": "code",
   "execution_count": 17,
   "id": "9aba15c3-0b4c-4b94-9e83-bccc95190e08",
   "metadata": {},
   "outputs": [
    {
     "name": "stdout",
     "output_type": "stream",
     "text": [
      "Generate a multi-paragaph story using the following outline:\n",
      "OUTLINE:\n",
      "Jim found an old disposable camera in the bottom of his junk drawer.\n",
      "He began snapping away at everything around him.\n",
      "The counter clicked down to one final photo.\n",
      "The gravity of the situation began to dawn on Jim.\n",
      "Jim took time to decide what he would take a picture of.\n",
      "STORY:\n"
     ]
    }
   ],
   "source": [
    "print(df_data['prompt'][5])"
   ]
  },
  {
   "cell_type": "markdown",
   "id": "32680df7-ad1c-4a50-9593-072309a4ffd7",
   "metadata": {},
   "source": [
    "## Generate Story"
   ]
  },
  {
   "cell_type": "code",
   "execution_count": 38,
   "id": "8fd58361-d247-43a6-993a-b0a1620f98ff",
   "metadata": {},
   "outputs": [],
   "source": [
    "# model = \"text-babbage-001\"\n",
    "# model = \"text-curie-001\"\n",
    "# model = \"text-davinci-003\""
   ]
  },
  {
   "cell_type": "code",
   "execution_count": 18,
   "id": "d38a9403-59bb-4dee-bb29-d5671f06dd98",
   "metadata": {},
   "outputs": [],
   "source": [
    "# prompt = df_data['prompt'][5]\n",
    "# response = openai.Completion.create(\n",
    "#     model=model, \n",
    "#     prompt=prompt, \n",
    "#     temperature=0.9, \n",
    "#     presence_penalty=0.5,\n",
    "#     frequency_penalty=0.8,\n",
    "#     max_tokens=500,\n",
    "#     n=3,\n",
    "# )"
   ]
  },
  {
   "cell_type": "code",
   "execution_count": 19,
   "id": "b41c5756-6521-4ae0-999c-7c295a715fee",
   "metadata": {},
   "outputs": [],
   "source": [
    "# gen_stories = []\n",
    "# for s in response.choices:\n",
    "#     gen_stories.append(s.text)\n",
    "\n",
    "# for x in gen_stories:\n",
    "#     print(x)"
   ]
  },
  {
   "cell_type": "code",
   "execution_count": 20,
   "id": "59d5c495-7711-4473-b843-56212dac9159",
   "metadata": {},
   "outputs": [],
   "source": [
    "# gen_stories_len = [len(x) for x in gen_stories]\n",
    "# final_story = gen_stories[np.argmax(gen_stories_len)]\n",
    "# print(final_story)"
   ]
  },
  {
   "cell_type": "code",
   "execution_count": 30,
   "id": "d5376ce6-c31a-4405-a666-4f00d165181c",
   "metadata": {},
   "outputs": [],
   "source": [
    "def generate_stories(model, prompts, max_tokens=500, n=3):\n",
    "    output_stories = []\n",
    "    for prompt in tqdm(prompts):\n",
    "        response = openai.Completion.create(\n",
    "            model=model, \n",
    "            prompt=prompt, \n",
    "            temperature=0.9, \n",
    "            presence_penalty=0.5,\n",
    "            frequency_penalty=0.8,\n",
    "            max_tokens=500,\n",
    "            n=3,\n",
    "        )\n",
    "        # get all stories\n",
    "        gen_stories = [s.text for s in response.choices]\n",
    "        # select story based on length\n",
    "        gen_stories_len = [len(x) for x in gen_stories]\n",
    "        selected_story = gen_stories[np.argmax(gen_stories_len)]\n",
    "        \n",
    "        output_stories.append(selected_story)\n",
    "        \n",
    "        # for the rate-limit\n",
    "        time.sleep(3)\n",
    "        \n",
    "    return output_stories"
   ]
  },
  {
   "cell_type": "code",
   "execution_count": 31,
   "id": "1da41893-2d83-4d0e-ba1b-941ab06c2b1c",
   "metadata": {},
   "outputs": [],
   "source": [
    "# generate_stories(\"text-babbage-001\", [df_data['prompt'][5]], max_tokens=500, n=1)"
   ]
  },
  {
   "cell_type": "code",
   "execution_count": 32,
   "id": "829470a4-7711-4942-b2d0-45e5133baf64",
   "metadata": {},
   "outputs": [
    {
     "data": {
      "application/vnd.jupyter.widget-view+json": {
       "model_id": "b511d0414666407288a0c4871e450b82",
       "version_major": 2,
       "version_minor": 0
      },
      "text/plain": [
       "  0%|          | 0/100 [00:00<?, ?it/s]"
      ]
     },
     "metadata": {},
     "output_type": "display_data"
    }
   ],
   "source": [
    "df_data['gen_stories_ada'] = generate_stories(\"text-ada-001\", df_data['prompt'].tolist(), max_tokens=500, n=3)"
   ]
  },
  {
   "cell_type": "code",
   "execution_count": 33,
   "id": "91ecc15e-4b76-4d73-9cba-190d538cd54c",
   "metadata": {},
   "outputs": [
    {
     "data": {
      "application/vnd.jupyter.widget-view+json": {
       "model_id": "12c86dd468844f6c925bc6278f03b5a2",
       "version_major": 2,
       "version_minor": 0
      },
      "text/plain": [
       "  0%|          | 0/100 [00:00<?, ?it/s]"
      ]
     },
     "metadata": {},
     "output_type": "display_data"
    }
   ],
   "source": [
    "df_data['gen_stories_babbage'] = generate_stories(\"text-babbage-001\", df_data['prompt'].tolist(), max_tokens=500, n=3)"
   ]
  },
  {
   "cell_type": "code",
   "execution_count": 34,
   "id": "318027aa-d36b-45b7-bcf7-b4a6c5553498",
   "metadata": {},
   "outputs": [
    {
     "data": {
      "application/vnd.jupyter.widget-view+json": {
       "model_id": "6d124874d97f42988e41ad7e83b2a28c",
       "version_major": 2,
       "version_minor": 0
      },
      "text/plain": [
       "  0%|          | 0/100 [00:00<?, ?it/s]"
      ]
     },
     "metadata": {},
     "output_type": "display_data"
    }
   ],
   "source": [
    "df_data['gen_stories_curie'] = generate_stories(\"text-curie-001\", df_data['prompt'].tolist(), max_tokens=500, n=3)"
   ]
  },
  {
   "cell_type": "code",
   "execution_count": 35,
   "id": "ef1768bd-6fff-4059-b6e1-f049f18f7364",
   "metadata": {},
   "outputs": [
    {
     "data": {
      "application/vnd.jupyter.widget-view+json": {
       "model_id": "8efd7261061243de9d59bb945cbef77e",
       "version_major": 2,
       "version_minor": 0
      },
      "text/plain": [
       "  0%|          | 0/100 [00:00<?, ?it/s]"
      ]
     },
     "metadata": {},
     "output_type": "display_data"
    }
   ],
   "source": [
    "df_data['gen_stories_davinci'] = generate_stories(\"text-davinci-003\", df_data['prompt'].tolist(), max_tokens=500, n=1)"
   ]
  },
  {
   "cell_type": "code",
   "execution_count": 36,
   "id": "66a641a4-3bba-4f5f-ac2c-7de1b76d84c3",
   "metadata": {},
   "outputs": [],
   "source": [
    "df_data.to_parquet(\"../data/generated_stories/generated_stories_gpt3_100.parquet\")"
   ]
  },
  {
   "cell_type": "markdown",
   "id": "c83581c8-6742-4702-9466-ccd45978e657",
   "metadata": {},
   "source": [
    "## Evaluation"
   ]
  },
  {
   "cell_type": "code",
   "execution_count": 9,
   "id": "f3d534d3-590e-4353-ba6e-3e1c93e2001f",
   "metadata": {},
   "outputs": [],
   "source": [
    "# outline = \"\"\"Jim found an old disposable camera in the bottom of his junk drawer.\n",
    "# He began snapping away at everything around him.\n",
    "# The counter clicked down to one final photo.\n",
    "# The gravity of the situation began to dawn on Jim.\n",
    "# Jim took time to decide what he would take a picture of.\"\"\""
   ]
  },
  {
   "cell_type": "code",
   "execution_count": 10,
   "id": "03501c54-1207-475c-9598-d1753a04ade0",
   "metadata": {},
   "outputs": [],
   "source": [
    "# final_story = \"\"\"Jim had always been a photo enthusiast, even as a kid. He loved exploring new places, taking pictures of the natural beauty around him, and capturing special moments with those he loved. But never before had he found such freedom in taking photos--and such a sense of immediacy.\n",
    "\n",
    "# So Jim began to snap away at anything and everything around him. He would go out on walks with his dog, stop in at the grocery store, or sit at his desk at work--and snap away. The Counter turned to one final photo before disappearing for good. In each photo, Jim captured a fleeting moment that he could cherish forever.\n",
    "\n",
    "# Gradually though, Jim realized just how precarious this new way of life was. Every time he snapped a picture, something could happen that would overwrite that moment forever with uncertainty and worry. Suddenly taking pictures became quite solemn and meaningful for Jim--it was now more than just a way to capture fleeting moments; it was an act of preservation and commemoration.\n",
    "\n",
    "# And so Jim began to take pictures of things that meant the most to him: his wife and kids during family dinners, positive memories from trips abroad, happy moments spent with friends and family...absolutely anything that tempted fate but ultimately ended up being worth preserving anyways. And gradually as he took more photos like this, the gravity of the situation began to dawn on Jim...he wasn't just preserving moments anymore; he was documenting history!\"\"\""
   ]
  },
  {
   "cell_type": "code",
   "execution_count": 4,
   "id": "553cd5b7-304e-46df-81a5-59170b79eb43",
   "metadata": {},
   "outputs": [],
   "source": [
    "# bleu = evaluate.load(\"bleu\")\n",
    "# results = bleu.compute(predictions=[final_story], references=[outline])\n",
    "# results"
   ]
  },
  {
   "cell_type": "code",
   "execution_count": 5,
   "id": "5b0558be-2e27-4b3e-b786-946431989a6b",
   "metadata": {},
   "outputs": [],
   "source": [
    "# perplexity = evaluate.load(\"perplexity\", module_type=\"metric\")\n",
    "# results = perplexity.compute(predictions=[final_story], model_id='gpt2')\n",
    "# results"
   ]
  },
  {
   "cell_type": "code",
   "execution_count": 6,
   "id": "21357cbf-21e7-4f37-88ac-230f5efa371b",
   "metadata": {},
   "outputs": [],
   "source": [
    "# rouge = evaluate.load('rouge')\n",
    "# results = rouge.compute(predictions=[final_story], references=[outline])\n",
    "# results"
   ]
  },
  {
   "cell_type": "code",
   "execution_count": 8,
   "id": "3a301f89-2140-48d2-ada7-246f27be1d88",
   "metadata": {},
   "outputs": [],
   "source": [
    "# bertscore = evaluate.load('bertscore')\n",
    "# results = bertscore.compute(predictions=[final_story], references=[outline], model_type=\"distilbert-base-uncased\")\n",
    "# results"
   ]
  },
  {
   "cell_type": "code",
   "execution_count": 7,
   "id": "0615f04a-96b0-4eec-8646-2fd38c59b654",
   "metadata": {},
   "outputs": [],
   "source": [
    "# from transformers import AutoModel, AutoTokenizer, AutoModelForCausalLM\n",
    "# checkpoint = \"distilgpt2\"\n",
    "# tokenizer = AutoTokenizer.from_pretrained(checkpoint)\n",
    "# model = AutoModelForCausalLM.from_pretrained(checkpoint, torch_dtype=\"auto\", device_map=\"auto\")"
   ]
  },
  {
   "cell_type": "code",
   "execution_count": null,
   "id": "0176f96b-82a9-4c09-abc8-3ad07edc9d66",
   "metadata": {},
   "outputs": [],
   "source": []
  }
 ],
 "metadata": {
  "kernelspec": {
   "display_name": "Python 3 (ipykernel)",
   "language": "python",
   "name": "python3"
  },
  "language_info": {
   "codemirror_mode": {
    "name": "ipython",
    "version": 3
   },
   "file_extension": ".py",
   "mimetype": "text/x-python",
   "name": "python",
   "nbconvert_exporter": "python",
   "pygments_lexer": "ipython3",
   "version": "3.9.16"
  }
 },
 "nbformat": 4,
 "nbformat_minor": 5
}
