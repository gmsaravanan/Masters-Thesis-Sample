{
 "cells": [
  {
   "cell_type": "code",
   "execution_count": 1,
   "id": "43966618-a463-4057-9824-13fd28d31dfe",
   "metadata": {},
   "outputs": [],
   "source": [
    "import pandas as pd\n",
    "import numpy as np\n",
    "import evaluate\n",
    "from tqdm.autonotebook import tqdm\n",
    "from matplotlib import pyplot as plt\n",
    "\n",
    "tqdm.pandas()\n",
    "\n",
    "from IPython.core.interactiveshell import InteractiveShell\n",
    "InteractiveShell.ast_node_interactivity = \"all\""
   ]
  },
  {
   "cell_type": "code",
   "execution_count": 2,
   "id": "d0ccb907-5151-4c87-8ca1-cace2885ae1e",
   "metadata": {},
   "outputs": [],
   "source": [
    "df_data_gpt3 = pd.read_parquet(\"../data/generated_stories/generated_stories_gpt3_100.parquet\")\n",
    "df_data_no_gpt3 = pd.read_parquet(\"../data/generated_stories/generated_stories_non_gpt3_100.parquet\")"
   ]
  },
  {
   "cell_type": "code",
   "execution_count": 3,
   "id": "bf638ef0-cb5f-4093-9993-c4932b59eb94",
   "metadata": {},
   "outputs": [
    {
     "data": {
      "text/plain": [
       "(100, 15)"
      ]
     },
     "execution_count": 3,
     "metadata": {},
     "output_type": "execute_result"
    },
    {
     "data": {
      "text/html": [
       "<div>\n",
       "<style scoped>\n",
       "    .dataframe tbody tr th:only-of-type {\n",
       "        vertical-align: middle;\n",
       "    }\n",
       "\n",
       "    .dataframe tbody tr th {\n",
       "        vertical-align: top;\n",
       "    }\n",
       "\n",
       "    .dataframe thead th {\n",
       "        text-align: right;\n",
       "    }\n",
       "</style>\n",
       "<table border=\"1\" class=\"dataframe\">\n",
       "  <thead>\n",
       "    <tr style=\"text-align: right;\">\n",
       "      <th></th>\n",
       "      <th>InputStoryid</th>\n",
       "      <th>InputSentence1</th>\n",
       "      <th>InputSentence2</th>\n",
       "      <th>InputSentence3</th>\n",
       "      <th>InputSentence4</th>\n",
       "      <th>RandomFifthSentenceQuiz1</th>\n",
       "      <th>RandomFifthSentenceQuiz2</th>\n",
       "      <th>AnswerRightEnding</th>\n",
       "      <th>InputSentence5</th>\n",
       "      <th>outline</th>\n",
       "      <th>prompt</th>\n",
       "      <th>gen_stories_ada</th>\n",
       "      <th>gen_stories_babbage</th>\n",
       "      <th>gen_stories_curie</th>\n",
       "      <th>gen_stories_davinci</th>\n",
       "    </tr>\n",
       "  </thead>\n",
       "  <tbody>\n",
       "    <tr>\n",
       "      <th>0</th>\n",
       "      <td>138d5bfb-05cc-41e3-bf2c-fa85ebad14e2</td>\n",
       "      <td>Rick grew up in a troubled household.</td>\n",
       "      <td>He never found good support in family, and tur...</td>\n",
       "      <td>It wasn't long before Rick got shot in a robbery.</td>\n",
       "      <td>The incident caused him to turn a new leaf.</td>\n",
       "      <td>He is happy now.</td>\n",
       "      <td>He joined a gang.</td>\n",
       "      <td>1</td>\n",
       "      <td>He is happy now.</td>\n",
       "      <td>Rick grew up in a troubled household.\\nHe neve...</td>\n",
       "      <td>Generate a multi-paragaph story using the foll...</td>\n",
       "      <td>\\n\\nRick was born in a troubled household.\\nHe...</td>\n",
       "      <td>\\nRick 1: \\nRick was always a troubled youth. ...</td>\n",
       "      <td>\\nRick grew up in a household full of turmoil....</td>\n",
       "      <td>\\nRick grew up in a troubled household. His pa...</td>\n",
       "    </tr>\n",
       "    <tr>\n",
       "      <th>1</th>\n",
       "      <td>bff9f820-9605-4875-b9af-fe6f14d04256</td>\n",
       "      <td>Laverne needs to prepare something for her fri...</td>\n",
       "      <td>She decides to bake a batch of brownies.</td>\n",
       "      <td>She chooses a recipe and follows it closely.</td>\n",
       "      <td>Laverne tests one of the brownies to make sure...</td>\n",
       "      <td>The brownies are so delicious Laverne eats two...</td>\n",
       "      <td>Laverne doesn't go to her friend's party.</td>\n",
       "      <td>1</td>\n",
       "      <td>The brownies are so delicious Laverne eats two...</td>\n",
       "      <td>Laverne needs to prepare something for her fri...</td>\n",
       "      <td>Generate a multi-paragaph story using the foll...</td>\n",
       "      <td>\\n\\nLaverne had been following the recipe to m...</td>\n",
       "      <td>\\nAs Laverne prepared to make her friend's cak...</td>\n",
       "      <td>\\n\\nLaverne had been planning her friend's bir...</td>\n",
       "      <td>\\nLaverne was getting ready for her friend's p...</td>\n",
       "    </tr>\n",
       "  </tbody>\n",
       "</table>\n",
       "</div>"
      ],
      "text/plain": [
       "                           InputStoryid  \\\n",
       "0  138d5bfb-05cc-41e3-bf2c-fa85ebad14e2   \n",
       "1  bff9f820-9605-4875-b9af-fe6f14d04256   \n",
       "\n",
       "                                      InputSentence1  \\\n",
       "0              Rick grew up in a troubled household.   \n",
       "1  Laverne needs to prepare something for her fri...   \n",
       "\n",
       "                                      InputSentence2  \\\n",
       "0  He never found good support in family, and tur...   \n",
       "1           She decides to bake a batch of brownies.   \n",
       "\n",
       "                                      InputSentence3  \\\n",
       "0  It wasn't long before Rick got shot in a robbery.   \n",
       "1       She chooses a recipe and follows it closely.   \n",
       "\n",
       "                                      InputSentence4  \\\n",
       "0        The incident caused him to turn a new leaf.   \n",
       "1  Laverne tests one of the brownies to make sure...   \n",
       "\n",
       "                            RandomFifthSentenceQuiz1  \\\n",
       "0                                   He is happy now.   \n",
       "1  The brownies are so delicious Laverne eats two...   \n",
       "\n",
       "                    RandomFifthSentenceQuiz2  AnswerRightEnding  \\\n",
       "0                          He joined a gang.                  1   \n",
       "1  Laverne doesn't go to her friend's party.                  1   \n",
       "\n",
       "                                      InputSentence5  \\\n",
       "0                                   He is happy now.   \n",
       "1  The brownies are so delicious Laverne eats two...   \n",
       "\n",
       "                                             outline  \\\n",
       "0  Rick grew up in a troubled household.\\nHe neve...   \n",
       "1  Laverne needs to prepare something for her fri...   \n",
       "\n",
       "                                              prompt  \\\n",
       "0  Generate a multi-paragaph story using the foll...   \n",
       "1  Generate a multi-paragaph story using the foll...   \n",
       "\n",
       "                                     gen_stories_ada  \\\n",
       "0  \\n\\nRick was born in a troubled household.\\nHe...   \n",
       "1  \\n\\nLaverne had been following the recipe to m...   \n",
       "\n",
       "                                 gen_stories_babbage  \\\n",
       "0  \\nRick 1: \\nRick was always a troubled youth. ...   \n",
       "1  \\nAs Laverne prepared to make her friend's cak...   \n",
       "\n",
       "                                   gen_stories_curie  \\\n",
       "0  \\nRick grew up in a household full of turmoil....   \n",
       "1  \\n\\nLaverne had been planning her friend's bir...   \n",
       "\n",
       "                                 gen_stories_davinci  \n",
       "0  \\nRick grew up in a troubled household. His pa...  \n",
       "1  \\nLaverne was getting ready for her friend's p...  "
      ]
     },
     "execution_count": 3,
     "metadata": {},
     "output_type": "execute_result"
    }
   ],
   "source": [
    "df_data_gpt3.shape\n",
    "df_data_gpt3.head(2)"
   ]
  },
  {
   "cell_type": "code",
   "execution_count": 4,
   "id": "544bc601-8ff2-40f5-9c36-b8d4dfa1c6e3",
   "metadata": {},
   "outputs": [
    {
     "data": {
      "text/plain": [
       "(100, 13)"
      ]
     },
     "execution_count": 4,
     "metadata": {},
     "output_type": "execute_result"
    },
    {
     "data": {
      "text/html": [
       "<div>\n",
       "<style scoped>\n",
       "    .dataframe tbody tr th:only-of-type {\n",
       "        vertical-align: middle;\n",
       "    }\n",
       "\n",
       "    .dataframe tbody tr th {\n",
       "        vertical-align: top;\n",
       "    }\n",
       "\n",
       "    .dataframe thead th {\n",
       "        text-align: right;\n",
       "    }\n",
       "</style>\n",
       "<table border=\"1\" class=\"dataframe\">\n",
       "  <thead>\n",
       "    <tr style=\"text-align: right;\">\n",
       "      <th></th>\n",
       "      <th>InputStoryid</th>\n",
       "      <th>InputSentence1</th>\n",
       "      <th>InputSentence2</th>\n",
       "      <th>InputSentence3</th>\n",
       "      <th>InputSentence4</th>\n",
       "      <th>RandomFifthSentenceQuiz1</th>\n",
       "      <th>RandomFifthSentenceQuiz2</th>\n",
       "      <th>AnswerRightEnding</th>\n",
       "      <th>InputSentence5</th>\n",
       "      <th>outline</th>\n",
       "      <th>prompt</th>\n",
       "      <th>gen_stories_gpt2</th>\n",
       "      <th>gen_stories_bloomz-1b7</th>\n",
       "    </tr>\n",
       "  </thead>\n",
       "  <tbody>\n",
       "    <tr>\n",
       "      <th>0</th>\n",
       "      <td>138d5bfb-05cc-41e3-bf2c-fa85ebad14e2</td>\n",
       "      <td>Rick grew up in a troubled household.</td>\n",
       "      <td>He never found good support in family, and tur...</td>\n",
       "      <td>It wasn't long before Rick got shot in a robbery.</td>\n",
       "      <td>The incident caused him to turn a new leaf.</td>\n",
       "      <td>He is happy now.</td>\n",
       "      <td>He joined a gang.</td>\n",
       "      <td>1</td>\n",
       "      <td>He is happy now.</td>\n",
       "      <td>Rick grew up in a troubled household.\\nHe neve...</td>\n",
       "      <td>Generate a multi-paragaph story using the foll...</td>\n",
       "      <td>Three days after Rick Grimes was shot, Rick Gr...</td>\n",
       "      <td>Rick grew up in a violent household and was ne...</td>\n",
       "    </tr>\n",
       "    <tr>\n",
       "      <th>1</th>\n",
       "      <td>bff9f820-9605-4875-b9af-fe6f14d04256</td>\n",
       "      <td>Laverne needs to prepare something for her fri...</td>\n",
       "      <td>She decides to bake a batch of brownies.</td>\n",
       "      <td>She chooses a recipe and follows it closely.</td>\n",
       "      <td>Laverne tests one of the brownies to make sure...</td>\n",
       "      <td>The brownies are so delicious Laverne eats two...</td>\n",
       "      <td>Laverne doesn't go to her friend's party.</td>\n",
       "      <td>1</td>\n",
       "      <td>The brownies are so delicious Laverne eats two...</td>\n",
       "      <td>Laverne needs to prepare something for her fri...</td>\n",
       "      <td>Generate a multi-paragaph story using the foll...</td>\n",
       "      <td>A New York City Foodie: How To Make A Big Brow...</td>\n",
       "      <td>Laverne bakes brownies for her friend's party\\...</td>\n",
       "    </tr>\n",
       "  </tbody>\n",
       "</table>\n",
       "</div>"
      ],
      "text/plain": [
       "                           InputStoryid  \\\n",
       "0  138d5bfb-05cc-41e3-bf2c-fa85ebad14e2   \n",
       "1  bff9f820-9605-4875-b9af-fe6f14d04256   \n",
       "\n",
       "                                      InputSentence1  \\\n",
       "0              Rick grew up in a troubled household.   \n",
       "1  Laverne needs to prepare something for her fri...   \n",
       "\n",
       "                                      InputSentence2  \\\n",
       "0  He never found good support in family, and tur...   \n",
       "1           She decides to bake a batch of brownies.   \n",
       "\n",
       "                                      InputSentence3  \\\n",
       "0  It wasn't long before Rick got shot in a robbery.   \n",
       "1       She chooses a recipe and follows it closely.   \n",
       "\n",
       "                                      InputSentence4  \\\n",
       "0        The incident caused him to turn a new leaf.   \n",
       "1  Laverne tests one of the brownies to make sure...   \n",
       "\n",
       "                            RandomFifthSentenceQuiz1  \\\n",
       "0                                   He is happy now.   \n",
       "1  The brownies are so delicious Laverne eats two...   \n",
       "\n",
       "                    RandomFifthSentenceQuiz2  AnswerRightEnding  \\\n",
       "0                          He joined a gang.                  1   \n",
       "1  Laverne doesn't go to her friend's party.                  1   \n",
       "\n",
       "                                      InputSentence5  \\\n",
       "0                                   He is happy now.   \n",
       "1  The brownies are so delicious Laverne eats two...   \n",
       "\n",
       "                                             outline  \\\n",
       "0  Rick grew up in a troubled household.\\nHe neve...   \n",
       "1  Laverne needs to prepare something for her fri...   \n",
       "\n",
       "                                              prompt  \\\n",
       "0  Generate a multi-paragaph story using the foll...   \n",
       "1  Generate a multi-paragaph story using the foll...   \n",
       "\n",
       "                                    gen_stories_gpt2  \\\n",
       "0  Three days after Rick Grimes was shot, Rick Gr...   \n",
       "1  A New York City Foodie: How To Make A Big Brow...   \n",
       "\n",
       "                              gen_stories_bloomz-1b7  \n",
       "0  Rick grew up in a violent household and was ne...  \n",
       "1  Laverne bakes brownies for her friend's party\\...  "
      ]
     },
     "execution_count": 4,
     "metadata": {},
     "output_type": "execute_result"
    }
   ],
   "source": [
    "df_data_no_gpt3.shape\n",
    "df_data_no_gpt3.head(2)"
   ]
  },
  {
   "cell_type": "code",
   "execution_count": 5,
   "id": "5f2645be-64c6-42f4-98d2-346a4565fda7",
   "metadata": {},
   "outputs": [],
   "source": [
    "df_stories = df_data_gpt3[['InputStoryid', 'outline', 'prompt', \n",
    "                           'gen_stories_ada', 'gen_stories_babbage', \n",
    "                           'gen_stories_curie', 'gen_stories_davinci']].copy()\n",
    "df_stories = df_stories.merge(df_data_no_gpt3[['InputStoryid', 'gen_stories_gpt2', 'gen_stories_bloomz-1b7']], on='InputStoryid')"
   ]
  },
  {
   "cell_type": "code",
   "execution_count": 6,
   "id": "cd8ca071-21d3-4512-93ac-372f0412e454",
   "metadata": {},
   "outputs": [],
   "source": [
    "df_stories['gen_stories_gpt2'] = df_stories['gen_stories_gpt2'].str.replace('<|endoftext|>', '', regex=False)\n",
    "df_stories['gen_stories_bloomz-1b7'] = df_stories['gen_stories_bloomz-1b7'].str.replace('<pad>', '', regex=False)"
   ]
  },
  {
   "cell_type": "code",
   "execution_count": 7,
   "id": "7be0b84c-d779-466c-aba7-446f138f7885",
   "metadata": {},
   "outputs": [
    {
     "data": {
      "text/plain": [
       "(100, 9)"
      ]
     },
     "execution_count": 7,
     "metadata": {},
     "output_type": "execute_result"
    },
    {
     "data": {
      "text/html": [
       "<div>\n",
       "<style scoped>\n",
       "    .dataframe tbody tr th:only-of-type {\n",
       "        vertical-align: middle;\n",
       "    }\n",
       "\n",
       "    .dataframe tbody tr th {\n",
       "        vertical-align: top;\n",
       "    }\n",
       "\n",
       "    .dataframe thead th {\n",
       "        text-align: right;\n",
       "    }\n",
       "</style>\n",
       "<table border=\"1\" class=\"dataframe\">\n",
       "  <thead>\n",
       "    <tr style=\"text-align: right;\">\n",
       "      <th></th>\n",
       "      <th>InputStoryid</th>\n",
       "      <th>outline</th>\n",
       "      <th>prompt</th>\n",
       "      <th>gen_stories_ada</th>\n",
       "      <th>gen_stories_babbage</th>\n",
       "      <th>gen_stories_curie</th>\n",
       "      <th>gen_stories_davinci</th>\n",
       "      <th>gen_stories_gpt2</th>\n",
       "      <th>gen_stories_bloomz-1b7</th>\n",
       "    </tr>\n",
       "  </thead>\n",
       "  <tbody>\n",
       "    <tr>\n",
       "      <th>0</th>\n",
       "      <td>138d5bfb-05cc-41e3-bf2c-fa85ebad14e2</td>\n",
       "      <td>Rick grew up in a troubled household.\\nHe neve...</td>\n",
       "      <td>Generate a multi-paragaph story using the foll...</td>\n",
       "      <td>\\n\\nRick was born in a troubled household.\\nHe...</td>\n",
       "      <td>\\nRick 1: \\nRick was always a troubled youth. ...</td>\n",
       "      <td>\\nRick grew up in a household full of turmoil....</td>\n",
       "      <td>\\nRick grew up in a troubled household. His pa...</td>\n",
       "      <td>Three days after Rick Grimes was shot, Rick Gr...</td>\n",
       "      <td>Rick grew up in a violent household and was ne...</td>\n",
       "    </tr>\n",
       "    <tr>\n",
       "      <th>1</th>\n",
       "      <td>bff9f820-9605-4875-b9af-fe6f14d04256</td>\n",
       "      <td>Laverne needs to prepare something for her fri...</td>\n",
       "      <td>Generate a multi-paragaph story using the foll...</td>\n",
       "      <td>\\n\\nLaverne had been following the recipe to m...</td>\n",
       "      <td>\\nAs Laverne prepared to make her friend's cak...</td>\n",
       "      <td>\\n\\nLaverne had been planning her friend's bir...</td>\n",
       "      <td>\\nLaverne was getting ready for her friend's p...</td>\n",
       "      <td>A New York City Foodie: How To Make A Big Brow...</td>\n",
       "      <td>Laverne bakes brownies for her friend's party\\...</td>\n",
       "    </tr>\n",
       "  </tbody>\n",
       "</table>\n",
       "</div>"
      ],
      "text/plain": [
       "                           InputStoryid  \\\n",
       "0  138d5bfb-05cc-41e3-bf2c-fa85ebad14e2   \n",
       "1  bff9f820-9605-4875-b9af-fe6f14d04256   \n",
       "\n",
       "                                             outline  \\\n",
       "0  Rick grew up in a troubled household.\\nHe neve...   \n",
       "1  Laverne needs to prepare something for her fri...   \n",
       "\n",
       "                                              prompt  \\\n",
       "0  Generate a multi-paragaph story using the foll...   \n",
       "1  Generate a multi-paragaph story using the foll...   \n",
       "\n",
       "                                     gen_stories_ada  \\\n",
       "0  \\n\\nRick was born in a troubled household.\\nHe...   \n",
       "1  \\n\\nLaverne had been following the recipe to m...   \n",
       "\n",
       "                                 gen_stories_babbage  \\\n",
       "0  \\nRick 1: \\nRick was always a troubled youth. ...   \n",
       "1  \\nAs Laverne prepared to make her friend's cak...   \n",
       "\n",
       "                                   gen_stories_curie  \\\n",
       "0  \\nRick grew up in a household full of turmoil....   \n",
       "1  \\n\\nLaverne had been planning her friend's bir...   \n",
       "\n",
       "                                 gen_stories_davinci  \\\n",
       "0  \\nRick grew up in a troubled household. His pa...   \n",
       "1  \\nLaverne was getting ready for her friend's p...   \n",
       "\n",
       "                                    gen_stories_gpt2  \\\n",
       "0  Three days after Rick Grimes was shot, Rick Gr...   \n",
       "1  A New York City Foodie: How To Make A Big Brow...   \n",
       "\n",
       "                              gen_stories_bloomz-1b7  \n",
       "0  Rick grew up in a violent household and was ne...  \n",
       "1  Laverne bakes brownies for her friend's party\\...  "
      ]
     },
     "execution_count": 7,
     "metadata": {},
     "output_type": "execute_result"
    }
   ],
   "source": [
    "df_stories.shape\n",
    "df_stories.head(2)"
   ]
  },
  {
   "cell_type": "code",
   "execution_count": 12,
   "id": "9bc1c852-0c2f-450e-bb9c-798517f086a3",
   "metadata": {},
   "outputs": [
    {
     "data": {
      "text/plain": [
       "{'InputSentence1': 'Rick grew up in a troubled household.',\n",
       " 'InputSentence2': 'He never found good support in family, and turned to gangs.',\n",
       " 'InputSentence3': \"It wasn't long before Rick got shot in a robbery.\",\n",
       " 'InputSentence4': 'The incident caused him to turn a new leaf.',\n",
       " 'InputSentence5': 'He is happy now.'}"
      ]
     },
     "execution_count": 12,
     "metadata": {},
     "output_type": "execute_result"
    }
   ],
   "source": [
    "df_data_gpt3[['InputSentence1', 'InputSentence2', 'InputSentence3', 'InputSentence4', 'InputSentence5']].to_dict('records')[0]"
   ]
  },
  {
   "cell_type": "code",
   "execution_count": 13,
   "id": "316d5e29-c3b8-4488-b902-9e30c56388a5",
   "metadata": {},
   "outputs": [
    {
     "data": {
      "text/plain": [
       "\"Rick grew up in a troubled household.\\nHe never found good support in family, and turned to gangs.\\nIt wasn't long before Rick got shot in a robbery.\\nThe incident caused him to turn a new leaf.\\nHe is happy now.\""
      ]
     },
     "execution_count": 13,
     "metadata": {},
     "output_type": "execute_result"
    }
   ],
   "source": [
    "df_stories['outline'][0]"
   ]
  },
  {
   "cell_type": "markdown",
   "id": "2734f4c5-ac9d-46b3-924f-359ef348fb3e",
   "metadata": {},
   "source": [
    "## Evaluation"
   ]
  },
  {
   "cell_type": "code",
   "execution_count": 8,
   "id": "97e17554-d009-471d-bd92-cf740f88b053",
   "metadata": {},
   "outputs": [],
   "source": [
    "# outline = \"\"\"Jim found an old disposable camera in the bottom of his junk drawer.\n",
    "# He began snapping away at everything around him.\n",
    "# The counter clicked down to one final photo.\n",
    "# The gravity of the situation began to dawn on Jim.\n",
    "# Jim took time to decide what he would take a picture of.\"\"\""
   ]
  },
  {
   "cell_type": "code",
   "execution_count": 9,
   "id": "130f0952-30c9-49d1-a658-3f001eec1e56",
   "metadata": {},
   "outputs": [],
   "source": [
    "# final_story = \"\"\"Jim had always been a photo enthusiast, even as a kid. He loved exploring new places, taking pictures of the natural beauty around him, and capturing special moments with those he loved. But never before had he found such freedom in taking photos--and such a sense of immediacy.\n",
    "\n",
    "# So Jim began to snap away at anything and everything around him. He would go out on walks with his dog, stop in at the grocery store, or sit at his desk at work--and snap away. The Counter turned to one final photo before disappearing for good. In each photo, Jim captured a fleeting moment that he could cherish forever.\n",
    "\n",
    "# Gradually though, Jim realized just how precarious this new way of life was. Every time he snapped a picture, something could happen that would overwrite that moment forever with uncertainty and worry. Suddenly taking pictures became quite solemn and meaningful for Jim--it was now more than just a way to capture fleeting moments; it was an act of preservation and commemoration.\n",
    "\n",
    "# And so Jim began to take pictures of things that meant the most to him: his wife and kids during family dinners, positive memories from trips abroad, happy moments spent with friends and family...absolutely anything that tempted fate but ultimately ended up being worth preserving anyways. And gradually as he took more photos like this, the gravity of the situation began to dawn on Jim...he wasn't just preserving moments anymore; he was documenting history!\"\"\""
   ]
  },
  {
   "cell_type": "code",
   "execution_count": 10,
   "id": "44c80a5f-875e-407d-a5b8-7c94382b39ab",
   "metadata": {},
   "outputs": [],
   "source": [
    "bleu = evaluate.load(\"bleu\")\n",
    "# results = bleu.compute(predictions=[final_story], references=[outline])\n",
    "# results"
   ]
  },
  {
   "cell_type": "code",
   "execution_count": 11,
   "id": "257f5a66-6e8d-4dcf-96b6-40cc9a64898f",
   "metadata": {},
   "outputs": [],
   "source": [
    "perplexity = evaluate.load(\"perplexity\", module_type=\"metric\")\n",
    "# results = perplexity.compute(predictions=[final_story], model_id='gpt2', device='cpu')\n",
    "# results"
   ]
  },
  {
   "cell_type": "code",
   "execution_count": 12,
   "id": "5a8279ef-1dfa-4e13-90e4-710703524afb",
   "metadata": {},
   "outputs": [],
   "source": [
    "rouge = evaluate.load('rouge')\n",
    "# results = rouge.compute(predictions=[final_story], references=[outline])\n",
    "# results"
   ]
  },
  {
   "cell_type": "code",
   "execution_count": 13,
   "id": "322fb837-f4ab-42d3-a025-ec1014e64abc",
   "metadata": {},
   "outputs": [],
   "source": [
    "bertscore = evaluate.load('bertscore')\n",
    "# results = bertscore.compute(predictions=[final_story], references=[outline], model_type=\"distilbert-base-uncased\")\n",
    "# results"
   ]
  },
  {
   "cell_type": "markdown",
   "id": "27375022-fa9a-4402-8a86-3a6bf0f4867a",
   "metadata": {},
   "source": [
    "### gen_stories_ada"
   ]
  },
  {
   "cell_type": "code",
   "execution_count": 14,
   "id": "9293b208-6c66-4189-b863-4291d0a171fd",
   "metadata": {},
   "outputs": [],
   "source": [
    "# eval_dict = {}"
   ]
  },
  {
   "cell_type": "code",
   "execution_count": 15,
   "id": "5c8e5f09-f070-4ae0-a7f6-6976a9cce2e3",
   "metadata": {},
   "outputs": [],
   "source": [
    "# story_col = 'gen_stories_ada'\n",
    "# eval_dict[story_col] = {}"
   ]
  },
  {
   "cell_type": "code",
   "execution_count": 16,
   "id": "4f6f3f12-ac58-46aa-885f-8d2d7336de0d",
   "metadata": {},
   "outputs": [],
   "source": [
    "# eval_dict[story_col]['bleu'] = bleu.compute(predictions=df_stories[story_col].tolist(), \n",
    "#                                  references=df_stories['outline'].tolist())\n",
    "# eval_dict[story_col]['bleu']"
   ]
  },
  {
   "cell_type": "code",
   "execution_count": 17,
   "id": "1a25f1d2-8b44-4bbe-b8cd-136dbe9c53e9",
   "metadata": {},
   "outputs": [],
   "source": [
    "# eval_dict[story_col]['perplexity'] = perplexity.compute(predictions=df_stories[story_col].tolist(), \n",
    "#                                              model_id='distilgpt2',\n",
    "#                                              device='cpu')\n",
    "# eval_dict[story_col]['perplexity']"
   ]
  },
  {
   "cell_type": "code",
   "execution_count": 18,
   "id": "7416e8e7-05d2-4d3d-8bfc-a1f75792d460",
   "metadata": {},
   "outputs": [],
   "source": [
    "# eval_dict[story_col]['rouge'] = rouge.compute(predictions=df_stories[story_col].tolist(), \n",
    "#                                    references=df_stories['outline'].tolist())\n",
    "# eval_dict[story_col]['rouge']"
   ]
  },
  {
   "cell_type": "code",
   "execution_count": 19,
   "id": "190bdb61-f845-47fe-ba66-a8fe3428017f",
   "metadata": {},
   "outputs": [],
   "source": [
    "# eval_dict[story_col]['bertscore'] = bertscore.compute(predictions=df_stories[story_col].tolist(), \n",
    "#                                            references=df_stories['outline'].tolist(), \n",
    "#                                            model_type=\"distilbert-base-uncased\")\n",
    "# eval_dict[story_col]['bertscore']"
   ]
  },
  {
   "cell_type": "code",
   "execution_count": null,
   "id": "d630a8db-0971-4608-a798-69b53619c375",
   "metadata": {},
   "outputs": [],
   "source": []
  },
  {
   "cell_type": "code",
   "execution_count": 20,
   "id": "26e04569-e86d-420d-9d54-9a53b5f4cf1f",
   "metadata": {},
   "outputs": [
    {
     "name": "stderr",
     "output_type": "stream",
     "text": [
      "Using pad_token, but it is not set yet.\n"
     ]
    },
    {
     "data": {
      "application/vnd.jupyter.widget-view+json": {
       "model_id": "3c63306130214461aada861f5338c66b",
       "version_major": 2,
       "version_minor": 0
      },
      "text/plain": [
       "  0%|          | 0/7 [00:00<?, ?it/s]"
      ]
     },
     "metadata": {},
     "output_type": "display_data"
    },
    {
     "name": "stderr",
     "output_type": "stream",
     "text": [
      "Using pad_token, but it is not set yet.\n"
     ]
    },
    {
     "data": {
      "application/vnd.jupyter.widget-view+json": {
       "model_id": "847e0950d3ad4daa9d261a0b5c7df886",
       "version_major": 2,
       "version_minor": 0
      },
      "text/plain": [
       "  0%|          | 0/7 [00:00<?, ?it/s]"
      ]
     },
     "metadata": {},
     "output_type": "display_data"
    },
    {
     "name": "stderr",
     "output_type": "stream",
     "text": [
      "Using pad_token, but it is not set yet.\n"
     ]
    },
    {
     "data": {
      "application/vnd.jupyter.widget-view+json": {
       "model_id": "91ff16a0fa1c4074b6daa8625c0a1974",
       "version_major": 2,
       "version_minor": 0
      },
      "text/plain": [
       "  0%|          | 0/7 [00:00<?, ?it/s]"
      ]
     },
     "metadata": {},
     "output_type": "display_data"
    },
    {
     "name": "stderr",
     "output_type": "stream",
     "text": [
      "Using pad_token, but it is not set yet.\n"
     ]
    },
    {
     "data": {
      "application/vnd.jupyter.widget-view+json": {
       "model_id": "aaa1b6d84f1044b9aea41e5e2b85130e",
       "version_major": 2,
       "version_minor": 0
      },
      "text/plain": [
       "  0%|          | 0/7 [00:00<?, ?it/s]"
      ]
     },
     "metadata": {},
     "output_type": "display_data"
    },
    {
     "name": "stderr",
     "output_type": "stream",
     "text": [
      "Using pad_token, but it is not set yet.\n"
     ]
    },
    {
     "data": {
      "application/vnd.jupyter.widget-view+json": {
       "model_id": "98ca0174ad5a4c2e8430e4ba057109f0",
       "version_major": 2,
       "version_minor": 0
      },
      "text/plain": [
       "  0%|          | 0/7 [00:00<?, ?it/s]"
      ]
     },
     "metadata": {},
     "output_type": "display_data"
    },
    {
     "name": "stderr",
     "output_type": "stream",
     "text": [
      "Using pad_token, but it is not set yet.\n"
     ]
    },
    {
     "data": {
      "application/vnd.jupyter.widget-view+json": {
       "model_id": "38f0600e457e477eb902274c176cefcb",
       "version_major": 2,
       "version_minor": 0
      },
      "text/plain": [
       "  0%|          | 0/7 [00:00<?, ?it/s]"
      ]
     },
     "metadata": {},
     "output_type": "display_data"
    }
   ],
   "source": [
    "eval_dict = {}\n",
    "\n",
    "reference_col = 'outline'\n",
    "# reference_col = 'gen_stories_davinci'\n",
    "story_cols = ['gen_stories_gpt2', 'gen_stories_bloomz-1b7', 'gen_stories_ada', \n",
    "              'gen_stories_babbage', 'gen_stories_curie', 'gen_stories_davinci']\n",
    "\n",
    "for story_col in story_cols:\n",
    "    eval_dict[story_col] = {}\n",
    "    eval_dict[story_col]['bleu'] = bleu.compute(predictions=df_stories[story_col].tolist(), \n",
    "                                                 references=df_stories[reference_col].tolist())\n",
    "    eval_dict[story_col]['perplexity'] = perplexity.compute(predictions=df_stories[story_col].tolist(), \n",
    "                                                 model_id='distilgpt2',\n",
    "                                                 device='cpu')\n",
    "    eval_dict[story_col]['rouge'] = rouge.compute(predictions=df_stories[story_col].tolist(), \n",
    "                                                 references=df_stories[reference_col].tolist())\n",
    "    eval_dict[story_col]['bertscore'] = bertscore.compute(predictions=df_stories[story_col].tolist(), \n",
    "                                                 references=df_stories[reference_col].tolist(), \n",
    "                                                 model_type=\"distilbert-base-uncased\")"
   ]
  },
  {
   "cell_type": "code",
   "execution_count": 21,
   "id": "8c60deb9-9007-4594-a5fe-e7e7d2932443",
   "metadata": {},
   "outputs": [],
   "source": [
    "# len(eval_dict['gen_stories_ada']['bertscore']['precision'])"
   ]
  },
  {
   "cell_type": "code",
   "execution_count": 22,
   "id": "405a64c5-d547-4f4e-9a74-1d82d8be7ed1",
   "metadata": {},
   "outputs": [],
   "source": [
    "eval_dict_cleaned = {}\n",
    "for story_col in story_cols:\n",
    "    story_col_2 = story_col.replace('gen_stories_', '')\n",
    "    eval_dict_cleaned[story_col_2] = {}\n",
    "    eval_dict_cleaned[story_col_2]['bleu'] = round(eval_dict[story_col]['bleu']['bleu'], 2)\n",
    "    eval_dict_cleaned[story_col_2]['perplexity'] = round(eval_dict[story_col]['perplexity']['mean_perplexity'], 2)\n",
    "    eval_dict_cleaned[story_col_2]['rouge1'] = round(eval_dict[story_col]['rouge']['rouge1'], 2)\n",
    "    eval_dict_cleaned[story_col_2]['rouge2'] = round(eval_dict[story_col]['rouge']['rouge2'], 2)\n",
    "    eval_dict_cleaned[story_col_2]['rougeL'] = round(eval_dict[story_col]['rouge']['rougeL'], 2)\n",
    "    eval_dict_cleaned[story_col_2]['rougeLsum'] = round(eval_dict[story_col]['rouge']['rougeLsum'], 2)\n",
    "    eval_dict_cleaned[story_col_2]['bertscore_mean_precision'] = round(np.mean(eval_dict[story_col]['bertscore']['precision']), 2)\n",
    "    eval_dict_cleaned[story_col_2]['bertscore_mean_recall'] = round(np.mean(eval_dict[story_col]['bertscore']['recall']), 2)\n",
    "    eval_dict_cleaned[story_col_2]['bertscore_mean_f1'] = round(np.mean(eval_dict[story_col]['bertscore']['f1']), 2)"
   ]
  },
  {
   "cell_type": "code",
   "execution_count": 23,
   "id": "5cfd5194-c148-4e1d-9ca5-0ca21b165b1c",
   "metadata": {},
   "outputs": [
    {
     "data": {
      "text/html": [
       "<div>\n",
       "<style scoped>\n",
       "    .dataframe tbody tr th:only-of-type {\n",
       "        vertical-align: middle;\n",
       "    }\n",
       "\n",
       "    .dataframe tbody tr th {\n",
       "        vertical-align: top;\n",
       "    }\n",
       "\n",
       "    .dataframe thead th {\n",
       "        text-align: right;\n",
       "    }\n",
       "</style>\n",
       "<table border=\"1\" class=\"dataframe\">\n",
       "  <thead>\n",
       "    <tr style=\"text-align: right;\">\n",
       "      <th></th>\n",
       "      <th>gpt2</th>\n",
       "      <th>bloomz-1b7</th>\n",
       "      <th>ada</th>\n",
       "      <th>babbage</th>\n",
       "      <th>curie</th>\n",
       "      <th>davinci</th>\n",
       "    </tr>\n",
       "  </thead>\n",
       "  <tbody>\n",
       "    <tr>\n",
       "      <th>bleu</th>\n",
       "      <td>0.01</td>\n",
       "      <td>0.22</td>\n",
       "      <td>0.19</td>\n",
       "      <td>0.21</td>\n",
       "      <td>0.16</td>\n",
       "      <td>0.07</td>\n",
       "    </tr>\n",
       "    <tr>\n",
       "      <th>perplexity</th>\n",
       "      <td>18.88</td>\n",
       "      <td>91.76</td>\n",
       "      <td>70.76</td>\n",
       "      <td>27.74</td>\n",
       "      <td>25.82</td>\n",
       "      <td>32.66</td>\n",
       "    </tr>\n",
       "    <tr>\n",
       "      <th>rouge1</th>\n",
       "      <td>0.15</td>\n",
       "      <td>0.45</td>\n",
       "      <td>0.46</td>\n",
       "      <td>0.54</td>\n",
       "      <td>0.48</td>\n",
       "      <td>0.29</td>\n",
       "    </tr>\n",
       "    <tr>\n",
       "      <th>rouge2</th>\n",
       "      <td>0.03</td>\n",
       "      <td>0.28</td>\n",
       "      <td>0.31</td>\n",
       "      <td>0.35</td>\n",
       "      <td>0.27</td>\n",
       "      <td>0.14</td>\n",
       "    </tr>\n",
       "    <tr>\n",
       "      <th>rougeL</th>\n",
       "      <td>0.10</td>\n",
       "      <td>0.37</td>\n",
       "      <td>0.38</td>\n",
       "      <td>0.44</td>\n",
       "      <td>0.38</td>\n",
       "      <td>0.23</td>\n",
       "    </tr>\n",
       "    <tr>\n",
       "      <th>rougeLsum</th>\n",
       "      <td>0.14</td>\n",
       "      <td>0.43</td>\n",
       "      <td>0.45</td>\n",
       "      <td>0.50</td>\n",
       "      <td>0.43</td>\n",
       "      <td>0.27</td>\n",
       "    </tr>\n",
       "    <tr>\n",
       "      <th>bertscore_mean_precision</th>\n",
       "      <td>0.70</td>\n",
       "      <td>0.81</td>\n",
       "      <td>0.80</td>\n",
       "      <td>0.84</td>\n",
       "      <td>0.82</td>\n",
       "      <td>0.75</td>\n",
       "    </tr>\n",
       "    <tr>\n",
       "      <th>bertscore_mean_recall</th>\n",
       "      <td>0.77</td>\n",
       "      <td>0.84</td>\n",
       "      <td>0.88</td>\n",
       "      <td>0.90</td>\n",
       "      <td>0.90</td>\n",
       "      <td>0.90</td>\n",
       "    </tr>\n",
       "    <tr>\n",
       "      <th>bertscore_mean_f1</th>\n",
       "      <td>0.73</td>\n",
       "      <td>0.82</td>\n",
       "      <td>0.84</td>\n",
       "      <td>0.87</td>\n",
       "      <td>0.86</td>\n",
       "      <td>0.82</td>\n",
       "    </tr>\n",
       "  </tbody>\n",
       "</table>\n",
       "</div>"
      ],
      "text/plain": [
       "                           gpt2  bloomz-1b7    ada  babbage  curie  davinci\n",
       "bleu                       0.01        0.22   0.19     0.21   0.16     0.07\n",
       "perplexity                18.88       91.76  70.76    27.74  25.82    32.66\n",
       "rouge1                     0.15        0.45   0.46     0.54   0.48     0.29\n",
       "rouge2                     0.03        0.28   0.31     0.35   0.27     0.14\n",
       "rougeL                     0.10        0.37   0.38     0.44   0.38     0.23\n",
       "rougeLsum                  0.14        0.43   0.45     0.50   0.43     0.27\n",
       "bertscore_mean_precision   0.70        0.81   0.80     0.84   0.82     0.75\n",
       "bertscore_mean_recall      0.77        0.84   0.88     0.90   0.90     0.90\n",
       "bertscore_mean_f1          0.73        0.82   0.84     0.87   0.86     0.82"
      ]
     },
     "execution_count": 23,
     "metadata": {},
     "output_type": "execute_result"
    }
   ],
   "source": [
    "df_eval = pd.DataFrame.from_dict(eval_dict_cleaned)\n",
    "df_eval"
   ]
  },
  {
   "cell_type": "code",
   "execution_count": 34,
   "id": "6d2ba436-89df-4e55-b711-4db53d726f27",
   "metadata": {},
   "outputs": [
    {
     "data": {
      "text/plain": [
       "<AxesSubplot: >"
      ]
     },
     "execution_count": 34,
     "metadata": {},
     "output_type": "execute_result"
    },
    {
     "data": {
      "text/plain": [
       "<matplotlib.legend.Legend at 0x7f7f2d8b4fd0>"
      ]
     },
     "execution_count": 34,
     "metadata": {},
     "output_type": "execute_result"
    },
    {
     "data": {
      "image/png": "[encoded data removed]",
      "text/plain": [
       "<Figure size 640x480 with 1 Axes>"
      ]
     },
     "metadata": {},
     "output_type": "display_data"
    }
   ],
   "source": [
    "df_eval_plot = df_eval.T.copy()\n",
    "df_eval_plot['perplexity'] = df_eval_plot['perplexity'] / 100\n",
    "# df_eval_plot['perplexity']['gpt2'] = 1\n",
    "# df_eval_plot = df_eval_plot.drop('perplexity', axis=1)\n",
    "df_eval_plot.plot()\n",
    "plt.legend(bbox_to_anchor=(1, 1))"
   ]
  },
  {
   "cell_type": "code",
   "execution_count": 33,
   "id": "4c684af1-9c1e-429e-a392-f4c464c250e2",
   "metadata": {},
   "outputs": [
    {
     "name": "stdout",
     "output_type": "stream",
     "text": [
      "huggingface/tokenizers: The current process just got forked, after parallelism has already been used. Disabling parallelism to avoid deadlocks...\n",
      "To disable this warning, you can either:\n",
      "\t- Avoid using `tokenizers` before the fork if possible\n",
      "\t- Explicitly set the environment variable TOKENIZERS_PARALLELISM=(true | false)\n"
     ]
    }
   ],
   "source": [
    "df_eval.to_clipboard()"
   ]
  },
  {
   "cell_type": "markdown",
   "id": "3d13ff5e-81ff-47fa-bb1c-c216cf09c99f",
   "metadata": {},
   "source": [
    "## Stories"
   ]
  },
  {
   "cell_type": "code",
   "execution_count": 26,
   "id": "94a7e5a2-eb97-4930-9c68-fb1a7c08f85b",
   "metadata": {},
   "outputs": [],
   "source": [
    "story_id = 11"
   ]
  },
  {
   "cell_type": "code",
   "execution_count": 27,
   "id": "1288f3e0-c91c-4728-bc94-68ed023427e3",
   "metadata": {},
   "outputs": [
    {
     "name": "stdout",
     "output_type": "stream",
     "text": [
      "Ignacio wants to play a sport while he is in college.\n",
      "Since he was a good swimmer, he decides to try out for swim the team.\n",
      "Ignacio makes it onto the team easily.\n",
      "At the first swim meet, Ignacio wins second place!\n",
      "Ignacio won a silver medal.\n"
     ]
    }
   ],
   "source": [
    "print(df_stories['outline'][story_id])"
   ]
  },
  {
   "cell_type": "code",
   "execution_count": 28,
   "id": "e9b9348e-b116-49b9-88c2-6760c7f855a0",
   "metadata": {},
   "outputs": [
    {
     "name": "stdout",
     "output_type": "stream",
     "text": [
      "This story ends at the first round of the French Open.\n",
      "The story starts with a girl as she enters a bar.\n",
      "The story ends with Ignacio's head flying in the air while he is at the bar.\n",
      "On the fourth round, Ignacio gets his bronze medal.\n",
      "On the fifth round, Ignacio gets his bronze medal.\n",
      "On the sixth round, Ignacio gets his bronze medal.\n",
      "The story ends with a story from the team.\n",
      "The story begins with a group of girls as they go to the beach in the park of Saint Pompon.\n",
      "On the sixth round, the girls are at the beach.\n",
      "On the seventh round, the girls are at the beach.\n",
      "One of them says \"This is great, I'm very happy.\"\n",
      "The next moment, Ignacio's body is in a pool.\n",
      "The next moment, he is floating under the water.\n",
      "There is a very awkward moment in the story. The story ends with a girl saying \"A very proud girl\" when the girl says \"I'm very proud of you.\"\n",
      "Here are a few interesting things:\n",
      "The story starts in Saint Pompon.\n",
      "The story ends with a short story.\n",
      "And here is a short story:\n"
     ]
    }
   ],
   "source": [
    "print(df_stories['gen_stories_gpt2'][story_id])"
   ]
  },
  {
   "cell_type": "code",
   "execution_count": 29,
   "id": "7a575ab5-18e5-48a3-95df-9905c15284ce",
   "metadata": {},
   "outputs": [
    {
     "name": "stdout",
     "output_type": "stream",
     "text": [
      "At the first meet, Ignacio swims very well. He runs well. He does not take any risks and wins easily. The team is very surprised by his performance at the first swim meet. Ignacio does not take any risks and wins easily. The team is very surprised by his performance at the first swim meet.</s>\n"
     ]
    }
   ],
   "source": [
    "print(df_stories['gen_stories_bloomz-1b7'][story_id])"
   ]
  },
  {
   "cell_type": "code",
   "execution_count": 30,
   "id": "c8ed51c8-3ac6-43b2-b194-5d8018dc7255",
   "metadata": {},
   "outputs": [
    {
     "name": "stdout",
     "output_type": "stream",
     "text": [
      "\n",
      "\n",
      " Ignacio is in college and he's a swimmer. He wants to play a sport, so he tries out for the team. He makes it onto the team easily. At the first swim meet, Ignacio wins second place! This makes him very proud and he is very excited to finally be playing in a competition!\n"
     ]
    }
   ],
   "source": [
    "print(df_stories['gen_stories_ada'][story_id])"
   ]
  },
  {
   "cell_type": "code",
   "execution_count": 31,
   "id": "e14c23e8-7e32-4da1-bb35-817546a047aa",
   "metadata": {},
   "outputs": [
    {
     "name": "stdout",
     "output_type": "stream",
     "text": [
      "\n",
      "\n",
      "Ignacio was so excited to try out for swim the team his first year of college. He quickly made it onto the team and excelled, winning second place in his division. The next meet, Ignacio won a silver medal. This continued to go well for him as he won more medals and cups until finally he set the world record in a major event. With this new record, Ignacio became an expert swimmer and was able to secure a scholarship tocollege.\n"
     ]
    }
   ],
   "source": [
    "print(df_stories['gen_stories_babbage'][story_id])"
   ]
  },
  {
   "cell_type": "code",
   "execution_count": 35,
   "id": "d5608647-cb6f-49a5-bfe7-7753f6fff096",
   "metadata": {},
   "outputs": [
    {
     "name": "stdout",
     "output_type": "stream",
     "text": [
      "\n",
      "\n",
      "Ignacio loved swimming ever since he was able to swim competently. He had always wanted to try out for a swim team, so when he saw an opportunity to do so while in college, he took it. He made it onto the team easily and at the first swim meet, he won second place! Ignacio was ecstatic and thrilled with his win. However, his joy was short-lived as he learned that he had also won a silver medal. This made him even more proud of himself and gave him a boost of confidence for future swim meets.\n"
     ]
    }
   ],
   "source": [
    "print(df_stories['gen_stories_curie'][story_id])"
   ]
  },
  {
   "cell_type": "code",
   "execution_count": 32,
   "id": "4f96aacd-8880-46d1-87ae-b597450bce10",
   "metadata": {},
   "outputs": [
    {
     "name": "stdout",
     "output_type": "stream",
     "text": [
      "\n",
      "Ignacio had been considering playing a sport in college. He had played sports in high school, but swimming was always his favorite. With that in mind, he decided to try out for the swim team at his college.\n",
      "\n",
      "When Ignacio arrived for the tryouts, he saw several swimmers already competing and knew it would be tough competition. However, Ignacio was a good swimmer and performed well during the tryouts. After being evaluated by the coach and showing off his skills in the pool, Ignacio made it onto the team easily. \n",
      "\n",
      "At their first swim meet of the season, everyone was excited to see what they could do as a team. There were some excellent swimmers competing against them, so everyone on the team knew they had their work cut out for them! During one of his events, Ignacio amazed everyone when he came in second place! Everyone cheered him on as he won a silver medal and brought pride to his team. \n",
      "\n",
      "Ignacio was proud of himself for making it onto an elite college swim team and doing so well at their first meet of the year - not many people can say that! He now looked forward to pushing himself even further with this new opportunity that presented itself before him.\n"
     ]
    }
   ],
   "source": [
    "print(df_stories['gen_stories_davinci'][story_id])"
   ]
  },
  {
   "cell_type": "code",
   "execution_count": null,
   "id": "72fdac1d-f269-40b6-82f9-8d6b6c242ece",
   "metadata": {},
   "outputs": [],
   "source": []
  },
  {
   "cell_type": "markdown",
   "id": "0fef3304-52db-4b12-a766-b2a7b450e8b3",
   "metadata": {},
   "source": [
    "## Stories - 2"
   ]
  },
  {
   "cell_type": "code",
   "execution_count": 42,
   "id": "77bf6686-e08d-4df9-8de5-3c01a5bce557",
   "metadata": {},
   "outputs": [],
   "source": [
    "story_id = 15"
   ]
  },
  {
   "cell_type": "code",
   "execution_count": 43,
   "id": "8019b103-f068-43ad-8a37-5eaf9c4fe944",
   "metadata": {},
   "outputs": [
    {
     "name": "stdout",
     "output_type": "stream",
     "text": [
      "Jesse had just started fifth grade.\n",
      "He tried to make friends with the other boys, but he couldn't.\n",
      "He decided to make friends with the girls instead.\n",
      "They girls welcomed him into their social groups happily.\n",
      "Jesse was picked on by the other boys in school.\n"
     ]
    }
   ],
   "source": [
    "print(df_stories['outline'][story_id])"
   ]
  },
  {
   "cell_type": "code",
   "execution_count": 44,
   "id": "4f519a73-da6e-49d0-81de-6f42770c3f23",
   "metadata": {},
   "outputs": [
    {
     "name": "stdout",
     "output_type": "stream",
     "text": [
      "The other boys tried to take advantage of him, but Jesse just ignored them.\n",
      "The boy who did this started to bully the girl who was doing the bullying.\n",
      "Then there was the boy who did all of this, with the assistance of Jesse's father.\n",
      "As he started getting more and more friends, the boy started to bully Jesse, but he never hit his partner.\n",
      "The girl who had started this bullying had been fighting to get Jesse to stop, and the boy began to fight to get her to stop, and he didn't.\n",
      "But this did not stop his behavior from escalating.\n",
      "But eventually, Jesse would start to get the girl to stop, and the boy would attack her.\n",
      "After this, the girl and Jesse started to fight, but when Jesse started to fight back, he got up and started hitting her.\n",
      "Jesse, his father, and the other girls in the girls group became friends, because they all knew how much they liked each other and how much they knew each other.\n",
      "Jesse started to lose friends, and he started to get worse.\n",
      "They were friends that Jesse always had.\n",
      "They always knew each other, but Jesse was losing friends because he did things that he shouldn't have. He got up and started hitting people, but when he did, he didn't hit the girl he was standing over.\n",
      "He was hurting people in front of him, and he was hurting him in front of a girl he didn't care about.\n",
      "But now that the girl he was standing over was a girl he cared about, the boy he was punching, he could do something to her.\n",
      "He would punch and punch and punch and punch.\n",
      "He did not even know the girl he was standing over, nor did he care that she was his girlfriend.\n",
      "But when the girl he was fighting in front of her got punched in the face, he punched her in the face and the girl he was punching got punched in the face.\n",
      "The boy that was doing the bullying had become friends with her, and the girl that he was punching had become friends with his parents, and the boy that was punching got kicked in the face by the bullies.\n",
      "The girl that was fighting with the boys was just a friend.\n",
      "But now that the girl he was standing over was a girl that he cared about, the boy he was punching, he could do something to her, and the girl he was punching got kicked\n"
     ]
    }
   ],
   "source": [
    "print(df_stories['gen_stories_gpt2'][story_id])"
   ]
  },
  {
   "cell_type": "code",
   "execution_count": 45,
   "id": "aea8b097-2991-4b23-b59b-2c6679374271",
   "metadata": {},
   "outputs": [
    {
     "name": "stdout",
     "output_type": "stream",
     "text": [
      "Jesse went home and cried. The girls and the other boys started laughing at him.\n",
      "He decided to make friends with the girls instead. They girls welcomed him into their social groups happily.</s>\n"
     ]
    }
   ],
   "source": [
    "print(df_stories['gen_stories_bloomz-1b7'][story_id])"
   ]
  },
  {
   "cell_type": "code",
   "execution_count": 46,
   "id": "202e20e4-cc4a-46cd-a67d-ef30e8192553",
   "metadata": {},
   "outputs": [
    {
     "name": "stdout",
     "output_type": "stream",
     "text": [
      "\n",
      "\n",
      "Jesse had tried his best to make friends with the other boys in school, but he just couldn't.\n",
      "The other boys picked on him and it was just another thing that made his life harder.\n",
      "But when he went to their girls' schools, they wereidently doing better.\n",
      "Jesse decided to make some new friends at a social group for girls and he was holes into them happily.\n",
      " Jesse loved spending time with his new friends and he loved being one of the only girls in the group.\n"
     ]
    }
   ],
   "source": [
    "print(df_stories['gen_stories_ada'][story_id])"
   ]
  },
  {
   "cell_type": "code",
   "execution_count": 47,
   "id": "54b7e76f-2eb0-4395-bd69-c2249bd0e7d7",
   "metadata": {},
   "outputs": [
    {
     "name": "stdout",
     "output_type": "stream",
     "text": [
      "\n",
      "\n",
      "Jesse tried to make friends with the other boys in school, but he couldn't. He decided to make friends with the girls instead. They girls welcomed him into their social groups happily. The other boys in school started picking on Jesse and making fun of him. Jesse felt left out and abandoned by the girls.\n"
     ]
    }
   ],
   "source": [
    "print(df_stories['gen_stories_babbage'][story_id])"
   ]
  },
  {
   "cell_type": "code",
   "execution_count": 48,
   "id": "94d25c50-9295-4233-92bd-519f8d13a065",
   "metadata": {},
   "outputs": [
    {
     "name": "stdout",
     "output_type": "stream",
     "text": [
      "\n",
      "\n",
      "Jesse had always been a shy guy. He was worried that he wouldn't be able to make friends and fit in with the other boys in his class. But, after some trial and error, Jesse realized that making friends with the girls was the best strategy for him. They welcomed him warmly into their groups and didn't treat him like he was an outsider. Jesse learned that it's important to have both male and female friends to feel comfortable in any social setting. As long as Jesse maintains a healthy balance of male and female friends, he'll be sure to have a positive social experience no matter where he goes in life.\n"
     ]
    }
   ],
   "source": [
    "print(df_stories['gen_stories_curie'][story_id])"
   ]
  },
  {
   "cell_type": "code",
   "execution_count": 49,
   "id": "8d95da76-e522-4854-bedd-a8c6da335ec1",
   "metadata": {},
   "outputs": [
    {
     "name": "stdout",
     "output_type": "stream",
     "text": [
      "\n",
      "Jesse had just started fifth grade. He was the new kid and he wasn't sure how to fit in. He tried to make friends with the other boys, but they weren't too receptive of him. No matter how hard Jesse tried, it seemed that the boys always treated him with cold indifference which left him feeling lonely and isolated. \n",
      "\n",
      "Desperate for companionship, Jesse decided to try a different approach; he decided to make friends with the girls instead. Surprisingly, the girls welcomed him into their social groups happily without any hesitation or judgement. Soon enough, Jesse found himself surrounded by a group of kind and caring female friends who genuinely wanted what was best for him and accepted him for who he was.\n",
      "\n",
      "Unfortunately, even though things were going well for Jesse on one front, he still faced challenges from his male classmates at school. The other boys consistently gave Jesse a hard time about being in the company of girls rather than them leading to some pretty shameful moments for poor Jesse in class - especially when it came down to sports day or having lunch together at school where all of his peers could witness his exclusion from their group first hand. Despite this however,Jesse remained determined not let anything stand in between himself and his newfound friendships with these brave young ladies before him - no matter what happened next.\n"
     ]
    }
   ],
   "source": [
    "print(df_stories['gen_stories_davinci'][story_id])"
   ]
  },
  {
   "cell_type": "code",
   "execution_count": null,
   "id": "8e9fc511-048b-49cf-a257-4393180c9c5c",
   "metadata": {},
   "outputs": [],
   "source": []
  }
 ],
 "metadata": {
  "kernelspec": {
   "display_name": "Python 3 (ipykernel)",
   "language": "python",
   "name": "python3"
  },
  "language_info": {
   "codemirror_mode": {
    "name": "ipython",
    "version": 3
   },
   "file_extension": ".py",
   "mimetype": "text/x-python",
   "name": "python",
   "nbconvert_exporter": "python",
   "pygments_lexer": "ipython3",
   "version": "3.9.16"
  }
 },
 "nbformat": 4,
 "nbformat_minor": 5
}
