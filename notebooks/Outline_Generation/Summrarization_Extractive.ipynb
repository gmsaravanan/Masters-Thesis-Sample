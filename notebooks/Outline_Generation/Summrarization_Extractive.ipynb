{
 "cells": [
  {
   "cell_type": "code",
   "execution_count": 1,
   "id": "9a336d06-c047-49ef-a89f-fc8d340a782c",
   "metadata": {},
   "outputs": [],
   "source": [
    "import gensim"
   ]
  },
  {
   "cell_type": "code",
   "execution_count": 1,
   "id": "69414ab3-fd54-440f-b195-0939447cb106",
   "metadata": {},
   "outputs": [
    {
     "name": "stdout",
     "output_type": "stream",
     "text": [
      "\n",
      "Mr. and Mrs. Dursley, of number four, Privet Drive, were proud to say that they were perfectly normal, thank you very much. They were the last people you’d expect to be involved in anything strange or mysterious, because they just didn’t hold with such nonsense.\n",
      "\n",
      "Mr. Dursley was the director of a firm called Grunnings, which made drills. He was a big, beefy man with hardly any neck, although he did have a very large mustache. Mrs. Dursley was thin and blonde and had nearly twice the usual amount of neck, which came in very useful as she spent so much of her time craning over garden fences, spying on the neighbors. The Dursleys had a small son called Dudley and in their opinion there was no finer boy anywhere.\n",
      "\n",
      "The Dursleys had everything they wanted, but they also had a secret, and their greatest fear was that somebody would discover it. They didn’t think they could bear it if anyone found out about the Potters. Mrs. Potter was Mrs. Dursley’s sister, but they hadn’t met for several years; in fact, Mrs. Dursley pretended she didn’t have a sister, because her sister and her good-for-nothing husband were as unDursleyish as it was possible to be. The Dursleys shuddered to think what the neighbors would say if the Potters arrived in the street. The Dursleys knew that the Potters had a small son, too, but they had never even seen him. This boy was another good reason for keeping the Potters away; they didn’t want Dudley mixing with a child like that.\n",
      "\n"
     ]
    }
   ],
   "source": [
    "text1 = \"\"\"\n",
    "Mr. and Mrs. Dursley, of number four, Privet Drive, were proud to say that they were perfectly normal, thank you very much. They were the last people you’d expect to be involved in anything strange or mysterious, because they just didn’t hold with such nonsense.\n",
    "\n",
    "Mr. Dursley was the director of a firm called Grunnings, which made drills. He was a big, beefy man with hardly any neck, although he did have a very large mustache. Mrs. Dursley was thin and blonde and had nearly twice the usual amount of neck, which came in very useful as she spent so much of her time craning over garden fences, spying on the neighbors. The Dursleys had a small son called Dudley and in their opinion there was no finer boy anywhere.\n",
    "\n",
    "The Dursleys had everything they wanted, but they also had a secret, and their greatest fear was that somebody would discover it. They didn’t think they could bear it if anyone found out about the Potters. Mrs. Potter was Mrs. Dursley’s sister, but they hadn’t met for several years; in fact, Mrs. Dursley pretended she didn’t have a sister, because her sister and her good-for-nothing husband were as unDursleyish as it was possible to be. The Dursleys shuddered to think what the neighbors would say if the Potters arrived in the street. The Dursleys knew that the Potters had a small son, too, but they had never even seen him. This boy was another good reason for keeping the Potters away; they didn’t want Dudley mixing with a child like that.\n",
    "\"\"\"\n",
    "print(text1)"
   ]
  },
  {
   "cell_type": "code",
   "execution_count": 2,
   "id": "ad4bf1d9-549c-437a-8ae1-a3bd106fe90c",
   "metadata": {},
   "outputs": [
    {
     "name": "stdout",
     "output_type": "stream",
     "text": [
      "\n",
      "Once, there was a boy who became bored when he watched over the village sheep grazing on the hillside. To entertain himself, he sang out, “Wolf! Wolf! The wolf is chasing the sheep!”\n",
      "\n",
      "When the villagers heard the cry, they came running up the hill to drive the wolf away. But, when they arrived, they saw no wolf. The boy was amused when seeing their angry faces.\n",
      "\n",
      "“Don’t scream wolf, boy,” warned the villagers, “when there is no wolf!” They angrily went back down the hill.\n",
      "\n",
      "Later, the shepherd boy cried out once again, “Wolf! Wolf! The wolf is chasing the sheep!” To his amusement, he looked on as the villagers came running up the hill to scare the wolf away.\n",
      "\n",
      "As they saw there was no wolf, they said strictly, “Save your frightened cry for when there really is a wolf! Don’t cry ‘wolf’ when there is no wolf!” But the boy grinned at their words while they walked grumbling down the hill once more.\n",
      "\n",
      "Later, the boy saw a real wolf sneaking around his flock. Alarmed, he jumped on his feet and cried out as loud as he could, “Wolf! Wolf!” But the villagers thought he was fooling them again, and so they didn’t come to help.\n",
      "\n",
      "At sunset, the villagers went looking for the boy who hadn’t returned with their sheep. When they went up the hill, they found him weeping.\n",
      "\n",
      "“There really was a wolf here! The flock is gone! I cried out, ‘Wolf!’ but you didn’t come,” he wailed.\n",
      "\n",
      "An old man went to comfort the boy. As he put his arm around him, he said, “Nobody believes a liar, even when he is telling the truth!”\n",
      "\n"
     ]
    }
   ],
   "source": [
    "text2 = \"\"\"\n",
    "Once, there was a boy who became bored when he watched over the village sheep grazing on the hillside. To entertain himself, he sang out, “Wolf! Wolf! The wolf is chasing the sheep!”\n",
    "\n",
    "When the villagers heard the cry, they came running up the hill to drive the wolf away. But, when they arrived, they saw no wolf. The boy was amused when seeing their angry faces.\n",
    "\n",
    "“Don’t scream wolf, boy,” warned the villagers, “when there is no wolf!” They angrily went back down the hill.\n",
    "\n",
    "Later, the shepherd boy cried out once again, “Wolf! Wolf! The wolf is chasing the sheep!” To his amusement, he looked on as the villagers came running up the hill to scare the wolf away.\n",
    "\n",
    "As they saw there was no wolf, they said strictly, “Save your frightened cry for when there really is a wolf! Don’t cry ‘wolf’ when there is no wolf!” But the boy grinned at their words while they walked grumbling down the hill once more.\n",
    "\n",
    "Later, the boy saw a real wolf sneaking around his flock. Alarmed, he jumped on his feet and cried out as loud as he could, “Wolf! Wolf!” But the villagers thought he was fooling them again, and so they didn’t come to help.\n",
    "\n",
    "At sunset, the villagers went looking for the boy who hadn’t returned with their sheep. When they went up the hill, they found him weeping.\n",
    "\n",
    "“There really was a wolf here! The flock is gone! I cried out, ‘Wolf!’ but you didn’t come,” he wailed.\n",
    "\n",
    "An old man went to comfort the boy. As he put his arm around him, he said, “Nobody believes a liar, even when he is telling the truth!”\n",
    "\"\"\"\n",
    "print(text2)"
   ]
  },
  {
   "cell_type": "code",
   "execution_count": 7,
   "id": "e5018665-abb4-4381-8c3c-08774fe4f41a",
   "metadata": {},
   "outputs": [],
   "source": [
    "def textrank(corpus, ratio=0.2):    \n",
    "    if type(corpus) is str:        \n",
    "        corpus = [corpus]    \n",
    "    lst_summaries = [gensim.summarization.summarize(txt,  \n",
    "                        ratio=ratio) for txt in corpus]    \n",
    "    return lst_summaries"
   ]
  },
  {
   "cell_type": "code",
   "execution_count": 8,
   "id": "495b30ca-1964-4831-bc8f-e85a7e94bf18",
   "metadata": {},
   "outputs": [
    {
     "ename": "AttributeError",
     "evalue": "module 'gensim' has no attribute 'summarization'",
     "output_type": "error",
     "traceback": [
      "\u001b[0;31m---------------------------------------------------------------------------\u001b[0m",
      "\u001b[0;31mAttributeError\u001b[0m                            Traceback (most recent call last)",
      "Cell \u001b[0;32mIn[8], line 1\u001b[0m\n\u001b[0;32m----> 1\u001b[0m predicted \u001b[38;5;241m=\u001b[39m \u001b[43mtextrank\u001b[49m\u001b[43m(\u001b[49m\u001b[43mcorpus\u001b[49m\u001b[38;5;241;43m=\u001b[39;49m\u001b[43m[\u001b[49m\u001b[43mtext1\u001b[49m\u001b[43m,\u001b[49m\u001b[43m \u001b[49m\u001b[43mtext2\u001b[49m\u001b[43m]\u001b[49m\u001b[43m,\u001b[49m\u001b[43m \u001b[49m\u001b[43mratio\u001b[49m\u001b[38;5;241;43m=\u001b[39;49m\u001b[38;5;241;43m0.2\u001b[39;49m\u001b[43m)\u001b[49m\n\u001b[1;32m      2\u001b[0m predicted\n",
      "Cell \u001b[0;32mIn[7], line 4\u001b[0m, in \u001b[0;36mtextrank\u001b[0;34m(corpus, ratio)\u001b[0m\n\u001b[1;32m      2\u001b[0m \u001b[38;5;28;01mif\u001b[39;00m \u001b[38;5;28mtype\u001b[39m(corpus) \u001b[38;5;129;01mis\u001b[39;00m \u001b[38;5;28mstr\u001b[39m:        \n\u001b[1;32m      3\u001b[0m     corpus \u001b[38;5;241m=\u001b[39m [corpus]    \n\u001b[0;32m----> 4\u001b[0m lst_summaries \u001b[38;5;241m=\u001b[39m [gensim\u001b[38;5;241m.\u001b[39msummarization\u001b[38;5;241m.\u001b[39msummarize(txt,  \n\u001b[1;32m      5\u001b[0m                     ratio\u001b[38;5;241m=\u001b[39mratio) \u001b[38;5;28;01mfor\u001b[39;00m txt \u001b[38;5;129;01min\u001b[39;00m corpus]    \n\u001b[1;32m      6\u001b[0m \u001b[38;5;28;01mreturn\u001b[39;00m lst_summaries\n",
      "Cell \u001b[0;32mIn[7], line 4\u001b[0m, in \u001b[0;36m<listcomp>\u001b[0;34m(.0)\u001b[0m\n\u001b[1;32m      2\u001b[0m \u001b[38;5;28;01mif\u001b[39;00m \u001b[38;5;28mtype\u001b[39m(corpus) \u001b[38;5;129;01mis\u001b[39;00m \u001b[38;5;28mstr\u001b[39m:        \n\u001b[1;32m      3\u001b[0m     corpus \u001b[38;5;241m=\u001b[39m [corpus]    \n\u001b[0;32m----> 4\u001b[0m lst_summaries \u001b[38;5;241m=\u001b[39m [\u001b[43mgensim\u001b[49m\u001b[38;5;241;43m.\u001b[39;49m\u001b[43msummarization\u001b[49m\u001b[38;5;241m.\u001b[39msummarize(txt,  \n\u001b[1;32m      5\u001b[0m                     ratio\u001b[38;5;241m=\u001b[39mratio) \u001b[38;5;28;01mfor\u001b[39;00m txt \u001b[38;5;129;01min\u001b[39;00m corpus]    \n\u001b[1;32m      6\u001b[0m \u001b[38;5;28;01mreturn\u001b[39;00m lst_summaries\n",
      "\u001b[0;31mAttributeError\u001b[0m: module 'gensim' has no attribute 'summarization'"
     ]
    }
   ],
   "source": [
    "predicted = textrank(corpus=[text1, text2], ratio=0.2)\n",
    "predicted"
   ]
  },
  {
   "cell_type": "code",
   "execution_count": null,
   "id": "77171969-77f4-4eec-ab5b-eaf4a7bc0e55",
   "metadata": {},
   "outputs": [
    {
     "data": {
      "text/plain": [
       "'4.3.0'"
      ]
     },
     "execution_count": 9,
     "metadata": {},
     "output_type": "execute_result"
    }
   ],
   "source": [
    "gensim.__version__"
   ]
  },
  {
   "cell_type": "code",
   "execution_count": 21,
   "id": "178ccb68-5309-4117-bb70-beb7927cb201",
   "metadata": {},
   "outputs": [],
   "source": [
    "# from rake_nltk import Rake\n",
    "\n",
    "# # Uses stopwords for english from NLTK, and all puntuation characters by default\n",
    "# r = Rake(ranking_metric=None)\n",
    "\n",
    "# # Extraction given the text.\n",
    "# r.extract_keywords_from_text(text1)\n",
    "\n",
    "# r.get_word_degrees()"
   ]
  },
  {
   "cell_type": "code",
   "execution_count": 23,
   "id": "b32a8d52-d016-4b92-b5a0-1988fecaf2a6",
   "metadata": {},
   "outputs": [],
   "source": [
    "# import spacy\n",
    "# import pytextrank\n",
    "\n",
    "# # load a spaCy model, depending on language, scale, etc.\n",
    "# nlp = spacy.load(\"en_core_web_trf\")\n",
    "\n",
    "# # add PyTextRank to the spaCy pipeline\n",
    "# nlp.add_pipe(\"textrank\")\n",
    "# doc = nlp(text1)\n",
    "\n",
    "# # examine the top-ranked phrases in the document\n",
    "# for phrase in doc._.phrases:\n",
    "#     print(phrase.text)\n",
    "#     print(phrase.rank, phrase.count)\n",
    "#     print(phrase.chunks)"
   ]
  },
  {
   "cell_type": "code",
   "execution_count": 29,
   "id": "ab9e73d5-5257-4b1c-a0d3-9f9e650e254b",
   "metadata": {},
   "outputs": [],
   "source": [
    "# import RAKE\n",
    "\n",
    "# r = RAKE.Rake(stop_words='/home/pparesh/nltk_data/corpora/stopwords/english')\n",
    "\n",
    "# r.run(text1)"
   ]
  },
  {
   "cell_type": "code",
   "execution_count": 6,
   "id": "d53ebeb3-4a3a-4b57-bbf8-10007b6008a7",
   "metadata": {},
   "outputs": [],
   "source": [
    "from nlp_rake import rake\n",
    "\n",
    "stopwords_filepath = '/home/pparesh/nltk_data/corpora/stopwords/english'\n",
    "# sentenceList = rake.split_sentences(text1)\n",
    "# stopwordpattern = rake.build_stop_word_regex(stopwords_filepath)\n",
    "# phraseList = rake.generate_candidate_keywords(sentenceList, stopwordpattern, stop_word_list=[], min_phrase_freq_adj=1, max_words_length_adj=1, min_words_length_adj=1)\n",
    "# phraseList"
   ]
  },
  {
   "cell_type": "code",
   "execution_count": 10,
   "id": "29774cab-7809-427b-8bb2-3ba501b792aa",
   "metadata": {},
   "outputs": [
    {
     "data": {
      "text/plain": [
       "{'boy': 1.5,\n",
       " 'became bored': 4.0,\n",
       " 'watched': 1.0,\n",
       " 'village sheep grazing': 7.5,\n",
       " 'hillside': 1.0,\n",
       " 'entertain': 1.0,\n",
       " 'sang': 1.0,\n",
       " '“wolf': 1.35,\n",
       " 'wolf': 1.35,\n",
       " 'chasing': 1.0,\n",
       " 'sheep': 1.5,\n",
       " 'villagers heard': 4.2,\n",
       " 'cry': 1.6666666666666667,\n",
       " 'came running': 5.0,\n",
       " 'hill': 1.0,\n",
       " 'drive': 1.0,\n",
       " 'wolf away': 3.35,\n",
       " 'arrived': 1.0,\n",
       " 'saw': 1.3333333333333333,\n",
       " 'amused': 1.0,\n",
       " 'seeing': 1.0,\n",
       " 'angry faces': 4.0,\n",
       " 'scream wolf': 3.35,\n",
       " '” warned': 1.0,\n",
       " 'villagers': 2.2,\n",
       " 'angrily went back': 8.5,\n",
       " 'later': 1.0,\n",
       " 'shepherd boy cried': 6.166666666666667,\n",
       " 'amusement': 1.0,\n",
       " 'looked': 1.0,\n",
       " 'villagers came running': 7.2,\n",
       " 'scare': 1.0,\n",
       " 'said strictly': 3.5,\n",
       " '“save': 1.0,\n",
       " 'frightened cry': 3.666666666666667,\n",
       " 'really': 1.0,\n",
       " 'cry ‘wolf': 3.0166666666666666,\n",
       " 'boy grinned': 3.5,\n",
       " 'words': 1.0,\n",
       " 'walked grumbling': 4.0,\n",
       " 'boy saw': 2.833333333333333,\n",
       " 'real wolf sneaking around': 12.35,\n",
       " 'flock': 1.0,\n",
       " 'alarmed': 1.0,\n",
       " 'jumped': 1.0,\n",
       " 'feet': 1.0,\n",
       " 'cried': 1.6666666666666667,\n",
       " 'loud': 1.0,\n",
       " 'could': 1.0,\n",
       " 'villagers thought': 4.2,\n",
       " 'fooling': 1.0,\n",
       " 'come': 1.0,\n",
       " 'help': 1.0,\n",
       " 'sunset': 1.0,\n",
       " 'villagers went looking': 7.7,\n",
       " 'returned': 1.0,\n",
       " 'went': 2.5,\n",
       " 'found': 1.0,\n",
       " 'weeping': 1.0,\n",
       " 'gone': 1.0,\n",
       " '‘wolf': 1.35,\n",
       " 'wailed': 1.0,\n",
       " 'old man went': 8.5,\n",
       " 'comfort': 1.0,\n",
       " 'put': 1.0,\n",
       " 'arm around': 5.0,\n",
       " 'said': 1.5,\n",
       " '“nobody believes': 4.0,\n",
       " 'liar': 1.0,\n",
       " 'even': 1.0,\n",
       " 'telling': 1.0,\n",
       " 'truth': 1.0}"
      ]
     },
     "execution_count": 10,
     "metadata": {},
     "output_type": "execute_result"
    }
   ],
   "source": [
    "rake_object = rake.Rake(stopwords_filepath)\n",
    "keywords = rake_object.run(text2, sort=False)\n",
    "keywords"
   ]
  },
  {
   "cell_type": "code",
   "execution_count": 11,
   "id": "0fd28cbe-98bb-426c-bce5-3d35662e53d4",
   "metadata": {},
   "outputs": [
    {
     "data": {
      "text/plain": [
       "{'boy': 1.5,\n",
       " 'became bored': 4.0,\n",
       " 'village sheep grazing': 7.5,\n",
       " '“wolf': 1.35,\n",
       " 'wolf': 1.35,\n",
       " 'sheep': 1.5,\n",
       " 'villagers heard': 4.2,\n",
       " 'cry': 1.6666666666666667,\n",
       " 'came running': 5.0,\n",
       " 'wolf away': 3.35,\n",
       " 'saw': 1.3333333333333333,\n",
       " 'angry faces': 4.0,\n",
       " 'scream wolf': 3.35,\n",
       " 'villagers': 2.2,\n",
       " 'angrily went back': 8.5,\n",
       " 'shepherd boy cried': 6.166666666666667,\n",
       " 'villagers came running': 7.2,\n",
       " 'said strictly': 3.5,\n",
       " 'frightened cry': 3.666666666666667,\n",
       " 'cry ‘wolf': 3.0166666666666666,\n",
       " 'boy grinned': 3.5,\n",
       " 'walked grumbling': 4.0,\n",
       " 'boy saw': 2.833333333333333,\n",
       " 'real wolf sneaking around': 12.35,\n",
       " 'cried': 1.6666666666666667,\n",
       " 'villagers thought': 4.2,\n",
       " 'villagers went looking': 7.7,\n",
       " 'went': 2.5,\n",
       " '‘wolf': 1.35,\n",
       " 'old man went': 8.5,\n",
       " 'arm around': 5.0,\n",
       " 'said': 1.5,\n",
       " '“nobody believes': 4.0}"
      ]
     },
     "execution_count": 11,
     "metadata": {},
     "output_type": "execute_result"
    }
   ],
   "source": [
    "{k:v for k, v in keywords.items() if v > 1}"
   ]
  },
  {
   "cell_type": "code",
   "execution_count": 16,
   "id": "06dffac9-b868-4cd2-9c98-e6e47664467c",
   "metadata": {},
   "outputs": [
    {
     "data": {
      "text/plain": [
       "['Wolf!',\n",
       " '“Don’t scream wolf, boy,” warned the villagers, “when there is no wolf!” They angrily went back down the hill.',\n",
       " 'Wolf!',\n",
       " 'The wolf is chasing the sheep!” To his amusement, he looked on as the villagers came running up the hill to scare the wolf away.',\n",
       " 'Don’t cry ‘wolf’ when there is no wolf!” But the boy grinned at their words while they walked grumbling down the hill once more.',\n",
       " 'Later, the boy saw a real wolf sneaking around his flock.']"
      ]
     },
     "execution_count": 16,
     "metadata": {},
     "output_type": "execute_result"
    }
   ],
   "source": [
    "from summa.summarizer import summarize\n",
    "summarize(text2, ratio=0.3, split=True)"
   ]
  },
  {
   "cell_type": "code",
   "execution_count": null,
   "id": "2fa4732c-bd58-420d-95f4-f18ec5e5a4ae",
   "metadata": {},
   "outputs": [],
   "source": []
  }
 ],
 "metadata": {
  "kernelspec": {
   "display_name": "Python 3 (ipykernel)",
   "language": "python",
   "name": "python3"
  },
  "language_info": {
   "codemirror_mode": {
    "name": "ipython",
    "version": 3
   },
   "file_extension": ".py",
   "mimetype": "text/x-python",
   "name": "python",
   "nbconvert_exporter": "python",
   "pygments_lexer": "ipython3",
   "version": "3.9.16"
  }
 },
 "nbformat": 4,
 "nbformat_minor": 5
}
