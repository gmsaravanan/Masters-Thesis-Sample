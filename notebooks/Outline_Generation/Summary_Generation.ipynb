{
 "cells": [
  {
   "cell_type": "code",
   "execution_count": 12,
   "id": "e80464a3-9c3a-4143-84dc-6741c7263ded",
   "metadata": {},
   "outputs": [],
   "source": [
    "from transformers import AutoTokenizer, AutoModelForSeq2SeqLM\n",
    "from transformers import pipeline\n",
    "import numpy as np"
   ]
  },
  {
   "cell_type": "code",
   "execution_count": 2,
   "id": "baf4d6c6-fdb3-427b-9d03-74684dd013f0",
   "metadata": {},
   "outputs": [
    {
     "name": "stdout",
     "output_type": "stream",
     "text": [
      "\n",
      "Mr. and Mrs. Dursley, of number four, Privet Drive, were proud to say that they were perfectly normal, thank you very much. They were the last people you’d expect to be involved in anything strange or mysterious, because they just didn’t hold with such nonsense.\n",
      "\n",
      "Mr. Dursley was the director of a firm called Grunnings, which made drills. He was a big, beefy man with hardly any neck, although he did have a very large mustache. Mrs. Dursley was thin and blonde and had nearly twice the usual amount of neck, which came in very useful as she spent so much of her time craning over garden fences, spying on the neighbors. The Dursleys had a small son called Dudley and in their opinion there was no finer boy anywhere.\n",
      "\n",
      "The Dursleys had everything they wanted, but they also had a secret, and their greatest fear was that somebody would discover it. They didn’t think they could bear it if anyone found out about the Potters. Mrs. Potter was Mrs. Dursley’s sister, but they hadn’t met for several years; in fact, Mrs. Dursley pretended she didn’t have a sister, because her sister and her good-for-nothing husband were as unDursleyish as it was possible to be. The Dursleys shuddered to think what the neighbors would say if the Potters arrived in the street. The Dursleys knew that the Potters had a small son, too, but they had never even seen him. This boy was another good reason for keeping the Potters away; they didn’t want Dudley mixing with a child like that.\n",
      "\n"
     ]
    }
   ],
   "source": [
    "text1 = \"\"\"\n",
    "Mr. and Mrs. Dursley, of number four, Privet Drive, were proud to say that they were perfectly normal, thank you very much. They were the last people you’d expect to be involved in anything strange or mysterious, because they just didn’t hold with such nonsense.\n",
    "\n",
    "Mr. Dursley was the director of a firm called Grunnings, which made drills. He was a big, beefy man with hardly any neck, although he did have a very large mustache. Mrs. Dursley was thin and blonde and had nearly twice the usual amount of neck, which came in very useful as she spent so much of her time craning over garden fences, spying on the neighbors. The Dursleys had a small son called Dudley and in their opinion there was no finer boy anywhere.\n",
    "\n",
    "The Dursleys had everything they wanted, but they also had a secret, and their greatest fear was that somebody would discover it. They didn’t think they could bear it if anyone found out about the Potters. Mrs. Potter was Mrs. Dursley’s sister, but they hadn’t met for several years; in fact, Mrs. Dursley pretended she didn’t have a sister, because her sister and her good-for-nothing husband were as unDursleyish as it was possible to be. The Dursleys shuddered to think what the neighbors would say if the Potters arrived in the street. The Dursleys knew that the Potters had a small son, too, but they had never even seen him. This boy was another good reason for keeping the Potters away; they didn’t want Dudley mixing with a child like that.\n",
    "\"\"\"\n",
    "print(text1)"
   ]
  },
  {
   "cell_type": "code",
   "execution_count": 3,
   "id": "4869f9e3-10af-4467-826d-a15e4bf42394",
   "metadata": {},
   "outputs": [
    {
     "name": "stdout",
     "output_type": "stream",
     "text": [
      "\n",
      "Once, there was a boy who became bored when he watched over the village sheep grazing on the hillside. To entertain himself, he sang out, “Wolf! Wolf! The wolf is chasing the sheep!”\n",
      "\n",
      "When the villagers heard the cry, they came running up the hill to drive the wolf away. But, when they arrived, they saw no wolf. The boy was amused when seeing their angry faces.\n",
      "\n",
      "“Don’t scream wolf, boy,” warned the villagers, “when there is no wolf!” They angrily went back down the hill.\n",
      "\n",
      "Later, the shepherd boy cried out once again, “Wolf! Wolf! The wolf is chasing the sheep!” To his amusement, he looked on as the villagers came running up the hill to scare the wolf away.\n",
      "\n",
      "As they saw there was no wolf, they said strictly, “Save your frightened cry for when there really is a wolf! Don’t cry ‘wolf’ when there is no wolf!” But the boy grinned at their words while they walked grumbling down the hill once more.\n",
      "\n",
      "Later, the boy saw a real wolf sneaking around his flock. Alarmed, he jumped on his feet and cried out as loud as he could, “Wolf! Wolf!” But the villagers thought he was fooling them again, and so they didn’t come to help.\n",
      "\n",
      "At sunset, the villagers went looking for the boy who hadn’t returned with their sheep. When they went up the hill, they found him weeping.\n",
      "\n",
      "“There really was a wolf here! The flock is gone! I cried out, ‘Wolf!’ but you didn’t come,” he wailed.\n",
      "\n",
      "An old man went to comfort the boy. As he put his arm around him, he said, “Nobody believes a liar, even when he is telling the truth!”\n",
      "\n"
     ]
    }
   ],
   "source": [
    "text2 = \"\"\"\n",
    "Once, there was a boy who became bored when he watched over the village sheep grazing on the hillside. To entertain himself, he sang out, “Wolf! Wolf! The wolf is chasing the sheep!”\n",
    "\n",
    "When the villagers heard the cry, they came running up the hill to drive the wolf away. But, when they arrived, they saw no wolf. The boy was amused when seeing their angry faces.\n",
    "\n",
    "“Don’t scream wolf, boy,” warned the villagers, “when there is no wolf!” They angrily went back down the hill.\n",
    "\n",
    "Later, the shepherd boy cried out once again, “Wolf! Wolf! The wolf is chasing the sheep!” To his amusement, he looked on as the villagers came running up the hill to scare the wolf away.\n",
    "\n",
    "As they saw there was no wolf, they said strictly, “Save your frightened cry for when there really is a wolf! Don’t cry ‘wolf’ when there is no wolf!” But the boy grinned at their words while they walked grumbling down the hill once more.\n",
    "\n",
    "Later, the boy saw a real wolf sneaking around his flock. Alarmed, he jumped on his feet and cried out as loud as he could, “Wolf! Wolf!” But the villagers thought he was fooling them again, and so they didn’t come to help.\n",
    "\n",
    "At sunset, the villagers went looking for the boy who hadn’t returned with their sheep. When they went up the hill, they found him weeping.\n",
    "\n",
    "“There really was a wolf here! The flock is gone! I cried out, ‘Wolf!’ but you didn’t come,” he wailed.\n",
    "\n",
    "An old man went to comfort the boy. As he put his arm around him, he said, “Nobody believes a liar, even when he is telling the truth!”\n",
    "\"\"\"\n",
    "print(text2)"
   ]
  },
  {
   "cell_type": "markdown",
   "id": "1814b45a-5e9d-4051-9ede-4f477c2cc050",
   "metadata": {},
   "source": [
    "## sshleifer/distilbart-cnn-6-6"
   ]
  },
  {
   "cell_type": "code",
   "execution_count": 4,
   "id": "aeca2d39-ebd3-4c04-9a70-37ab7473bead",
   "metadata": {},
   "outputs": [],
   "source": [
    "checkpoint = 'sshleifer/distilbart-cnn-6-6'"
   ]
  },
  {
   "cell_type": "code",
   "execution_count": 5,
   "id": "63d0760f-d836-444f-ad4b-0e6503042afd",
   "metadata": {},
   "outputs": [],
   "source": [
    "tokenizer = AutoTokenizer.from_pretrained(checkpoint)\n",
    "model = AutoModelForSeq2SeqLM.from_pretrained(checkpoint)"
   ]
  },
  {
   "cell_type": "code",
   "execution_count": 18,
   "id": "8f47a9e3-f2af-4467-90b2-7543a07b0da6",
   "metadata": {},
   "outputs": [
    {
     "data": {
      "text/plain": [
       "'Mr. Dursley was the director of a firm called Grunnings, which made drills . He was a big, beefy man with hardly any neck, although he did have a very large mustache . The Dursleys had a small son called Dudley and in their opinion there was no finer boy anywhere .'"
      ]
     },
     "execution_count": 18,
     "metadata": {},
     "output_type": "execute_result"
    }
   ],
   "source": [
    "inputs = tokenizer(text1, return_tensors=\"pt\")\n",
    "summary_ids = model.generate(\n",
    "    inputs[\"input_ids\"], \n",
    "    # min_length=100,\n",
    "    max_new_tokens=500, \n",
    "    # top_k=50,\n",
    "    # top_p=0.9,\n",
    "    num_beams=5,\n",
    "    temperature=0.5\n",
    ")\n",
    "# summary_ids = model.generate(inputs[\"input_ids\"], min_length=int(np.floor(inputs['input_ids'].shape[1] * 0.25)), max_new_tokens=1000)\n",
    "tokenizer.batch_decode(summary_ids, skip_special_tokens=True, clean_up_tokenization_spaces=False)[0]"
   ]
  },
  {
   "cell_type": "code",
   "execution_count": 7,
   "id": "2c0b3784-3ceb-477b-8309-77c04c7c4ace",
   "metadata": {},
   "outputs": [
    {
     "data": {
      "text/plain": [
       "' A boy became bored when he watched over the village sheep grazing on the hillside . When the villagers heard the cry, they came running up the hill to drive the wolf away . But, when they arrived, they saw no wolf . The boy was amused when seeing their angry faces .'"
      ]
     },
     "execution_count": 7,
     "metadata": {},
     "output_type": "execute_result"
    }
   ],
   "source": [
    "inputs = tokenizer(text2, return_tensors=\"pt\")\n",
    "summary_ids = model.generate(inputs[\"input_ids\"], max_new_tokens=1000)\n",
    "# summary_ids = model.generate(inputs[\"input_ids\"], min_length=int(np.floor(inputs['input_ids'].shape[1] * 0.25)), max_new_tokens=1000)\n",
    "tokenizer.batch_decode(summary_ids, skip_special_tokens=True, clean_up_tokenization_spaces=False)[0]"
   ]
  },
  {
   "cell_type": "markdown",
   "id": "47632dfd-f1d1-48d0-80a1-b809a321c0ce",
   "metadata": {},
   "source": [
    "## sshleifer/distilbart-cnn-12-6"
   ]
  },
  {
   "cell_type": "code",
   "execution_count": 20,
   "id": "839a2575-2651-425b-bcd3-0d9444028765",
   "metadata": {},
   "outputs": [],
   "source": [
    "checkpoint = 'sshleifer/distilbart-cnn-12-6'"
   ]
  },
  {
   "cell_type": "code",
   "execution_count": 21,
   "id": "0df41e9b-2d7e-4145-ba79-3624a3381bbc",
   "metadata": {},
   "outputs": [],
   "source": [
    "tokenizer = AutoTokenizer.from_pretrained(checkpoint)\n",
    "model = AutoModelForSeq2SeqLM.from_pretrained(checkpoint)"
   ]
  },
  {
   "cell_type": "code",
   "execution_count": 48,
   "id": "366a5b10-a09c-4aa0-89f3-a916a7246b98",
   "metadata": {},
   "outputs": [
    {
     "data": {
      "text/plain": [
       "'Mr. Dursley was the director of a firm called Grunnings, which made drills . He was a big, beefy man with hardly any neck, although he did have a very large mustache . The Dursleys had a small son called Dudley and in their opinion there was no finer boy anywhere .'"
      ]
     },
     "execution_count": 48,
     "metadata": {},
     "output_type": "execute_result"
    }
   ],
   "source": [
    "inputs = tokenizer(text1, return_tensors=\"pt\")\n",
    "summary_ids = model.generate(inputs[\"input_ids\"], max_new_tokens=1000)\n",
    "# summary_ids = model.generate(inputs[\"input_ids\"], min_length=int(np.floor(inputs['input_ids'].shape[1] * 0.25)), max_new_tokens=1000)\n",
    "tokenizer.batch_decode(summary_ids, skip_special_tokens=True, clean_up_tokenization_spaces=False)[0]"
   ]
  },
  {
   "cell_type": "code",
   "execution_count": 49,
   "id": "c25add75-1a49-4539-a6de-30607715f8aa",
   "metadata": {},
   "outputs": [
    {
     "data": {
      "text/plain": [
       "' A boy became bored when he watched over the village sheep grazing on the hillside . When the villagers heard the cry, they came running up the hill to drive the wolf away . But, when they arrived, they saw no wolf . The boy was amused when seeing their angry faces .'"
      ]
     },
     "execution_count": 49,
     "metadata": {},
     "output_type": "execute_result"
    }
   ],
   "source": [
    "inputs = tokenizer(text2, return_tensors=\"pt\")\n",
    "summary_ids = model.generate(inputs[\"input_ids\"], max_new_tokens=1000)\n",
    "# summary_ids = model.generate(inputs[\"input_ids\"], min_length=int(np.floor(inputs['input_ids'].shape[1] * 0.25)), max_new_tokens=1000)\n",
    "tokenizer.batch_decode(summary_ids, skip_special_tokens=True, clean_up_tokenization_spaces=False)[0]"
   ]
  },
  {
   "cell_type": "markdown",
   "id": "ae31322c-cd74-4ff8-a0c4-5b5c3b0ae861",
   "metadata": {
    "tags": []
   },
   "source": [
    "## philschmid/distilbart-cnn-12-6-samsum"
   ]
  },
  {
   "cell_type": "code",
   "execution_count": 50,
   "id": "ccb711cd-3261-4be7-b687-bfb2cdeb4229",
   "metadata": {},
   "outputs": [],
   "source": [
    "checkpoint = 'philschmid/distilbart-cnn-12-6-samsum'"
   ]
  },
  {
   "cell_type": "code",
   "execution_count": 51,
   "id": "3ea50d63-22b2-4274-b31d-3d087385a943",
   "metadata": {},
   "outputs": [
    {
     "data": {
      "application/vnd.jupyter.widget-view+json": {
       "model_id": "0638e4276d4c4c15a4dcf7c963e25582",
       "version_major": 2,
       "version_minor": 0
      },
      "text/plain": [
       "Downloading:   0%|          | 0.00/1.10k [00:00<?, ?B/s]"
      ]
     },
     "metadata": {},
     "output_type": "display_data"
    },
    {
     "data": {
      "application/vnd.jupyter.widget-view+json": {
       "model_id": "9429cbbfac4246d2969d198a4db280be",
       "version_major": 2,
       "version_minor": 0
      },
      "text/plain": [
       "Downloading:   0%|          | 0.00/1.85k [00:00<?, ?B/s]"
      ]
     },
     "metadata": {},
     "output_type": "display_data"
    },
    {
     "data": {
      "application/vnd.jupyter.widget-view+json": {
       "model_id": "93c75f7547a74916a6fffef72f9371fb",
       "version_major": 2,
       "version_minor": 0
      },
      "text/plain": [
       "Downloading:   0%|          | 0.00/798k [00:00<?, ?B/s]"
      ]
     },
     "metadata": {},
     "output_type": "display_data"
    },
    {
     "data": {
      "application/vnd.jupyter.widget-view+json": {
       "model_id": "e250b90241c44e5abea8465cad4f36f1",
       "version_major": 2,
       "version_minor": 0
      },
      "text/plain": [
       "Downloading:   0%|          | 0.00/456k [00:00<?, ?B/s]"
      ]
     },
     "metadata": {},
     "output_type": "display_data"
    },
    {
     "data": {
      "application/vnd.jupyter.widget-view+json": {
       "model_id": "92c4093ca1854b94830da1f3e34858d5",
       "version_major": 2,
       "version_minor": 0
      },
      "text/plain": [
       "Downloading:   0%|          | 0.00/772 [00:00<?, ?B/s]"
      ]
     },
     "metadata": {},
     "output_type": "display_data"
    },
    {
     "data": {
      "application/vnd.jupyter.widget-view+json": {
       "model_id": "0768ac9d333a40a18fb8b1c42ea92696",
       "version_major": 2,
       "version_minor": 0
      },
      "text/plain": [
       "Downloading:   0%|          | 0.00/1.22G [00:00<?, ?B/s]"
      ]
     },
     "metadata": {},
     "output_type": "display_data"
    }
   ],
   "source": [
    "tokenizer = AutoTokenizer.from_pretrained(checkpoint)\n",
    "model = AutoModelForSeq2SeqLM.from_pretrained(checkpoint)"
   ]
  },
  {
   "cell_type": "code",
   "execution_count": 52,
   "id": "acfc6e53-f664-4bb5-af38-86e3a960c04d",
   "metadata": {},
   "outputs": [
    {
     "data": {
      "text/plain": [
       "\"Mr. and Mrs. Dursley were proud to say that they were normal people. They had a small son called Dudley. They didn't want the Potters to come to the street because they didn't think they could bear it if anyone found out about them. The Dursleys had never seen Mrs. Potter's son.\""
      ]
     },
     "execution_count": 52,
     "metadata": {},
     "output_type": "execute_result"
    }
   ],
   "source": [
    "inputs = tokenizer(text1, return_tensors=\"pt\")\n",
    "summary_ids = model.generate(inputs[\"input_ids\"], max_new_tokens=1000)\n",
    "# summary_ids = model.generate(inputs[\"input_ids\"], min_length=int(np.floor(inputs['input_ids'].shape[1] * 0.25)), max_new_tokens=1000)\n",
    "tokenizer.batch_decode(summary_ids, skip_special_tokens=True, clean_up_tokenization_spaces=False)[0]"
   ]
  },
  {
   "cell_type": "code",
   "execution_count": 53,
   "id": "63c4de4d-aab1-4d38-aa90-a773da4b231e",
   "metadata": {},
   "outputs": [
    {
     "data": {
      "text/plain": [
       "'The shepherd boy was bored when he watched over the village sheep grazing on the hillside. The villagers came running up the hill to scare the wolf away, but when they arrived, they saw no wolf. The boy was amused when seeing their angry faces. Later, the boy saw a real wolf sneaking around his flock and cried out as loud as he could.'"
      ]
     },
     "execution_count": 53,
     "metadata": {},
     "output_type": "execute_result"
    }
   ],
   "source": [
    "inputs = tokenizer(text2, return_tensors=\"pt\")\n",
    "summary_ids = model.generate(inputs[\"input_ids\"], max_new_tokens=1000)\n",
    "# summary_ids = model.generate(inputs[\"input_ids\"], min_length=int(np.floor(inputs['input_ids'].shape[1] * 0.25)), max_new_tokens=1000)\n",
    "tokenizer.batch_decode(summary_ids, skip_special_tokens=True, clean_up_tokenization_spaces=False)[0]"
   ]
  },
  {
   "cell_type": "markdown",
   "id": "be6dfd5c-fe94-4a53-a070-8a3555fb8330",
   "metadata": {},
   "source": [
    "## sshleifer/distill-pegasus-xsum-16-8"
   ]
  },
  {
   "cell_type": "code",
   "execution_count": 4,
   "id": "ffecdd02-894f-49ca-b999-a21b9b15c039",
   "metadata": {},
   "outputs": [],
   "source": [
    "checkpoint = 'sshleifer/distill-pegasus-xsum-16-8'"
   ]
  },
  {
   "cell_type": "code",
   "execution_count": 7,
   "id": "e10ffc9d-3cbd-4a51-afed-7ba8abd9f2d8",
   "metadata": {},
   "outputs": [
    {
     "ename": "TypeError",
     "evalue": "Couldn't build proto file into descriptor pool: duplicate file name (sentencepiece_model.proto)",
     "output_type": "error",
     "traceback": [
      "\u001b[0;31m---------------------------------------------------------------------------\u001b[0m",
      "\u001b[0;31mTypeError\u001b[0m                                 Traceback (most recent call last)",
      "Cell \u001b[0;32mIn[7], line 1\u001b[0m\n\u001b[0;32m----> 1\u001b[0m tokenizer \u001b[38;5;241m=\u001b[39m \u001b[43mAutoTokenizer\u001b[49m\u001b[38;5;241;43m.\u001b[39;49m\u001b[43mfrom_pretrained\u001b[49m\u001b[43m(\u001b[49m\u001b[43mcheckpoint\u001b[49m\u001b[43m)\u001b[49m\n\u001b[1;32m      2\u001b[0m model \u001b[38;5;241m=\u001b[39m AutoModelForSeq2SeqLM\u001b[38;5;241m.\u001b[39mfrom_pretrained(checkpoint)\n",
      "File \u001b[0;32m/mnt/c/MyWork/PersonalProjects/Masters-Thesis/.venv/lib/python3.9/site-packages/transformers/models/auto/tokenization_auto.py:659\u001b[0m, in \u001b[0;36mAutoTokenizer.from_pretrained\u001b[0;34m(cls, pretrained_model_name_or_path, *inputs, **kwargs)\u001b[0m\n\u001b[1;32m    657\u001b[0m tokenizer_class_py, tokenizer_class_fast \u001b[38;5;241m=\u001b[39m TOKENIZER_MAPPING[\u001b[38;5;28mtype\u001b[39m(config)]\n\u001b[1;32m    658\u001b[0m \u001b[38;5;28;01mif\u001b[39;00m tokenizer_class_fast \u001b[38;5;129;01mand\u001b[39;00m (use_fast \u001b[38;5;129;01mor\u001b[39;00m tokenizer_class_py \u001b[38;5;129;01mis\u001b[39;00m \u001b[38;5;28;01mNone\u001b[39;00m):\n\u001b[0;32m--> 659\u001b[0m     \u001b[38;5;28;01mreturn\u001b[39;00m \u001b[43mtokenizer_class_fast\u001b[49m\u001b[38;5;241;43m.\u001b[39;49m\u001b[43mfrom_pretrained\u001b[49m\u001b[43m(\u001b[49m\u001b[43mpretrained_model_name_or_path\u001b[49m\u001b[43m,\u001b[49m\u001b[43m \u001b[49m\u001b[38;5;241;43m*\u001b[39;49m\u001b[43minputs\u001b[49m\u001b[43m,\u001b[49m\u001b[43m \u001b[49m\u001b[38;5;241;43m*\u001b[39;49m\u001b[38;5;241;43m*\u001b[39;49m\u001b[43mkwargs\u001b[49m\u001b[43m)\u001b[49m\n\u001b[1;32m    660\u001b[0m \u001b[38;5;28;01melse\u001b[39;00m:\n\u001b[1;32m    661\u001b[0m     \u001b[38;5;28;01mif\u001b[39;00m tokenizer_class_py \u001b[38;5;129;01mis\u001b[39;00m \u001b[38;5;129;01mnot\u001b[39;00m \u001b[38;5;28;01mNone\u001b[39;00m:\n",
      "File \u001b[0;32m/mnt/c/MyWork/PersonalProjects/Masters-Thesis/.venv/lib/python3.9/site-packages/transformers/tokenization_utils_base.py:1801\u001b[0m, in \u001b[0;36mPreTrainedTokenizerBase.from_pretrained\u001b[0;34m(cls, pretrained_model_name_or_path, *init_inputs, **kwargs)\u001b[0m\n\u001b[1;32m   1798\u001b[0m     \u001b[38;5;28;01melse\u001b[39;00m:\n\u001b[1;32m   1799\u001b[0m         logger\u001b[38;5;241m.\u001b[39minfo(\u001b[38;5;124mf\u001b[39m\u001b[38;5;124m\"\u001b[39m\u001b[38;5;124mloading file \u001b[39m\u001b[38;5;132;01m{\u001b[39;00mfile_path\u001b[38;5;132;01m}\u001b[39;00m\u001b[38;5;124m from cache at \u001b[39m\u001b[38;5;132;01m{\u001b[39;00mresolved_vocab_files[file_id]\u001b[38;5;132;01m}\u001b[39;00m\u001b[38;5;124m\"\u001b[39m)\n\u001b[0;32m-> 1801\u001b[0m \u001b[38;5;28;01mreturn\u001b[39;00m \u001b[38;5;28;43mcls\u001b[39;49m\u001b[38;5;241;43m.\u001b[39;49m\u001b[43m_from_pretrained\u001b[49m\u001b[43m(\u001b[49m\n\u001b[1;32m   1802\u001b[0m \u001b[43m    \u001b[49m\u001b[43mresolved_vocab_files\u001b[49m\u001b[43m,\u001b[49m\n\u001b[1;32m   1803\u001b[0m \u001b[43m    \u001b[49m\u001b[43mpretrained_model_name_or_path\u001b[49m\u001b[43m,\u001b[49m\n\u001b[1;32m   1804\u001b[0m \u001b[43m    \u001b[49m\u001b[43minit_configuration\u001b[49m\u001b[43m,\u001b[49m\n\u001b[1;32m   1805\u001b[0m \u001b[43m    \u001b[49m\u001b[38;5;241;43m*\u001b[39;49m\u001b[43minit_inputs\u001b[49m\u001b[43m,\u001b[49m\n\u001b[1;32m   1806\u001b[0m \u001b[43m    \u001b[49m\u001b[43muse_auth_token\u001b[49m\u001b[38;5;241;43m=\u001b[39;49m\u001b[43muse_auth_token\u001b[49m\u001b[43m,\u001b[49m\n\u001b[1;32m   1807\u001b[0m \u001b[43m    \u001b[49m\u001b[43mcache_dir\u001b[49m\u001b[38;5;241;43m=\u001b[39;49m\u001b[43mcache_dir\u001b[49m\u001b[43m,\u001b[49m\n\u001b[1;32m   1808\u001b[0m \u001b[43m    \u001b[49m\u001b[43mlocal_files_only\u001b[49m\u001b[38;5;241;43m=\u001b[39;49m\u001b[43mlocal_files_only\u001b[49m\u001b[43m,\u001b[49m\n\u001b[1;32m   1809\u001b[0m \u001b[43m    \u001b[49m\u001b[43m_commit_hash\u001b[49m\u001b[38;5;241;43m=\u001b[39;49m\u001b[43mcommit_hash\u001b[49m\u001b[43m,\u001b[49m\n\u001b[1;32m   1810\u001b[0m \u001b[43m    \u001b[49m\u001b[38;5;241;43m*\u001b[39;49m\u001b[38;5;241;43m*\u001b[39;49m\u001b[43mkwargs\u001b[49m\u001b[43m,\u001b[49m\n\u001b[1;32m   1811\u001b[0m \u001b[43m\u001b[49m\u001b[43m)\u001b[49m\n",
      "File \u001b[0;32m/mnt/c/MyWork/PersonalProjects/Masters-Thesis/.venv/lib/python3.9/site-packages/transformers/tokenization_utils_base.py:1956\u001b[0m, in \u001b[0;36mPreTrainedTokenizerBase._from_pretrained\u001b[0;34m(cls, resolved_vocab_files, pretrained_model_name_or_path, init_configuration, use_auth_token, cache_dir, local_files_only, _commit_hash, *init_inputs, **kwargs)\u001b[0m\n\u001b[1;32m   1954\u001b[0m \u001b[38;5;66;03m# Instantiate tokenizer.\u001b[39;00m\n\u001b[1;32m   1955\u001b[0m \u001b[38;5;28;01mtry\u001b[39;00m:\n\u001b[0;32m-> 1956\u001b[0m     tokenizer \u001b[38;5;241m=\u001b[39m \u001b[38;5;28;43mcls\u001b[39;49m\u001b[43m(\u001b[49m\u001b[38;5;241;43m*\u001b[39;49m\u001b[43minit_inputs\u001b[49m\u001b[43m,\u001b[49m\u001b[43m \u001b[49m\u001b[38;5;241;43m*\u001b[39;49m\u001b[38;5;241;43m*\u001b[39;49m\u001b[43minit_kwargs\u001b[49m\u001b[43m)\u001b[49m\n\u001b[1;32m   1957\u001b[0m \u001b[38;5;28;01mexcept\u001b[39;00m \u001b[38;5;167;01mOSError\u001b[39;00m:\n\u001b[1;32m   1958\u001b[0m     \u001b[38;5;28;01mraise\u001b[39;00m \u001b[38;5;167;01mOSError\u001b[39;00m(\n\u001b[1;32m   1959\u001b[0m         \u001b[38;5;124m\"\u001b[39m\u001b[38;5;124mUnable to load vocabulary from file. \u001b[39m\u001b[38;5;124m\"\u001b[39m\n\u001b[1;32m   1960\u001b[0m         \u001b[38;5;124m\"\u001b[39m\u001b[38;5;124mPlease check that the provided vocabulary is accessible and not corrupted.\u001b[39m\u001b[38;5;124m\"\u001b[39m\n\u001b[1;32m   1961\u001b[0m     )\n",
      "File \u001b[0;32m/mnt/c/MyWork/PersonalProjects/Masters-Thesis/.venv/lib/python3.9/site-packages/transformers/models/pegasus/tokenization_pegasus_fast.py:142\u001b[0m, in \u001b[0;36mPegasusTokenizerFast.__init__\u001b[0;34m(self, vocab_file, tokenizer_file, pad_token, eos_token, unk_token, mask_token, mask_token_sent, additional_special_tokens, offset, **kwargs)\u001b[0m\n\u001b[1;32m    139\u001b[0m     additional_special_tokens \u001b[38;5;241m=\u001b[39m [mask_token_sent] \u001b[38;5;28;01mif\u001b[39;00m mask_token_sent \u001b[38;5;129;01mis\u001b[39;00m \u001b[38;5;129;01mnot\u001b[39;00m \u001b[38;5;28;01mNone\u001b[39;00m \u001b[38;5;28;01melse\u001b[39;00m []\n\u001b[1;32m    140\u001b[0m     additional_special_tokens \u001b[38;5;241m+\u001b[39m\u001b[38;5;241m=\u001b[39m [\u001b[38;5;124mf\u001b[39m\u001b[38;5;124m\"\u001b[39m\u001b[38;5;124m<unk_\u001b[39m\u001b[38;5;132;01m{\u001b[39;00mi\u001b[38;5;132;01m}\u001b[39;00m\u001b[38;5;124m>\u001b[39m\u001b[38;5;124m\"\u001b[39m \u001b[38;5;28;01mfor\u001b[39;00m i \u001b[38;5;129;01min\u001b[39;00m \u001b[38;5;28mrange\u001b[39m(\u001b[38;5;241m2\u001b[39m, \u001b[38;5;28mself\u001b[39m\u001b[38;5;241m.\u001b[39moffset)]\n\u001b[0;32m--> 142\u001b[0m \u001b[38;5;28;43msuper\u001b[39;49m\u001b[43m(\u001b[49m\u001b[43m)\u001b[49m\u001b[38;5;241;43m.\u001b[39;49m\u001b[38;5;21;43m__init__\u001b[39;49m\u001b[43m(\u001b[49m\n\u001b[1;32m    143\u001b[0m \u001b[43m    \u001b[49m\u001b[43mvocab_file\u001b[49m\u001b[43m,\u001b[49m\n\u001b[1;32m    144\u001b[0m \u001b[43m    \u001b[49m\u001b[43mtokenizer_file\u001b[49m\u001b[38;5;241;43m=\u001b[39;49m\u001b[43mtokenizer_file\u001b[49m\u001b[43m,\u001b[49m\n\u001b[1;32m    145\u001b[0m \u001b[43m    \u001b[49m\u001b[43mpad_token\u001b[49m\u001b[38;5;241;43m=\u001b[39;49m\u001b[43mpad_token\u001b[49m\u001b[43m,\u001b[49m\n\u001b[1;32m    146\u001b[0m \u001b[43m    \u001b[49m\u001b[43meos_token\u001b[49m\u001b[38;5;241;43m=\u001b[39;49m\u001b[43meos_token\u001b[49m\u001b[43m,\u001b[49m\n\u001b[1;32m    147\u001b[0m \u001b[43m    \u001b[49m\u001b[43munk_token\u001b[49m\u001b[38;5;241;43m=\u001b[39;49m\u001b[43munk_token\u001b[49m\u001b[43m,\u001b[49m\n\u001b[1;32m    148\u001b[0m \u001b[43m    \u001b[49m\u001b[43mmask_token\u001b[49m\u001b[38;5;241;43m=\u001b[39;49m\u001b[43mmask_token\u001b[49m\u001b[43m,\u001b[49m\n\u001b[1;32m    149\u001b[0m \u001b[43m    \u001b[49m\u001b[43mmask_token_sent\u001b[49m\u001b[38;5;241;43m=\u001b[39;49m\u001b[43mmask_token_sent\u001b[49m\u001b[43m,\u001b[49m\n\u001b[1;32m    150\u001b[0m \u001b[43m    \u001b[49m\u001b[43moffset\u001b[49m\u001b[38;5;241;43m=\u001b[39;49m\u001b[43moffset\u001b[49m\u001b[43m,\u001b[49m\n\u001b[1;32m    151\u001b[0m \u001b[43m    \u001b[49m\u001b[43madditional_special_tokens\u001b[49m\u001b[38;5;241;43m=\u001b[39;49m\u001b[43madditional_special_tokens\u001b[49m\u001b[43m,\u001b[49m\n\u001b[1;32m    152\u001b[0m \u001b[43m    \u001b[49m\u001b[38;5;241;43m*\u001b[39;49m\u001b[38;5;241;43m*\u001b[39;49m\u001b[43mkwargs\u001b[49m\u001b[43m,\u001b[49m\n\u001b[1;32m    153\u001b[0m \u001b[43m\u001b[49m\u001b[43m)\u001b[49m\n\u001b[1;32m    154\u001b[0m \u001b[38;5;28mself\u001b[39m\u001b[38;5;241m.\u001b[39mvocab_file \u001b[38;5;241m=\u001b[39m vocab_file\n\u001b[1;32m    155\u001b[0m \u001b[38;5;28mself\u001b[39m\u001b[38;5;241m.\u001b[39mcan_save_slow_tokenizer \u001b[38;5;241m=\u001b[39m \u001b[38;5;28;01mFalse\u001b[39;00m \u001b[38;5;28;01mif\u001b[39;00m \u001b[38;5;129;01mnot\u001b[39;00m \u001b[38;5;28mself\u001b[39m\u001b[38;5;241m.\u001b[39mvocab_file \u001b[38;5;28;01melse\u001b[39;00m \u001b[38;5;28;01mTrue\u001b[39;00m\n",
      "File \u001b[0;32m/mnt/c/MyWork/PersonalProjects/Masters-Thesis/.venv/lib/python3.9/site-packages/transformers/tokenization_utils_fast.py:114\u001b[0m, in \u001b[0;36mPreTrainedTokenizerFast.__init__\u001b[0;34m(self, *args, **kwargs)\u001b[0m\n\u001b[1;32m    111\u001b[0m     fast_tokenizer \u001b[38;5;241m=\u001b[39m TokenizerFast\u001b[38;5;241m.\u001b[39mfrom_file(fast_tokenizer_file)\n\u001b[1;32m    112\u001b[0m \u001b[38;5;28;01melif\u001b[39;00m slow_tokenizer \u001b[38;5;129;01mis\u001b[39;00m \u001b[38;5;129;01mnot\u001b[39;00m \u001b[38;5;28;01mNone\u001b[39;00m:\n\u001b[1;32m    113\u001b[0m     \u001b[38;5;66;03m# We need to convert a slow tokenizer to build the backend\u001b[39;00m\n\u001b[0;32m--> 114\u001b[0m     fast_tokenizer \u001b[38;5;241m=\u001b[39m \u001b[43mconvert_slow_tokenizer\u001b[49m\u001b[43m(\u001b[49m\u001b[43mslow_tokenizer\u001b[49m\u001b[43m)\u001b[49m\n\u001b[1;32m    115\u001b[0m \u001b[38;5;28;01melif\u001b[39;00m \u001b[38;5;28mself\u001b[39m\u001b[38;5;241m.\u001b[39mslow_tokenizer_class \u001b[38;5;129;01mis\u001b[39;00m \u001b[38;5;129;01mnot\u001b[39;00m \u001b[38;5;28;01mNone\u001b[39;00m:\n\u001b[1;32m    116\u001b[0m     \u001b[38;5;66;03m# We need to create and convert a slow tokenizer to build the backend\u001b[39;00m\n\u001b[1;32m    117\u001b[0m     slow_tokenizer \u001b[38;5;241m=\u001b[39m \u001b[38;5;28mself\u001b[39m\u001b[38;5;241m.\u001b[39mslow_tokenizer_class(\u001b[38;5;241m*\u001b[39margs, \u001b[38;5;241m*\u001b[39m\u001b[38;5;241m*\u001b[39mkwargs)\n",
      "File \u001b[0;32m/mnt/c/MyWork/PersonalProjects/Masters-Thesis/.venv/lib/python3.9/site-packages/transformers/convert_slow_tokenizer.py:1162\u001b[0m, in \u001b[0;36mconvert_slow_tokenizer\u001b[0;34m(transformer_tokenizer)\u001b[0m\n\u001b[1;32m   1154\u001b[0m     \u001b[38;5;28;01mraise\u001b[39;00m \u001b[38;5;167;01mValueError\u001b[39;00m(\n\u001b[1;32m   1155\u001b[0m         \u001b[38;5;124mf\u001b[39m\u001b[38;5;124m\"\u001b[39m\u001b[38;5;124mAn instance of tokenizer class \u001b[39m\u001b[38;5;132;01m{\u001b[39;00mtokenizer_class_name\u001b[38;5;132;01m}\u001b[39;00m\u001b[38;5;124m cannot be converted in a Fast tokenizer instance.\u001b[39m\u001b[38;5;124m\"\u001b[39m\n\u001b[1;32m   1156\u001b[0m         \u001b[38;5;124m\"\u001b[39m\u001b[38;5;124m No converter was found. Currently available slow->fast convertors:\u001b[39m\u001b[38;5;124m\"\u001b[39m\n\u001b[1;32m   1157\u001b[0m         \u001b[38;5;124mf\u001b[39m\u001b[38;5;124m\"\u001b[39m\u001b[38;5;124m \u001b[39m\u001b[38;5;132;01m{\u001b[39;00m\u001b[38;5;28mlist\u001b[39m(SLOW_TO_FAST_CONVERTERS\u001b[38;5;241m.\u001b[39mkeys())\u001b[38;5;132;01m}\u001b[39;00m\u001b[38;5;124m\"\u001b[39m\n\u001b[1;32m   1158\u001b[0m     )\n\u001b[1;32m   1160\u001b[0m converter_class \u001b[38;5;241m=\u001b[39m SLOW_TO_FAST_CONVERTERS[tokenizer_class_name]\n\u001b[0;32m-> 1162\u001b[0m \u001b[38;5;28;01mreturn\u001b[39;00m \u001b[43mconverter_class\u001b[49m\u001b[43m(\u001b[49m\u001b[43mtransformer_tokenizer\u001b[49m\u001b[43m)\u001b[49m\u001b[38;5;241m.\u001b[39mconverted()\n",
      "File \u001b[0;32m/mnt/c/MyWork/PersonalProjects/Masters-Thesis/.venv/lib/python3.9/site-packages/transformers/convert_slow_tokenizer.py:438\u001b[0m, in \u001b[0;36mSpmConverter.__init__\u001b[0;34m(self, *args)\u001b[0m\n\u001b[1;32m    434\u001b[0m requires_backends(\u001b[38;5;28mself\u001b[39m, \u001b[38;5;124m\"\u001b[39m\u001b[38;5;124mprotobuf\u001b[39m\u001b[38;5;124m\"\u001b[39m)\n\u001b[1;32m    436\u001b[0m \u001b[38;5;28msuper\u001b[39m()\u001b[38;5;241m.\u001b[39m\u001b[38;5;21m__init__\u001b[39m(\u001b[38;5;241m*\u001b[39margs)\n\u001b[0;32m--> 438\u001b[0m \u001b[38;5;28;01mfrom\u001b[39;00m \u001b[38;5;21;01m.\u001b[39;00m\u001b[38;5;21;01mutils\u001b[39;00m \u001b[38;5;28;01mimport\u001b[39;00m sentencepiece_model_pb2 \u001b[38;5;28;01mas\u001b[39;00m model_pb2\n\u001b[1;32m    440\u001b[0m m \u001b[38;5;241m=\u001b[39m model_pb2\u001b[38;5;241m.\u001b[39mModelProto()\n\u001b[1;32m    441\u001b[0m \u001b[38;5;28;01mwith\u001b[39;00m \u001b[38;5;28mopen\u001b[39m(\u001b[38;5;28mself\u001b[39m\u001b[38;5;241m.\u001b[39moriginal_tokenizer\u001b[38;5;241m.\u001b[39mvocab_file, \u001b[38;5;124m\"\u001b[39m\u001b[38;5;124mrb\u001b[39m\u001b[38;5;124m\"\u001b[39m) \u001b[38;5;28;01mas\u001b[39;00m f:\n",
      "File \u001b[0;32m/mnt/c/MyWork/PersonalProjects/Masters-Thesis/.venv/lib/python3.9/site-packages/transformers/utils/sentencepiece_model_pb2.py:29\u001b[0m\n\u001b[1;32m     24\u001b[0m \u001b[38;5;66;03m# @@protoc_insertion_point(imports)\u001b[39;00m\n\u001b[1;32m     26\u001b[0m _sym_db \u001b[38;5;241m=\u001b[39m _symbol_database\u001b[38;5;241m.\u001b[39mDefault()\n\u001b[0;32m---> 29\u001b[0m DESCRIPTOR \u001b[38;5;241m=\u001b[39m \u001b[43m_descriptor\u001b[49m\u001b[38;5;241;43m.\u001b[39;49m\u001b[43mFileDescriptor\u001b[49m\u001b[43m(\u001b[49m\n\u001b[1;32m     30\u001b[0m \u001b[43m    \u001b[49m\u001b[43mname\u001b[49m\u001b[38;5;241;43m=\u001b[39;49m\u001b[38;5;124;43m\"\u001b[39;49m\u001b[38;5;124;43msentencepiece_model.proto\u001b[39;49m\u001b[38;5;124;43m\"\u001b[39;49m\u001b[43m,\u001b[49m\n\u001b[1;32m     31\u001b[0m \u001b[43m    \u001b[49m\u001b[43mpackage\u001b[49m\u001b[38;5;241;43m=\u001b[39;49m\u001b[38;5;124;43m\"\u001b[39;49m\u001b[38;5;124;43msentencepiece\u001b[39;49m\u001b[38;5;124;43m\"\u001b[39;49m\u001b[43m,\u001b[49m\n\u001b[1;32m     32\u001b[0m \u001b[43m    \u001b[49m\u001b[43msyntax\u001b[49m\u001b[38;5;241;43m=\u001b[39;49m\u001b[38;5;124;43m\"\u001b[39;49m\u001b[38;5;124;43mproto2\u001b[39;49m\u001b[38;5;124;43m\"\u001b[39;49m\u001b[43m,\u001b[49m\n\u001b[1;32m     33\u001b[0m \u001b[43m    \u001b[49m\u001b[43mserialized_options\u001b[49m\u001b[38;5;241;43m=\u001b[39;49m\u001b[38;5;124;43mb\u001b[39;49m\u001b[38;5;124;43m\"\u001b[39;49m\u001b[38;5;124;43mH\u001b[39;49m\u001b[38;5;130;43;01m\\003\u001b[39;49;00m\u001b[38;5;124;43m\"\u001b[39;49m\u001b[43m,\u001b[49m\n\u001b[1;32m     34\u001b[0m \u001b[43m    \u001b[49m\u001b[43mcreate_key\u001b[49m\u001b[38;5;241;43m=\u001b[39;49m\u001b[43m_descriptor\u001b[49m\u001b[38;5;241;43m.\u001b[39;49m\u001b[43m_internal_create_key\u001b[49m\u001b[43m,\u001b[49m\n\u001b[1;32m     35\u001b[0m \u001b[43m    \u001b[49m\u001b[43mserialized_pb\u001b[49m\u001b[38;5;241;43m=\u001b[39;49m\u001b[43m(\u001b[49m\n\u001b[1;32m     36\u001b[0m \u001b[43m        \u001b[49m\u001b[38;5;124;43mb\u001b[39;49m\u001b[38;5;124;43m'\u001b[39;49m\u001b[38;5;130;43;01m\\n\u001b[39;49;00m\u001b[38;5;130;43;01m\\x19\u001b[39;49;00m\u001b[38;5;124;43msentencepiece_model.proto\u001b[39;49m\u001b[38;5;130;43;01m\\x12\u001b[39;49;00m\u001b[38;5;130;43;01m\\r\u001b[39;49;00m\u001b[38;5;124;43msentencepiece\u001b[39;49m\u001b[38;5;124;43m\"\u001b[39;49m\u001b[38;5;130;43;01m\\xa1\u001b[39;49;00m\u001b[38;5;130;43;01m\\n\u001b[39;49;00m\u001b[38;5;130;43;01m\\n\u001b[39;49;00m\u001b[38;5;130;43;01m\\x0b\u001b[39;49;00m\u001b[38;5;124;43mTrainerSpec\u001b[39;49m\u001b[38;5;130;43;01m\\x12\u001b[39;49;00m\u001b[38;5;130;43;01m\\r\u001b[39;49;00m\u001b[38;5;130;43;01m\\n\u001b[39;49;00m\u001b[38;5;130;43;01m\\x05\u001b[39;49;00m\u001b[38;5;124;43minput\u001b[39;49m\u001b[38;5;130;43;01m\\x18\u001b[39;49;00m\u001b[38;5;130;43;01m\\x01\u001b[39;49;00m\u001b[38;5;124;43m'\u001b[39;49m\n\u001b[1;32m     37\u001b[0m \u001b[43m        \u001b[49m\u001b[38;5;124;43mb\u001b[39;49m\u001b[38;5;124;43m\"\u001b[39;49m\u001b[38;5;124;43m \u001b[39;49m\u001b[38;5;130;43;01m\\x03\u001b[39;49;00m\u001b[38;5;124;43m(\u001b[39;49m\u001b[38;5;130;43;01m\\t\u001b[39;49;00m\u001b[38;5;130;43;01m\\x12\u001b[39;49;00m\u001b[38;5;130;43;01m\\x14\u001b[39;49;00m\u001b[38;5;130;43;01m\\n\u001b[39;49;00m\u001b[38;5;130;43;01m\\x0c\u001b[39;49;00m\u001b[38;5;124;43minput_format\u001b[39;49m\u001b[38;5;130;43;01m\\x18\u001b[39;49;00m\u001b[38;5;130;43;01m\\x07\u001b[39;49;00m\u001b[38;5;124;43m \u001b[39;49m\u001b[38;5;130;43;01m\\x01\u001b[39;49;00m\u001b[38;5;124;43m(\u001b[39;49m\u001b[38;5;130;43;01m\\t\u001b[39;49;00m\u001b[38;5;130;43;01m\\x12\u001b[39;49;00m\u001b[38;5;130;43;01m\\x14\u001b[39;49;00m\u001b[38;5;130;43;01m\\n\u001b[39;49;00m\u001b[38;5;130;43;01m\\x0c\u001b[39;49;00m\u001b[38;5;124;43mmodel_prefix\u001b[39;49m\u001b[38;5;130;43;01m\\x18\u001b[39;49;00m\u001b[38;5;130;43;01m\\x02\u001b[39;49;00m\u001b[38;5;124;43m\"\u001b[39;49m\n\u001b[1;32m     38\u001b[0m \u001b[43m        \u001b[49m\u001b[38;5;124;43mb\u001b[39;49m\u001b[38;5;124;43m\"\u001b[39;49m\u001b[38;5;124;43m \u001b[39;49m\u001b[38;5;130;43;01m\\x01\u001b[39;49;00m\u001b[38;5;124;43m(\u001b[39;49m\u001b[38;5;130;43;01m\\t\u001b[39;49;00m\u001b[38;5;130;43;01m\\x12\u001b[39;49;00m\u001b[38;5;130;43;01m\\x41\u001b[39;49;00m\u001b[38;5;130;43;01m\\n\u001b[39;49;00m\u001b[38;5;130;43;01m\\n\u001b[39;49;00m\u001b[38;5;124;43mmodel_type\u001b[39;49m\u001b[38;5;130;43;01m\\x18\u001b[39;49;00m\u001b[38;5;130;43;01m\\x03\u001b[39;49;00m\u001b[38;5;124;43m\"\u001b[39;49m\n\u001b[1;32m     39\u001b[0m \u001b[43m        \u001b[49m\u001b[38;5;124;43mb\u001b[39;49m\u001b[38;5;124;43m\"\u001b[39;49m\u001b[38;5;124;43m \u001b[39;49m\u001b[38;5;130;43;01m\\x01\u001b[39;49;00m\u001b[38;5;124;43m(\u001b[39;49m\u001b[38;5;130;43;01m\\x0e\u001b[39;49;00m\u001b[38;5;130;43;01m\\x32\u001b[39;49;00m\u001b[38;5;124;43m$.sentencepiece.TrainerSpec.ModelType:\u001b[39;49m\u001b[38;5;130;43;01m\\x07\u001b[39;49;00m\u001b[38;5;124;43mUNIGRAM\u001b[39;49m\u001b[38;5;130;43;01m\\x12\u001b[39;49;00m\u001b[38;5;130;43;01m\\x18\u001b[39;49;00m\u001b[38;5;130;43;01m\\n\u001b[39;49;00m\u001b[38;5;130;43;01m\\n\u001b[39;49;00m\u001b[38;5;124;43mvocab_size\u001b[39;49m\u001b[38;5;130;43;01m\\x18\u001b[39;49;00m\u001b[38;5;130;43;01m\\x04\u001b[39;49;00m\u001b[38;5;124;43m\"\u001b[39;49m\n\u001b[1;32m     40\u001b[0m \u001b[43m        \u001b[49m\u001b[38;5;124;43mb\u001b[39;49m\u001b[38;5;124;43m\"\u001b[39;49m\u001b[38;5;124;43m \u001b[39;49m\u001b[38;5;130;43;01m\\x01\u001b[39;49;00m\u001b[38;5;124;43m(\u001b[39;49m\u001b[38;5;130;43;01m\\x05\u001b[39;49;00m\u001b[38;5;124;43m:\u001b[39;49m\u001b[38;5;130;43;01m\\x04\u001b[39;49;00m\u001b[38;5;130;43;01m\\x38\u001b[39;49;00m\u001b[38;5;130;43;01m\\x30\u001b[39;49;00m\u001b[38;5;130;43;01m\\x30\u001b[39;49;00m\u001b[38;5;130;43;01m\\x30\u001b[39;49;00m\u001b[38;5;130;43;01m\\x12\u001b[39;49;00m\u001b[38;5;130;43;01m\\x17\u001b[39;49;00m\u001b[38;5;130;43;01m\\n\u001b[39;49;00m\u001b[38;5;130;43;01m\\x0f\u001b[39;49;00m\u001b[38;5;130;43;01m\\x61\u001b[39;49;00m\u001b[38;5;130;43;01m\\x63\u001b[39;49;00m\u001b[38;5;130;43;01m\\x63\u001b[39;49;00m\u001b[38;5;130;43;01m\\x65\u001b[39;49;00m\u001b[38;5;124;43mpt_language\u001b[39;49m\u001b[38;5;130;43;01m\\x18\u001b[39;49;00m\u001b[38;5;130;43;01m\\x05\u001b[39;49;00m\u001b[38;5;124;43m \u001b[39;49m\u001b[38;5;130;43;01m\\x03\u001b[39;49;00m\u001b[38;5;124;43m(\u001b[39;49m\u001b[38;5;130;43;01m\\t\u001b[39;49;00m\u001b[38;5;130;43;01m\\x12\u001b[39;49;00m\u001b[38;5;124;43m\"\u001b[39;49m\n\u001b[1;32m     41\u001b[0m \u001b[43m        \u001b[49m\u001b[38;5;124;43mb\u001b[39;49m\u001b[38;5;124;43m'\u001b[39;49m\u001b[38;5;124;43m \u001b[39;49m\u001b[38;5;130;43;01m\\n\u001b[39;49;00m\u001b[38;5;130;43;01m\\x15\u001b[39;49;00m\u001b[38;5;124;43mself_test_sample_size\u001b[39;49m\u001b[38;5;130;43;01m\\x18\u001b[39;49;00m\u001b[38;5;130;43;01m\\x06\u001b[39;49;00m\u001b[38;5;124;43m \u001b[39;49m\u001b[38;5;130;43;01m\\x01\u001b[39;49;00m\u001b[38;5;124;43m(\u001b[39;49m\u001b[38;5;130;43;01m\\x05\u001b[39;49;00m\u001b[38;5;124;43m:\u001b[39;49m\u001b[38;5;130;43;01m\\x01\u001b[39;49;00m\u001b[38;5;130;43;01m\\x30\u001b[39;49;00m\u001b[38;5;130;43;01m\\x12\u001b[39;49;00m\u001b[38;5;124;43m\"\u001b[39;49m\u001b[38;5;130;43;01m\\n\u001b[39;49;00m\u001b[38;5;130;43;01m\\x12\u001b[39;49;00m\u001b[38;5;130;43;01m\\x63\u001b[39;49;00m\u001b[38;5;124;43mharacter_coverage\u001b[39;49m\u001b[38;5;130;43;01m\\x18\u001b[39;49;00m\u001b[38;5;130;43;01m\\n\u001b[39;49;00m\u001b[38;5;124;43m'\u001b[39;49m\n\u001b[1;32m     42\u001b[0m \u001b[43m        \u001b[49m\u001b[38;5;124;43mb\u001b[39;49m\u001b[38;5;124;43m\"\u001b[39;49m\u001b[38;5;124;43m \u001b[39;49m\u001b[38;5;130;43;01m\\x01\u001b[39;49;00m\u001b[38;5;124;43m(\u001b[39;49m\u001b[38;5;130;43;01m\\x02\u001b[39;49;00m\u001b[38;5;124;43m:\u001b[39;49m\u001b[38;5;130;43;01m\\x06\u001b[39;49;00m\u001b[38;5;130;43;01m\\x30\u001b[39;49;00m\u001b[38;5;124;43m.9995\u001b[39;49m\u001b[38;5;130;43;01m\\x12\u001b[39;49;00m\u001b[38;5;130;43;01m\\x1e\u001b[39;49;00m\u001b[38;5;130;43;01m\\n\u001b[39;49;00m\u001b[38;5;130;43;01m\\x13\u001b[39;49;00m\u001b[38;5;124;43minput_sentence_size\u001b[39;49m\u001b[38;5;130;43;01m\\x18\u001b[39;49;00m\u001b[38;5;130;43;01m\\x0b\u001b[39;49;00m\u001b[38;5;124;43m\"\u001b[39;49m\n\u001b[1;32m     43\u001b[0m \u001b[43m        \u001b[49m\u001b[38;5;124;43mb\u001b[39;49m\u001b[38;5;124;43m\"\u001b[39;49m\u001b[38;5;124;43m \u001b[39;49m\u001b[38;5;130;43;01m\\x01\u001b[39;49;00m\u001b[38;5;124;43m(\u001b[39;49m\u001b[38;5;130;43;01m\\x04\u001b[39;49;00m\u001b[38;5;124;43m:\u001b[39;49m\u001b[38;5;130;43;01m\\x01\u001b[39;49;00m\u001b[38;5;130;43;01m\\x30\u001b[39;49;00m\u001b[38;5;130;43;01m\\x12\u001b[39;49;00m\u001b[38;5;124;43m$\u001b[39;49m\u001b[38;5;130;43;01m\\n\u001b[39;49;00m\u001b[38;5;130;43;01m\\x16\u001b[39;49;00m\u001b[38;5;124;43mshuffle_input_sentence\u001b[39;49m\u001b[38;5;130;43;01m\\x18\u001b[39;49;00m\u001b[38;5;130;43;01m\\x13\u001b[39;49;00m\u001b[38;5;124;43m \u001b[39;49m\u001b[38;5;130;43;01m\\x01\u001b[39;49;00m\u001b[38;5;124;43m(\u001b[39;49m\u001b[38;5;130;43;01m\\x08\u001b[39;49;00m\u001b[38;5;124;43m:\u001b[39;49m\u001b[38;5;130;43;01m\\x04\u001b[39;49;00m\u001b[38;5;124;43mtrue\u001b[39;49m\u001b[38;5;130;43;01m\\x12\u001b[39;49;00m\u001b[38;5;124;43m\"\u001b[39;49m\n\u001b[1;32m     44\u001b[0m \u001b[43m        \u001b[49m\u001b[38;5;124;43mb\u001b[39;49m\u001b[38;5;124;43m'\u001b[39;49m\u001b[38;5;124;43m \u001b[39;49m\u001b[38;5;130;43;01m\\n\u001b[39;49;00m\u001b[38;5;130;43;01m\\x14\u001b[39;49;00m\u001b[38;5;124;43mmining_sentence_size\u001b[39;49m\u001b[38;5;130;43;01m\\x18\u001b[39;49;00m\u001b[38;5;130;43;01m\\x0c\u001b[39;49;00m\u001b[38;5;124;43m \u001b[39;49m\u001b[38;5;130;43;01m\\x01\u001b[39;49;00m\u001b[38;5;124;43m(\u001b[39;49m\u001b[38;5;130;43;01m\\x05\u001b[39;49;00m\u001b[38;5;130;43;01m\\x42\u001b[39;49;00m\u001b[38;5;130;43;01m\\x02\u001b[39;49;00m\u001b[38;5;130;43;01m\\x18\u001b[39;49;00m\u001b[38;5;130;43;01m\\x01\u001b[39;49;00m\u001b[38;5;130;43;01m\\x12\u001b[39;49;00m\u001b[38;5;124;43m\"\u001b[39;49m\u001b[38;5;130;43;01m\\n\u001b[39;49;00m\u001b[38;5;130;43;01m\\x16\u001b[39;49;00m\u001b[38;5;124;43mtraining_sentence_size\u001b[39;49m\u001b[38;5;130;43;01m\\x18\u001b[39;49;00m\u001b[38;5;130;43;01m\\r\u001b[39;49;00m\u001b[38;5;124;43m'\u001b[39;49m\n\u001b[1;32m     45\u001b[0m \u001b[43m        \u001b[49m\u001b[38;5;124;43mb\u001b[39;49m\u001b[38;5;124;43m\"\u001b[39;49m\u001b[38;5;124;43m \u001b[39;49m\u001b[38;5;130;43;01m\\x01\u001b[39;49;00m\u001b[38;5;124;43m(\u001b[39;49m\u001b[38;5;130;43;01m\\x05\u001b[39;49;00m\u001b[38;5;130;43;01m\\x42\u001b[39;49;00m\u001b[38;5;130;43;01m\\x02\u001b[39;49;00m\u001b[38;5;130;43;01m\\x18\u001b[39;49;00m\u001b[38;5;130;43;01m\\x01\u001b[39;49;00m\u001b[38;5;130;43;01m\\x12\u001b[39;49;00m\u001b[38;5;124;43m(\u001b[39;49m\u001b[38;5;130;43;01m\\n\u001b[39;49;00m\u001b[38;5;130;43;01m\\x17\u001b[39;49;00m\u001b[38;5;124;43mseed_sentencepiece_size\u001b[39;49m\u001b[38;5;130;43;01m\\x18\u001b[39;49;00m\u001b[38;5;130;43;01m\\x0e\u001b[39;49;00m\u001b[38;5;124;43m\"\u001b[39;49m\n\u001b[1;32m     46\u001b[0m \u001b[43m        \u001b[49m\u001b[38;5;124;43mb\u001b[39;49m\u001b[38;5;124;43m\"\u001b[39;49m\u001b[38;5;124;43m \u001b[39;49m\u001b[38;5;130;43;01m\\x01\u001b[39;49;00m\u001b[38;5;124;43m(\u001b[39;49m\u001b[38;5;130;43;01m\\x05\u001b[39;49;00m\u001b[38;5;124;43m:\u001b[39;49m\u001b[38;5;130;43;01m\\x07\u001b[39;49;00m\u001b[38;5;130;43;01m\\x31\u001b[39;49;00m\u001b[38;5;130;43;01m\\x30\u001b[39;49;00m\u001b[38;5;130;43;01m\\x30\u001b[39;49;00m\u001b[38;5;130;43;01m\\x30\u001b[39;49;00m\u001b[38;5;130;43;01m\\x30\u001b[39;49;00m\u001b[38;5;130;43;01m\\x30\u001b[39;49;00m\u001b[38;5;130;43;01m\\x30\u001b[39;49;00m\u001b[38;5;130;43;01m\\x12\u001b[39;49;00m\u001b[38;5;130;43;01m\\x1e\u001b[39;49;00m\u001b[38;5;130;43;01m\\n\u001b[39;49;00m\u001b[38;5;130;43;01m\\x10\u001b[39;49;00m\u001b[38;5;124;43mshrinking_factor\u001b[39;49m\u001b[38;5;130;43;01m\\x18\u001b[39;49;00m\u001b[38;5;130;43;01m\\x0f\u001b[39;49;00m\u001b[38;5;124;43m\"\u001b[39;49m\n\u001b[1;32m     47\u001b[0m \u001b[43m        \u001b[49m\u001b[38;5;124;43mb\u001b[39;49m\u001b[38;5;124;43m\"\u001b[39;49m\u001b[38;5;124;43m \u001b[39;49m\u001b[38;5;130;43;01m\\x01\u001b[39;49;00m\u001b[38;5;124;43m(\u001b[39;49m\u001b[38;5;130;43;01m\\x02\u001b[39;49;00m\u001b[38;5;124;43m:\u001b[39;49m\u001b[38;5;130;43;01m\\x04\u001b[39;49;00m\u001b[38;5;130;43;01m\\x30\u001b[39;49;00m\u001b[38;5;124;43m.75\u001b[39;49m\u001b[38;5;130;43;01m\\x12\u001b[39;49;00m\u001b[38;5;124;43m!\u001b[39;49m\u001b[38;5;130;43;01m\\n\u001b[39;49;00m\u001b[38;5;130;43;01m\\x13\u001b[39;49;00m\u001b[38;5;124;43mmax_sentence_length\u001b[39;49m\u001b[38;5;130;43;01m\\x18\u001b[39;49;00m\u001b[38;5;130;43;01m\\x12\u001b[39;49;00m\u001b[38;5;124;43m\"\u001b[39;49m\n\u001b[1;32m     48\u001b[0m \u001b[43m        \u001b[49m\u001b[38;5;124;43mb\u001b[39;49m\u001b[38;5;124;43m\"\u001b[39;49m\u001b[38;5;124;43m \u001b[39;49m\u001b[38;5;130;43;01m\\x01\u001b[39;49;00m\u001b[38;5;124;43m(\u001b[39;49m\u001b[38;5;130;43;01m\\x05\u001b[39;49;00m\u001b[38;5;124;43m:\u001b[39;49m\u001b[38;5;130;43;01m\\x04\u001b[39;49;00m\u001b[38;5;130;43;01m\\x34\u001b[39;49;00m\u001b[38;5;130;43;01m\\x31\u001b[39;49;00m\u001b[38;5;130;43;01m\\x39\u001b[39;49;00m\u001b[38;5;130;43;01m\\x32\u001b[39;49;00m\u001b[38;5;130;43;01m\\x12\u001b[39;49;00m\u001b[38;5;130;43;01m\\x17\u001b[39;49;00m\u001b[38;5;130;43;01m\\n\u001b[39;49;00m\u001b[38;5;130;43;01m\\x0b\u001b[39;49;00m\u001b[38;5;124;43mnum_threads\u001b[39;49m\u001b[38;5;130;43;01m\\x18\u001b[39;49;00m\u001b[38;5;130;43;01m\\x10\u001b[39;49;00m\u001b[38;5;124;43m\"\u001b[39;49m\n\u001b[1;32m     49\u001b[0m \u001b[43m        \u001b[49m\u001b[38;5;124;43mb\u001b[39;49m\u001b[38;5;124;43m\"\u001b[39;49m\u001b[38;5;124;43m \u001b[39;49m\u001b[38;5;130;43;01m\\x01\u001b[39;49;00m\u001b[38;5;124;43m(\u001b[39;49m\u001b[38;5;130;43;01m\\x05\u001b[39;49;00m\u001b[38;5;124;43m:\u001b[39;49m\u001b[38;5;130;43;01m\\x02\u001b[39;49;00m\u001b[38;5;130;43;01m\\x31\u001b[39;49;00m\u001b[38;5;130;43;01m\\x36\u001b[39;49;00m\u001b[38;5;130;43;01m\\x12\u001b[39;49;00m\u001b[38;5;130;43;01m\\x1d\u001b[39;49;00m\u001b[38;5;130;43;01m\\n\u001b[39;49;00m\u001b[38;5;130;43;01m\\x12\u001b[39;49;00m\u001b[38;5;124;43mnum_sub_iterations\u001b[39;49m\u001b[38;5;130;43;01m\\x18\u001b[39;49;00m\u001b[38;5;130;43;01m\\x11\u001b[39;49;00m\u001b[38;5;124;43m\"\u001b[39;49m\n\u001b[1;32m     50\u001b[0m \u001b[43m        \u001b[49m\u001b[38;5;124;43mb\u001b[39;49m\u001b[38;5;124;43m\"\u001b[39;49m\u001b[38;5;124;43m \u001b[39;49m\u001b[38;5;130;43;01m\\x01\u001b[39;49;00m\u001b[38;5;124;43m(\u001b[39;49m\u001b[38;5;130;43;01m\\x05\u001b[39;49;00m\u001b[38;5;124;43m:\u001b[39;49m\u001b[38;5;130;43;01m\\x01\u001b[39;49;00m\u001b[38;5;130;43;01m\\x32\u001b[39;49;00m\u001b[38;5;130;43;01m\\x12\u001b[39;49;00m\u001b[38;5;124;43m$\u001b[39;49m\u001b[38;5;130;43;01m\\n\u001b[39;49;00m\u001b[38;5;130;43;01m\\x18\u001b[39;49;00m\u001b[38;5;124;43mmax_sentencepiece_length\u001b[39;49m\u001b[38;5;130;43;01m\\x18\u001b[39;49;00m\u001b[38;5;130;43;01m\\x14\u001b[39;49;00m\u001b[38;5;124;43m\"\u001b[39;49m\n\u001b[1;32m     51\u001b[0m \u001b[43m        \u001b[49m\u001b[38;5;124;43mb\u001b[39;49m\u001b[38;5;124;43m\"\u001b[39;49m\u001b[38;5;124;43m \u001b[39;49m\u001b[38;5;130;43;01m\\x01\u001b[39;49;00m\u001b[38;5;124;43m(\u001b[39;49m\u001b[38;5;130;43;01m\\x05\u001b[39;49;00m\u001b[38;5;124;43m:\u001b[39;49m\u001b[38;5;130;43;01m\\x02\u001b[39;49;00m\u001b[38;5;130;43;01m\\x31\u001b[39;49;00m\u001b[38;5;130;43;01m\\x36\u001b[39;49;00m\u001b[38;5;130;43;01m\\x12\u001b[39;49;00m\u001b[38;5;124;43m%\u001b[39;49m\u001b[38;5;130;43;01m\\n\u001b[39;49;00m\u001b[38;5;130;43;01m\\x17\u001b[39;49;00m\u001b[38;5;124;43msplit_by_unicode_script\u001b[39;49m\u001b[38;5;130;43;01m\\x18\u001b[39;49;00m\u001b[38;5;130;43;01m\\x15\u001b[39;49;00m\u001b[38;5;124;43m\"\u001b[39;49m\n\u001b[1;32m     52\u001b[0m \u001b[43m        \u001b[49m\u001b[38;5;124;43mb\u001b[39;49m\u001b[38;5;124;43m\"\u001b[39;49m\u001b[38;5;124;43m \u001b[39;49m\u001b[38;5;130;43;01m\\x01\u001b[39;49;00m\u001b[38;5;124;43m(\u001b[39;49m\u001b[38;5;130;43;01m\\x08\u001b[39;49;00m\u001b[38;5;124;43m:\u001b[39;49m\u001b[38;5;130;43;01m\\x04\u001b[39;49;00m\u001b[38;5;124;43mtrue\u001b[39;49m\u001b[38;5;130;43;01m\\x12\u001b[39;49;00m\u001b[38;5;130;43;01m\\x1d\u001b[39;49;00m\u001b[38;5;130;43;01m\\n\u001b[39;49;00m\u001b[38;5;130;43;01m\\x0f\u001b[39;49;00m\u001b[38;5;124;43msplit_by_number\u001b[39;49m\u001b[38;5;130;43;01m\\x18\u001b[39;49;00m\u001b[38;5;130;43;01m\\x17\u001b[39;49;00m\u001b[38;5;124;43m\"\u001b[39;49m\n\u001b[1;32m     53\u001b[0m \u001b[43m        \u001b[49m\u001b[38;5;124;43mb\u001b[39;49m\u001b[38;5;124;43m\"\u001b[39;49m\u001b[38;5;124;43m \u001b[39;49m\u001b[38;5;130;43;01m\\x01\u001b[39;49;00m\u001b[38;5;124;43m(\u001b[39;49m\u001b[38;5;130;43;01m\\x08\u001b[39;49;00m\u001b[38;5;124;43m:\u001b[39;49m\u001b[38;5;130;43;01m\\x04\u001b[39;49;00m\u001b[38;5;124;43mtrue\u001b[39;49m\u001b[38;5;130;43;01m\\x12\u001b[39;49;00m\u001b[38;5;124;43m!\u001b[39;49m\u001b[38;5;130;43;01m\\n\u001b[39;49;00m\u001b[38;5;130;43;01m\\x13\u001b[39;49;00m\u001b[38;5;124;43msplit_by_whitespace\u001b[39;49m\u001b[38;5;130;43;01m\\x18\u001b[39;49;00m\u001b[38;5;130;43;01m\\x16\u001b[39;49;00m\u001b[38;5;124;43m\"\u001b[39;49m\n\u001b[1;32m     54\u001b[0m \u001b[43m        \u001b[49m\u001b[38;5;124;43mb\u001b[39;49m\u001b[38;5;124;43m\"\u001b[39;49m\u001b[38;5;124;43m \u001b[39;49m\u001b[38;5;130;43;01m\\x01\u001b[39;49;00m\u001b[38;5;124;43m(\u001b[39;49m\u001b[38;5;130;43;01m\\x08\u001b[39;49;00m\u001b[38;5;124;43m:\u001b[39;49m\u001b[38;5;130;43;01m\\x04\u001b[39;49;00m\u001b[38;5;124;43mtrue\u001b[39;49m\u001b[38;5;130;43;01m\\x12\u001b[39;49;00m\u001b[38;5;124;43m)\u001b[39;49m\u001b[38;5;130;43;01m\\n\u001b[39;49;00m\u001b[38;5;130;43;01m\\x1a\u001b[39;49;00m\u001b[38;5;124;43mtreat_whitespace_as_suffix\u001b[39;49m\u001b[38;5;130;43;01m\\x18\u001b[39;49;00m\u001b[38;5;130;43;01m\\x18\u001b[39;49;00m\u001b[38;5;124;43m\"\u001b[39;49m\n\u001b[1;32m     55\u001b[0m \u001b[43m        \u001b[49m\u001b[38;5;124;43mb\u001b[39;49m\u001b[38;5;124;43m\"\u001b[39;49m\u001b[38;5;124;43m \u001b[39;49m\u001b[38;5;130;43;01m\\x01\u001b[39;49;00m\u001b[38;5;124;43m(\u001b[39;49m\u001b[38;5;130;43;01m\\x08\u001b[39;49;00m\u001b[38;5;124;43m:\u001b[39;49m\u001b[38;5;130;43;01m\\x05\u001b[39;49;00m\u001b[38;5;130;43;01m\\x66\u001b[39;49;00m\u001b[38;5;130;43;01m\\x61\u001b[39;49;00m\u001b[38;5;124;43mlse\u001b[39;49m\u001b[38;5;130;43;01m\\x12\u001b[39;49;00m\u001b[38;5;130;43;01m\\x1b\u001b[39;49;00m\u001b[38;5;130;43;01m\\n\u001b[39;49;00m\u001b[38;5;130;43;01m\\x0c\u001b[39;49;00m\u001b[38;5;124;43msplit_digits\u001b[39;49m\u001b[38;5;130;43;01m\\x18\u001b[39;49;00m\u001b[38;5;130;43;01m\\x19\u001b[39;49;00m\u001b[38;5;124;43m\"\u001b[39;49m\n\u001b[1;32m     56\u001b[0m \u001b[43m        \u001b[49m\u001b[38;5;124;43mb\u001b[39;49m\u001b[38;5;124;43m\"\u001b[39;49m\u001b[38;5;124;43m \u001b[39;49m\u001b[38;5;130;43;01m\\x01\u001b[39;49;00m\u001b[38;5;124;43m(\u001b[39;49m\u001b[38;5;130;43;01m\\x08\u001b[39;49;00m\u001b[38;5;124;43m:\u001b[39;49m\u001b[38;5;130;43;01m\\x05\u001b[39;49;00m\u001b[38;5;130;43;01m\\x66\u001b[39;49;00m\u001b[38;5;130;43;01m\\x61\u001b[39;49;00m\u001b[38;5;124;43mlse\u001b[39;49m\u001b[38;5;130;43;01m\\x12\u001b[39;49;00m\u001b[38;5;130;43;01m\\x17\u001b[39;49;00m\u001b[38;5;130;43;01m\\n\u001b[39;49;00m\u001b[38;5;130;43;01m\\x0f\u001b[39;49;00m\u001b[38;5;130;43;01m\\x63\u001b[39;49;00m\u001b[38;5;124;43montrol_symbols\u001b[39;49m\u001b[38;5;130;43;01m\\x18\u001b[39;49;00m\u001b[38;5;130;43;01m\\x1e\u001b[39;49;00m\u001b[38;5;124;43m\"\u001b[39;49m\n\u001b[1;32m     57\u001b[0m \u001b[43m        \u001b[49m\u001b[38;5;124;43mb\u001b[39;49m\u001b[38;5;124;43m\"\u001b[39;49m\u001b[38;5;124;43m \u001b[39;49m\u001b[38;5;130;43;01m\\x03\u001b[39;49;00m\u001b[38;5;124;43m(\u001b[39;49m\u001b[38;5;130;43;01m\\t\u001b[39;49;00m\u001b[38;5;130;43;01m\\x12\u001b[39;49;00m\u001b[38;5;130;43;01m\\x1c\u001b[39;49;00m\u001b[38;5;130;43;01m\\n\u001b[39;49;00m\u001b[38;5;130;43;01m\\x14\u001b[39;49;00m\u001b[38;5;124;43muser_defined_symbols\u001b[39;49m\u001b[38;5;130;43;01m\\x18\u001b[39;49;00m\u001b[38;5;130;43;01m\\x1f\u001b[39;49;00m\u001b[38;5;124;43m \u001b[39;49m\u001b[38;5;130;43;01m\\x03\u001b[39;49;00m\u001b[38;5;124;43m(\u001b[39;49m\u001b[38;5;130;43;01m\\t\u001b[39;49;00m\u001b[38;5;130;43;01m\\x12\u001b[39;49;00m\u001b[38;5;130;43;01m\\x16\u001b[39;49;00m\u001b[38;5;130;43;01m\\n\u001b[39;49;00m\u001b[38;5;130;43;01m\\x0e\u001b[39;49;00m\u001b[38;5;124;43mrequired_chars\u001b[39;49m\u001b[38;5;130;43;01m\\x18\u001b[39;49;00m\u001b[38;5;124;43m$\u001b[39;49m\u001b[38;5;124;43m\"\u001b[39;49m\n\u001b[1;32m     58\u001b[0m \u001b[43m        \u001b[49m\u001b[38;5;124;43mb\u001b[39;49m\u001b[38;5;124;43m\"\u001b[39;49m\u001b[38;5;124;43m \u001b[39;49m\u001b[38;5;130;43;01m\\x01\u001b[39;49;00m\u001b[38;5;124;43m(\u001b[39;49m\u001b[38;5;130;43;01m\\t\u001b[39;49;00m\u001b[38;5;130;43;01m\\x12\u001b[39;49;00m\u001b[38;5;130;43;01m\\x1c\u001b[39;49;00m\u001b[38;5;130;43;01m\\n\u001b[39;49;00m\u001b[38;5;130;43;01m\\r\u001b[39;49;00m\u001b[38;5;124;43mbyte_fallback\u001b[39;49m\u001b[38;5;130;43;01m\\x18\u001b[39;49;00m\u001b[38;5;124;43m# \u001b[39;49m\u001b[38;5;130;43;01m\\x01\u001b[39;49;00m\u001b[38;5;124;43m(\u001b[39;49m\u001b[38;5;130;43;01m\\x08\u001b[39;49;00m\u001b[38;5;124;43m:\u001b[39;49m\u001b[38;5;130;43;01m\\x05\u001b[39;49;00m\u001b[38;5;130;43;01m\\x66\u001b[39;49;00m\u001b[38;5;130;43;01m\\x61\u001b[39;49;00m\u001b[38;5;124;43mlse\u001b[39;49m\u001b[38;5;130;43;01m\\x12\u001b[39;49;00m\u001b[38;5;124;43m+\u001b[39;49m\u001b[38;5;130;43;01m\\n\u001b[39;49;00m\u001b[38;5;130;43;01m\\x1d\u001b[39;49;00m\u001b[38;5;124;43mvocabulary_output_piece_score\u001b[39;49m\u001b[38;5;130;43;01m\\x18\u001b[39;49;00m\u001b[38;5;124;43m\"\u001b[39;49m\n\u001b[1;32m     59\u001b[0m \u001b[43m        \u001b[49m\u001b[38;5;124;43mb\u001b[39;49m\u001b[38;5;124;43m'\u001b[39;49m\u001b[38;5;124;43m  \u001b[39;49m\u001b[38;5;130;43;01m\\x01\u001b[39;49;00m\u001b[38;5;124;43m(\u001b[39;49m\u001b[38;5;130;43;01m\\x08\u001b[39;49;00m\u001b[38;5;124;43m:\u001b[39;49m\u001b[38;5;130;43;01m\\x04\u001b[39;49;00m\u001b[38;5;124;43mtrue\u001b[39;49m\u001b[38;5;130;43;01m\\x12\u001b[39;49;00m\u001b[38;5;130;43;01m\\x1e\u001b[39;49;00m\u001b[38;5;130;43;01m\\n\u001b[39;49;00m\u001b[38;5;130;43;01m\\x10\u001b[39;49;00m\u001b[38;5;124;43mhard_vocab_limit\u001b[39;49m\u001b[38;5;130;43;01m\\x18\u001b[39;49;00m\u001b[38;5;124;43m! \u001b[39;49m\u001b[38;5;130;43;01m\\x01\u001b[39;49;00m\u001b[38;5;124;43m(\u001b[39;49m\u001b[38;5;130;43;01m\\x08\u001b[39;49;00m\u001b[38;5;124;43m:\u001b[39;49m\u001b[38;5;130;43;01m\\x04\u001b[39;49;00m\u001b[38;5;124;43mtrue\u001b[39;49m\u001b[38;5;130;43;01m\\x12\u001b[39;49;00m\u001b[38;5;130;43;01m\\x1c\u001b[39;49;00m\u001b[38;5;130;43;01m\\n\u001b[39;49;00m\u001b[38;5;130;43;01m\\r\u001b[39;49;00m\u001b[38;5;124;43muse_all_vocab\u001b[39;49m\u001b[38;5;130;43;01m\\x18\u001b[39;49;00m\u001b[38;5;124;43m\"\u001b[39;49m\u001b[38;5;124;43m'\u001b[39;49m\n\u001b[1;32m     60\u001b[0m \u001b[43m        \u001b[49m\u001b[38;5;124;43mb\u001b[39;49m\u001b[38;5;124;43m\"\u001b[39;49m\u001b[38;5;124;43m \u001b[39;49m\u001b[38;5;130;43;01m\\x01\u001b[39;49;00m\u001b[38;5;124;43m(\u001b[39;49m\u001b[38;5;130;43;01m\\x08\u001b[39;49;00m\u001b[38;5;124;43m:\u001b[39;49m\u001b[38;5;130;43;01m\\x05\u001b[39;49;00m\u001b[38;5;130;43;01m\\x66\u001b[39;49;00m\u001b[38;5;130;43;01m\\x61\u001b[39;49;00m\u001b[38;5;124;43mlse\u001b[39;49m\u001b[38;5;130;43;01m\\x12\u001b[39;49;00m\u001b[38;5;130;43;01m\\x11\u001b[39;49;00m\u001b[38;5;130;43;01m\\n\u001b[39;49;00m\u001b[38;5;130;43;01m\\x06\u001b[39;49;00m\u001b[38;5;124;43munk_id\u001b[39;49m\u001b[38;5;130;43;01m\\x18\u001b[39;49;00m\u001b[38;5;124;43m( \u001b[39;49m\u001b[38;5;130;43;01m\\x01\u001b[39;49;00m\u001b[38;5;124;43m(\u001b[39;49m\u001b[38;5;130;43;01m\\x05\u001b[39;49;00m\u001b[38;5;124;43m:\u001b[39;49m\u001b[38;5;130;43;01m\\x01\u001b[39;49;00m\u001b[38;5;130;43;01m\\x30\u001b[39;49;00m\u001b[38;5;130;43;01m\\x12\u001b[39;49;00m\u001b[38;5;130;43;01m\\x11\u001b[39;49;00m\u001b[38;5;130;43;01m\\n\u001b[39;49;00m\u001b[38;5;130;43;01m\\x06\u001b[39;49;00m\u001b[38;5;130;43;01m\\x62\u001b[39;49;00m\u001b[38;5;124;43mos_id\u001b[39;49m\u001b[38;5;130;43;01m\\x18\u001b[39;49;00m\u001b[38;5;124;43m)\u001b[39;49m\u001b[38;5;124;43m\"\u001b[39;49m\n\u001b[1;32m     61\u001b[0m \u001b[43m        \u001b[49m\u001b[38;5;124;43mb\u001b[39;49m\u001b[38;5;124;43m\"\u001b[39;49m\u001b[38;5;124;43m \u001b[39;49m\u001b[38;5;130;43;01m\\x01\u001b[39;49;00m\u001b[38;5;124;43m(\u001b[39;49m\u001b[38;5;130;43;01m\\x05\u001b[39;49;00m\u001b[38;5;124;43m:\u001b[39;49m\u001b[38;5;130;43;01m\\x01\u001b[39;49;00m\u001b[38;5;130;43;01m\\x31\u001b[39;49;00m\u001b[38;5;130;43;01m\\x12\u001b[39;49;00m\u001b[38;5;130;43;01m\\x11\u001b[39;49;00m\u001b[38;5;130;43;01m\\n\u001b[39;49;00m\u001b[38;5;130;43;01m\\x06\u001b[39;49;00m\u001b[38;5;130;43;01m\\x65\u001b[39;49;00m\u001b[38;5;124;43mos_id\u001b[39;49m\u001b[38;5;130;43;01m\\x18\u001b[39;49;00m\u001b[38;5;124;43m* \u001b[39;49m\u001b[38;5;130;43;01m\\x01\u001b[39;49;00m\u001b[38;5;124;43m(\u001b[39;49m\u001b[38;5;130;43;01m\\x05\u001b[39;49;00m\u001b[38;5;124;43m:\u001b[39;49m\u001b[38;5;130;43;01m\\x01\u001b[39;49;00m\u001b[38;5;130;43;01m\\x32\u001b[39;49;00m\u001b[38;5;130;43;01m\\x12\u001b[39;49;00m\u001b[38;5;130;43;01m\\x12\u001b[39;49;00m\u001b[38;5;130;43;01m\\n\u001b[39;49;00m\u001b[38;5;130;43;01m\\x06\u001b[39;49;00m\u001b[38;5;124;43mpad_id\u001b[39;49m\u001b[38;5;130;43;01m\\x18\u001b[39;49;00m\u001b[38;5;124;43m+\u001b[39;49m\u001b[38;5;124;43m\"\u001b[39;49m\n\u001b[1;32m     62\u001b[0m \u001b[43m        \u001b[49m\u001b[38;5;124;43mb\u001b[39;49m\u001b[38;5;124;43m\"\u001b[39;49m\u001b[38;5;124;43m \u001b[39;49m\u001b[38;5;130;43;01m\\x01\u001b[39;49;00m\u001b[38;5;124;43m(\u001b[39;49m\u001b[38;5;130;43;01m\\x05\u001b[39;49;00m\u001b[38;5;124;43m:\u001b[39;49m\u001b[38;5;130;43;01m\\x02\u001b[39;49;00m\u001b[38;5;124;43m-1\u001b[39;49m\u001b[38;5;130;43;01m\\x12\u001b[39;49;00m\u001b[38;5;130;43;01m\\x18\u001b[39;49;00m\u001b[38;5;130;43;01m\\n\u001b[39;49;00m\u001b[38;5;130;43;01m\\t\u001b[39;49;00m\u001b[38;5;124;43munk_piece\u001b[39;49m\u001b[38;5;130;43;01m\\x18\u001b[39;49;00m\u001b[38;5;124;43m- \u001b[39;49m\u001b[38;5;130;43;01m\\x01\u001b[39;49;00m\u001b[38;5;124;43m(\u001b[39;49m\u001b[38;5;130;43;01m\\t\u001b[39;49;00m\u001b[38;5;124;43m:\u001b[39;49m\u001b[38;5;130;43;01m\\x05\u001b[39;49;00m\u001b[38;5;124;43m<unk>\u001b[39;49m\u001b[38;5;130;43;01m\\x12\u001b[39;49;00m\u001b[38;5;130;43;01m\\x16\u001b[39;49;00m\u001b[38;5;130;43;01m\\n\u001b[39;49;00m\u001b[38;5;130;43;01m\\t\u001b[39;49;00m\u001b[38;5;124;43mbos_piece\u001b[39;49m\u001b[38;5;130;43;01m\\x18\u001b[39;49;00m\u001b[38;5;124;43m.\u001b[39;49m\u001b[38;5;124;43m\"\u001b[39;49m\n\u001b[1;32m     63\u001b[0m \u001b[43m        \u001b[49m\u001b[38;5;124;43mb\u001b[39;49m\u001b[38;5;124;43m\"\u001b[39;49m\u001b[38;5;124;43m \u001b[39;49m\u001b[38;5;130;43;01m\\x01\u001b[39;49;00m\u001b[38;5;124;43m(\u001b[39;49m\u001b[38;5;130;43;01m\\t\u001b[39;49;00m\u001b[38;5;124;43m:\u001b[39;49m\u001b[38;5;130;43;01m\\x03\u001b[39;49;00m\u001b[38;5;124;43m<s>\u001b[39;49m\u001b[38;5;130;43;01m\\x12\u001b[39;49;00m\u001b[38;5;130;43;01m\\x17\u001b[39;49;00m\u001b[38;5;130;43;01m\\n\u001b[39;49;00m\u001b[38;5;130;43;01m\\t\u001b[39;49;00m\u001b[38;5;124;43meos_piece\u001b[39;49m\u001b[38;5;130;43;01m\\x18\u001b[39;49;00m\u001b[38;5;124;43m/ \u001b[39;49m\u001b[38;5;130;43;01m\\x01\u001b[39;49;00m\u001b[38;5;124;43m(\u001b[39;49m\u001b[38;5;130;43;01m\\t\u001b[39;49;00m\u001b[38;5;124;43m:\u001b[39;49m\u001b[38;5;130;43;01m\\x04\u001b[39;49;00m\u001b[38;5;124;43m</s>\u001b[39;49m\u001b[38;5;130;43;01m\\x12\u001b[39;49;00m\u001b[38;5;130;43;01m\\x18\u001b[39;49;00m\u001b[38;5;130;43;01m\\n\u001b[39;49;00m\u001b[38;5;130;43;01m\\t\u001b[39;49;00m\u001b[38;5;124;43mpad_piece\u001b[39;49m\u001b[38;5;130;43;01m\\x18\u001b[39;49;00m\u001b[38;5;130;43;01m\\x30\u001b[39;49;00m\u001b[38;5;124;43m\"\u001b[39;49m\n\u001b[1;32m     64\u001b[0m \u001b[43m        \u001b[49m\u001b[38;5;124;43mb\u001b[39;49m\u001b[38;5;124;43m\"\u001b[39;49m\u001b[38;5;124;43m \u001b[39;49m\u001b[38;5;130;43;01m\\x01\u001b[39;49;00m\u001b[38;5;124;43m(\u001b[39;49m\u001b[38;5;130;43;01m\\t\u001b[39;49;00m\u001b[38;5;124;43m:\u001b[39;49m\u001b[38;5;130;43;01m\\x05\u001b[39;49;00m\u001b[38;5;124;43m<pad>\u001b[39;49m\u001b[38;5;130;43;01m\\x12\u001b[39;49;00m\u001b[38;5;130;43;01m\\x1a\u001b[39;49;00m\u001b[38;5;130;43;01m\\n\u001b[39;49;00m\u001b[38;5;130;43;01m\\x0b\u001b[39;49;00m\u001b[38;5;124;43munk_surface\u001b[39;49m\u001b[38;5;130;43;01m\\x18\u001b[39;49;00m\u001b[38;5;124;43m, \u001b[39;49m\u001b[38;5;130;43;01m\\x01\u001b[39;49;00m\u001b[38;5;124;43m(\u001b[39;49m\u001b[38;5;130;43;01m\\t\u001b[39;49;00m\u001b[38;5;124;43m:\u001b[39;49m\u001b[38;5;130;43;01m\\x05\u001b[39;49;00m\u001b[38;5;124;43m \u001b[39;49m\u001b[38;5;130;43;01m\\xe2\u001b[39;49;00m\u001b[38;5;130;43;01m\\x81\u001b[39;49;00m\u001b[38;5;130;43;01m\\x87\u001b[39;49;00m\u001b[38;5;124;43m\"\u001b[39;49m\n\u001b[1;32m     65\u001b[0m \u001b[43m        \u001b[49m\u001b[38;5;124;43mb\u001b[39;49m\u001b[38;5;124;43m\"\u001b[39;49m\u001b[38;5;124;43m \u001b[39;49m\u001b[38;5;130;43;01m\\x12\u001b[39;49;00m\u001b[38;5;124;43m+\u001b[39;49m\u001b[38;5;130;43;01m\\n\u001b[39;49;00m\u001b[38;5;130;43;01m\\x1c\u001b[39;49;00m\u001b[38;5;124;43mtrain_extremely_large_corpus\u001b[39;49m\u001b[38;5;130;43;01m\\x18\u001b[39;49;00m\u001b[38;5;130;43;01m\\x31\u001b[39;49;00m\u001b[38;5;124;43m\"\u001b[39;49m\n\u001b[1;32m     66\u001b[0m \u001b[43m        \u001b[49m\u001b[38;5;124;43mb\u001b[39;49m\u001b[38;5;124;43m'\u001b[39;49m\u001b[38;5;124;43m \u001b[39;49m\u001b[38;5;130;43;01m\\x01\u001b[39;49;00m\u001b[38;5;124;43m(\u001b[39;49m\u001b[38;5;130;43;01m\\x08\u001b[39;49;00m\u001b[38;5;124;43m:\u001b[39;49m\u001b[38;5;130;43;01m\\x05\u001b[39;49;00m\u001b[38;5;130;43;01m\\x66\u001b[39;49;00m\u001b[38;5;130;43;01m\\x61\u001b[39;49;00m\u001b[38;5;124;43mlse\u001b[39;49m\u001b[38;5;124;43m\"\u001b[39;49m\u001b[38;5;124;43m5\u001b[39;49m\u001b[38;5;130;43;01m\\n\u001b[39;49;00m\u001b[38;5;130;43;01m\\t\u001b[39;49;00m\u001b[38;5;124;43mModelType\u001b[39;49m\u001b[38;5;130;43;01m\\x12\u001b[39;49;00m\u001b[38;5;130;43;01m\\x0b\u001b[39;49;00m\u001b[38;5;130;43;01m\\n\u001b[39;49;00m\u001b[38;5;130;43;01m\\x07\u001b[39;49;00m\u001b[38;5;124;43mUNIGRAM\u001b[39;49m\u001b[38;5;130;43;01m\\x10\u001b[39;49;00m\u001b[38;5;130;43;01m\\x01\u001b[39;49;00m\u001b[38;5;130;43;01m\\x12\u001b[39;49;00m\u001b[38;5;130;43;01m\\x07\u001b[39;49;00m\u001b[38;5;130;43;01m\\n\u001b[39;49;00m\u001b[38;5;130;43;01m\\x03\u001b[39;49;00m\u001b[38;5;130;43;01m\\x42\u001b[39;49;00m\u001b[38;5;124;43mPE\u001b[39;49m\u001b[38;5;130;43;01m\\x10\u001b[39;49;00m\u001b[38;5;130;43;01m\\x02\u001b[39;49;00m\u001b[38;5;130;43;01m\\x12\u001b[39;49;00m\u001b[38;5;130;43;01m\\x08\u001b[39;49;00m\u001b[38;5;130;43;01m\\n\u001b[39;49;00m\u001b[38;5;130;43;01m\\x04\u001b[39;49;00m\u001b[38;5;124;43mWORD\u001b[39;49m\u001b[38;5;130;43;01m\\x10\u001b[39;49;00m\u001b[38;5;130;43;01m\\x03\u001b[39;49;00m\u001b[38;5;130;43;01m\\x12\u001b[39;49;00m\u001b[38;5;130;43;01m\\x08\u001b[39;49;00m\u001b[38;5;130;43;01m\\n\u001b[39;49;00m\u001b[38;5;130;43;01m\\x04\u001b[39;49;00m\u001b[38;5;130;43;01m\\x43\u001b[39;49;00m\u001b[38;5;124;43mHAR\u001b[39;49m\u001b[38;5;130;43;01m\\x10\u001b[39;49;00m\u001b[38;5;130;43;01m\\x04\u001b[39;49;00m\u001b[38;5;124;43m*\u001b[39;49m\u001b[38;5;130;43;01m\\t\u001b[39;49;00m\u001b[38;5;130;43;01m\\x08\u001b[39;49;00m\u001b[38;5;130;43;01m\\xc8\u001b[39;49;00m\u001b[38;5;130;43;01m\\x01\u001b[39;49;00m\u001b[38;5;130;43;01m\\x10\u001b[39;49;00m\u001b[38;5;130;43;01m\\x80\u001b[39;49;00m\u001b[38;5;130;43;01m\\x80\u001b[39;49;00m\u001b[38;5;130;43;01m\\x80\u001b[39;49;00m\u001b[38;5;130;43;01m\\x80\u001b[39;49;00m\u001b[38;5;130;43;01m\\x02\u001b[39;49;00m\u001b[38;5;124;43m\"\u001b[39;49m\u001b[38;5;130;43;01m\\xd1\u001b[39;49;00m\u001b[38;5;130;43;01m\\x01\u001b[39;49;00m\u001b[38;5;130;43;01m\\n\u001b[39;49;00m\u001b[38;5;130;43;01m\\x0e\u001b[39;49;00m\u001b[38;5;124;43mNormalizerSpec\u001b[39;49m\u001b[38;5;130;43;01m\\x12\u001b[39;49;00m\u001b[38;5;130;43;01m\\x0c\u001b[39;49;00m\u001b[38;5;130;43;01m\\n\u001b[39;49;00m\u001b[38;5;130;43;01m\\x04\u001b[39;49;00m\u001b[38;5;124;43mname\u001b[39;49m\u001b[38;5;130;43;01m\\x18\u001b[39;49;00m\u001b[38;5;130;43;01m\\x01\u001b[39;49;00m\u001b[38;5;124;43m'\u001b[39;49m\n\u001b[1;32m     67\u001b[0m \u001b[43m        \u001b[49m\u001b[38;5;124;43mb\u001b[39;49m\u001b[38;5;124;43m\"\u001b[39;49m\u001b[38;5;124;43m \u001b[39;49m\u001b[38;5;130;43;01m\\x01\u001b[39;49;00m\u001b[38;5;124;43m(\u001b[39;49m\u001b[38;5;130;43;01m\\t\u001b[39;49;00m\u001b[38;5;130;43;01m\\x12\u001b[39;49;00m\u001b[38;5;130;43;01m\\x1c\u001b[39;49;00m\u001b[38;5;130;43;01m\\n\u001b[39;49;00m\u001b[38;5;130;43;01m\\x14\u001b[39;49;00m\u001b[38;5;124;43mprecompiled_charsmap\u001b[39;49m\u001b[38;5;130;43;01m\\x18\u001b[39;49;00m\u001b[38;5;130;43;01m\\x02\u001b[39;49;00m\u001b[38;5;124;43m \u001b[39;49m\u001b[38;5;130;43;01m\\x01\u001b[39;49;00m\u001b[38;5;124;43m(\u001b[39;49m\u001b[38;5;130;43;01m\\x0c\u001b[39;49;00m\u001b[38;5;130;43;01m\\x12\u001b[39;49;00m\u001b[38;5;130;43;01m\\x1e\u001b[39;49;00m\u001b[38;5;130;43;01m\\n\u001b[39;49;00m\u001b[38;5;130;43;01m\\x10\u001b[39;49;00m\u001b[38;5;130;43;01m\\x61\u001b[39;49;00m\u001b[38;5;130;43;01m\\x64\u001b[39;49;00m\u001b[38;5;130;43;01m\\x64\u001b[39;49;00m\u001b[38;5;124;43m_dummy_prefix\u001b[39;49m\u001b[38;5;130;43;01m\\x18\u001b[39;49;00m\u001b[38;5;130;43;01m\\x03\u001b[39;49;00m\u001b[38;5;124;43m\"\u001b[39;49m\n\u001b[1;32m     68\u001b[0m \u001b[43m        \u001b[49m\u001b[38;5;124;43mb\u001b[39;49m\u001b[38;5;124;43m\"\u001b[39;49m\u001b[38;5;124;43m \u001b[39;49m\u001b[38;5;130;43;01m\\x01\u001b[39;49;00m\u001b[38;5;124;43m(\u001b[39;49m\u001b[38;5;130;43;01m\\x08\u001b[39;49;00m\u001b[38;5;124;43m:\u001b[39;49m\u001b[38;5;130;43;01m\\x04\u001b[39;49;00m\u001b[38;5;124;43mtrue\u001b[39;49m\u001b[38;5;130;43;01m\\x12\u001b[39;49;00m\u001b[38;5;124;43m&\u001b[39;49m\u001b[38;5;130;43;01m\\n\u001b[39;49;00m\u001b[38;5;130;43;01m\\x18\u001b[39;49;00m\u001b[38;5;124;43mremove_extra_whitespaces\u001b[39;49m\u001b[38;5;130;43;01m\\x18\u001b[39;49;00m\u001b[38;5;130;43;01m\\x04\u001b[39;49;00m\u001b[38;5;124;43m \u001b[39;49m\u001b[38;5;130;43;01m\\x01\u001b[39;49;00m\u001b[38;5;124;43m(\u001b[39;49m\u001b[38;5;130;43;01m\\x08\u001b[39;49;00m\u001b[38;5;124;43m:\u001b[39;49m\u001b[38;5;130;43;01m\\x04\u001b[39;49;00m\u001b[38;5;124;43mtrue\u001b[39;49m\u001b[38;5;130;43;01m\\x12\u001b[39;49;00m\u001b[38;5;124;43m\"\u001b[39;49m\n\u001b[1;32m     69\u001b[0m \u001b[43m        \u001b[49m\u001b[38;5;124;43mb\u001b[39;49m\u001b[38;5;124;43m\"\u001b[39;49m\u001b[38;5;124;43m \u001b[39;49m\u001b[38;5;130;43;01m\\n\u001b[39;49;00m\u001b[38;5;130;43;01m\\x12\u001b[39;49;00m\u001b[38;5;130;43;01m\\x65\u001b[39;49;00m\u001b[38;5;124;43mscape_whitespaces\u001b[39;49m\u001b[38;5;130;43;01m\\x18\u001b[39;49;00m\u001b[38;5;130;43;01m\\x05\u001b[39;49;00m\u001b[38;5;124;43m \u001b[39;49m\u001b[38;5;130;43;01m\\x01\u001b[39;49;00m\u001b[38;5;124;43m(\u001b[39;49m\u001b[38;5;130;43;01m\\x08\u001b[39;49;00m\u001b[38;5;124;43m:\u001b[39;49m\u001b[38;5;130;43;01m\\x04\u001b[39;49;00m\u001b[38;5;124;43mtrue\u001b[39;49m\u001b[38;5;130;43;01m\\x12\u001b[39;49;00m\u001b[38;5;130;43;01m\\x1e\u001b[39;49;00m\u001b[38;5;130;43;01m\\n\u001b[39;49;00m\u001b[38;5;130;43;01m\\x16\u001b[39;49;00m\u001b[38;5;124;43mnormalization_rule_tsv\u001b[39;49m\u001b[38;5;130;43;01m\\x18\u001b[39;49;00m\u001b[38;5;130;43;01m\\x06\u001b[39;49;00m\u001b[38;5;124;43m\"\u001b[39;49m\n\u001b[1;32m     70\u001b[0m \u001b[43m        \u001b[49m\u001b[38;5;124;43mb\u001b[39;49m\u001b[38;5;124;43m'\u001b[39;49m\u001b[38;5;124;43m \u001b[39;49m\u001b[38;5;130;43;01m\\x01\u001b[39;49;00m\u001b[38;5;124;43m(\u001b[39;49m\u001b[38;5;130;43;01m\\t\u001b[39;49;00m\u001b[38;5;124;43m*\u001b[39;49m\u001b[38;5;130;43;01m\\t\u001b[39;49;00m\u001b[38;5;130;43;01m\\x08\u001b[39;49;00m\u001b[38;5;130;43;01m\\xc8\u001b[39;49;00m\u001b[38;5;130;43;01m\\x01\u001b[39;49;00m\u001b[38;5;130;43;01m\\x10\u001b[39;49;00m\u001b[38;5;130;43;01m\\x80\u001b[39;49;00m\u001b[38;5;130;43;01m\\x80\u001b[39;49;00m\u001b[38;5;130;43;01m\\x80\u001b[39;49;00m\u001b[38;5;130;43;01m\\x80\u001b[39;49;00m\u001b[38;5;130;43;01m\\x02\u001b[39;49;00m\u001b[38;5;124;43m\"\u001b[39;49m\u001b[38;5;124;43my\u001b[39;49m\u001b[38;5;130;43;01m\\n\u001b[39;49;00m\u001b[38;5;130;43;01m\\x0c\u001b[39;49;00m\u001b[38;5;124;43mSelfTestData\u001b[39;49m\u001b[38;5;130;43;01m\\x12\u001b[39;49;00m\u001b[38;5;130;43;01m\\x33\u001b[39;49;00m\u001b[38;5;130;43;01m\\n\u001b[39;49;00m\u001b[38;5;130;43;01m\\x07\u001b[39;49;00m\u001b[38;5;124;43msamples\u001b[39;49m\u001b[38;5;130;43;01m\\x18\u001b[39;49;00m\u001b[38;5;130;43;01m\\x01\u001b[39;49;00m\u001b[38;5;124;43m'\u001b[39;49m\n\u001b[1;32m     71\u001b[0m \u001b[43m        \u001b[49m\u001b[38;5;124;43mb\u001b[39;49m\u001b[38;5;124;43m'\u001b[39;49m\u001b[38;5;124;43m \u001b[39;49m\u001b[38;5;130;43;01m\\x03\u001b[39;49;00m\u001b[38;5;124;43m(\u001b[39;49m\u001b[38;5;130;43;01m\\x0b\u001b[39;49;00m\u001b[38;5;130;43;01m\\x32\u001b[39;49;00m\u001b[38;5;124;43m\"\u001b[39;49m\u001b[38;5;124;43m.sentencepiece.SelfTestData.Sample\u001b[39;49m\u001b[38;5;130;43;01m\\x1a\u001b[39;49;00m\u001b[38;5;124;43m)\u001b[39;49m\u001b[38;5;130;43;01m\\n\u001b[39;49;00m\u001b[38;5;130;43;01m\\x06\u001b[39;49;00m\u001b[38;5;124;43mSample\u001b[39;49m\u001b[38;5;130;43;01m\\x12\u001b[39;49;00m\u001b[38;5;130;43;01m\\r\u001b[39;49;00m\u001b[38;5;130;43;01m\\n\u001b[39;49;00m\u001b[38;5;130;43;01m\\x05\u001b[39;49;00m\u001b[38;5;124;43minput\u001b[39;49m\u001b[38;5;130;43;01m\\x18\u001b[39;49;00m\u001b[38;5;130;43;01m\\x01\u001b[39;49;00m\u001b[38;5;124;43m'\u001b[39;49m\n\u001b[1;32m     72\u001b[0m \u001b[43m        \u001b[49m\u001b[38;5;124;43mb\u001b[39;49m\u001b[38;5;124;43m\"\u001b[39;49m\u001b[38;5;124;43m \u001b[39;49m\u001b[38;5;130;43;01m\\x01\u001b[39;49;00m\u001b[38;5;124;43m(\u001b[39;49m\u001b[38;5;130;43;01m\\t\u001b[39;49;00m\u001b[38;5;130;43;01m\\x12\u001b[39;49;00m\u001b[38;5;130;43;01m\\x10\u001b[39;49;00m\u001b[38;5;130;43;01m\\n\u001b[39;49;00m\u001b[38;5;130;43;01m\\x08\u001b[39;49;00m\u001b[38;5;130;43;01m\\x65\u001b[39;49;00m\u001b[38;5;124;43mxpected\u001b[39;49m\u001b[38;5;130;43;01m\\x18\u001b[39;49;00m\u001b[38;5;130;43;01m\\x02\u001b[39;49;00m\u001b[38;5;124;43m\"\u001b[39;49m\n\u001b[1;32m     73\u001b[0m \u001b[43m        \u001b[49m\u001b[38;5;124;43mb\u001b[39;49m\u001b[38;5;124;43m'\u001b[39;49m\u001b[38;5;124;43m \u001b[39;49m\u001b[38;5;130;43;01m\\x01\u001b[39;49;00m\u001b[38;5;124;43m(\u001b[39;49m\u001b[38;5;130;43;01m\\t\u001b[39;49;00m\u001b[38;5;124;43m*\u001b[39;49m\u001b[38;5;130;43;01m\\t\u001b[39;49;00m\u001b[38;5;130;43;01m\\x08\u001b[39;49;00m\u001b[38;5;130;43;01m\\xc8\u001b[39;49;00m\u001b[38;5;130;43;01m\\x01\u001b[39;49;00m\u001b[38;5;130;43;01m\\x10\u001b[39;49;00m\u001b[38;5;130;43;01m\\x80\u001b[39;49;00m\u001b[38;5;130;43;01m\\x80\u001b[39;49;00m\u001b[38;5;130;43;01m\\x80\u001b[39;49;00m\u001b[38;5;130;43;01m\\x80\u001b[39;49;00m\u001b[38;5;130;43;01m\\x02\u001b[39;49;00m\u001b[38;5;124;43m\"\u001b[39;49m\u001b[38;5;130;43;01m\\xfe\u001b[39;49;00m\u001b[38;5;130;43;01m\\x03\u001b[39;49;00m\u001b[38;5;130;43;01m\\n\u001b[39;49;00m\u001b[38;5;130;43;01m\\n\u001b[39;49;00m\u001b[38;5;124;43mModelProto\u001b[39;49m\u001b[38;5;130;43;01m\\x12\u001b[39;49;00m\u001b[38;5;130;43;01m\\x37\u001b[39;49;00m\u001b[38;5;130;43;01m\\n\u001b[39;49;00m\u001b[38;5;130;43;01m\\x06\u001b[39;49;00m\u001b[38;5;124;43mpieces\u001b[39;49m\u001b[38;5;130;43;01m\\x18\u001b[39;49;00m\u001b[38;5;130;43;01m\\x01\u001b[39;49;00m\u001b[38;5;124;43m'\u001b[39;49m\n\u001b[1;32m     74\u001b[0m \u001b[43m        \u001b[49m\u001b[38;5;124;43mb\u001b[39;49m\u001b[38;5;124;43m\"\u001b[39;49m\u001b[38;5;124;43m \u001b[39;49m\u001b[38;5;130;43;01m\\x03\u001b[39;49;00m\u001b[38;5;124;43m(\u001b[39;49m\u001b[38;5;130;43;01m\\x0b\u001b[39;49;00m\u001b[38;5;130;43;01m\\x32\u001b[39;49;00m\u001b[38;5;124;43m'\u001b[39;49m\u001b[38;5;124;43m.sentencepiece.ModelProto.SentencePiece\u001b[39;49m\u001b[38;5;130;43;01m\\x12\u001b[39;49;00m\u001b[38;5;130;43;01m\\x30\u001b[39;49;00m\u001b[38;5;130;43;01m\\n\u001b[39;49;00m\u001b[38;5;130;43;01m\\x0c\u001b[39;49;00m\u001b[38;5;124;43mtrainer_spec\u001b[39;49m\u001b[38;5;130;43;01m\\x18\u001b[39;49;00m\u001b[38;5;130;43;01m\\x02\u001b[39;49;00m\u001b[38;5;124;43m\"\u001b[39;49m\n\u001b[1;32m     75\u001b[0m \u001b[43m        \u001b[49m\u001b[38;5;124;43mb\u001b[39;49m\u001b[38;5;124;43m\"\u001b[39;49m\u001b[38;5;124;43m \u001b[39;49m\u001b[38;5;130;43;01m\\x01\u001b[39;49;00m\u001b[38;5;124;43m(\u001b[39;49m\u001b[38;5;130;43;01m\\x0b\u001b[39;49;00m\u001b[38;5;130;43;01m\\x32\u001b[39;49;00m\u001b[38;5;130;43;01m\\x1a\u001b[39;49;00m\u001b[38;5;124;43m.sentencepiece.TrainerSpec\u001b[39;49m\u001b[38;5;130;43;01m\\x12\u001b[39;49;00m\u001b[38;5;130;43;01m\\x36\u001b[39;49;00m\u001b[38;5;130;43;01m\\n\u001b[39;49;00m\u001b[38;5;130;43;01m\\x0f\u001b[39;49;00m\u001b[38;5;124;43mnormalizer_spec\u001b[39;49m\u001b[38;5;130;43;01m\\x18\u001b[39;49;00m\u001b[38;5;130;43;01m\\x03\u001b[39;49;00m\u001b[38;5;124;43m\"\u001b[39;49m\n\u001b[1;32m     76\u001b[0m \u001b[43m        \u001b[49m\u001b[38;5;124;43mb\u001b[39;49m\u001b[38;5;124;43m\"\u001b[39;49m\u001b[38;5;124;43m \u001b[39;49m\u001b[38;5;130;43;01m\\x01\u001b[39;49;00m\u001b[38;5;124;43m(\u001b[39;49m\u001b[38;5;130;43;01m\\x0b\u001b[39;49;00m\u001b[38;5;130;43;01m\\x32\u001b[39;49;00m\u001b[38;5;130;43;01m\\x1d\u001b[39;49;00m\u001b[38;5;124;43m.sentencepiece.NormalizerSpec\u001b[39;49m\u001b[38;5;130;43;01m\\x12\u001b[39;49;00m\u001b[38;5;130;43;01m\\x33\u001b[39;49;00m\u001b[38;5;130;43;01m\\n\u001b[39;49;00m\u001b[38;5;130;43;01m\\x0e\u001b[39;49;00m\u001b[38;5;124;43mself_test_data\u001b[39;49m\u001b[38;5;130;43;01m\\x18\u001b[39;49;00m\u001b[38;5;130;43;01m\\x04\u001b[39;49;00m\u001b[38;5;124;43m\"\u001b[39;49m\n\u001b[1;32m     77\u001b[0m \u001b[43m        \u001b[49m\u001b[38;5;124;43mb\u001b[39;49m\u001b[38;5;124;43m\"\u001b[39;49m\u001b[38;5;124;43m \u001b[39;49m\u001b[38;5;130;43;01m\\x01\u001b[39;49;00m\u001b[38;5;124;43m(\u001b[39;49m\u001b[38;5;130;43;01m\\x0b\u001b[39;49;00m\u001b[38;5;130;43;01m\\x32\u001b[39;49;00m\u001b[38;5;130;43;01m\\x1b\u001b[39;49;00m\u001b[38;5;124;43m.sentencepiece.SelfTestData\u001b[39;49m\u001b[38;5;130;43;01m\\x12\u001b[39;49;00m\u001b[38;5;130;43;01m\\x38\u001b[39;49;00m\u001b[38;5;130;43;01m\\n\u001b[39;49;00m\u001b[38;5;130;43;01m\\x11\u001b[39;49;00m\u001b[38;5;130;43;01m\\x64\u001b[39;49;00m\u001b[38;5;130;43;01m\\x65\u001b[39;49;00m\u001b[38;5;124;43mnormalizer_spec\u001b[39;49m\u001b[38;5;130;43;01m\\x18\u001b[39;49;00m\u001b[38;5;130;43;01m\\x05\u001b[39;49;00m\u001b[38;5;124;43m\"\u001b[39;49m\n\u001b[1;32m     78\u001b[0m \u001b[43m        \u001b[49m\u001b[38;5;124;43mb\u001b[39;49m\u001b[38;5;124;43m\"\u001b[39;49m\u001b[38;5;124;43m \u001b[39;49m\u001b[38;5;130;43;01m\\x01\u001b[39;49;00m\u001b[38;5;124;43m(\u001b[39;49m\u001b[38;5;130;43;01m\\x0b\u001b[39;49;00m\u001b[38;5;130;43;01m\\x32\u001b[39;49;00m\u001b[38;5;130;43;01m\\x1d\u001b[39;49;00m\u001b[38;5;124;43m.sentencepiece.NormalizerSpec\u001b[39;49m\u001b[38;5;130;43;01m\\x1a\u001b[39;49;00m\u001b[38;5;130;43;01m\\xd2\u001b[39;49;00m\u001b[38;5;130;43;01m\\x01\u001b[39;49;00m\u001b[38;5;130;43;01m\\n\u001b[39;49;00m\u001b[38;5;130;43;01m\\r\u001b[39;49;00m\u001b[38;5;124;43mSentencePiece\u001b[39;49m\u001b[38;5;130;43;01m\\x12\u001b[39;49;00m\u001b[38;5;130;43;01m\\r\u001b[39;49;00m\u001b[38;5;130;43;01m\\n\u001b[39;49;00m\u001b[38;5;130;43;01m\\x05\u001b[39;49;00m\u001b[38;5;124;43mpiece\u001b[39;49m\u001b[38;5;130;43;01m\\x18\u001b[39;49;00m\u001b[38;5;130;43;01m\\x01\u001b[39;49;00m\u001b[38;5;124;43m\"\u001b[39;49m\n\u001b[1;32m     79\u001b[0m \u001b[43m        \u001b[49m\u001b[38;5;124;43mb\u001b[39;49m\u001b[38;5;124;43m\"\u001b[39;49m\u001b[38;5;124;43m \u001b[39;49m\u001b[38;5;130;43;01m\\x01\u001b[39;49;00m\u001b[38;5;124;43m(\u001b[39;49m\u001b[38;5;130;43;01m\\t\u001b[39;49;00m\u001b[38;5;130;43;01m\\x12\u001b[39;49;00m\u001b[38;5;130;43;01m\\r\u001b[39;49;00m\u001b[38;5;130;43;01m\\n\u001b[39;49;00m\u001b[38;5;130;43;01m\\x05\u001b[39;49;00m\u001b[38;5;124;43mscore\u001b[39;49m\u001b[38;5;130;43;01m\\x18\u001b[39;49;00m\u001b[38;5;130;43;01m\\x02\u001b[39;49;00m\u001b[38;5;124;43m \u001b[39;49m\u001b[38;5;130;43;01m\\x01\u001b[39;49;00m\u001b[38;5;124;43m(\u001b[39;49m\u001b[38;5;130;43;01m\\x02\u001b[39;49;00m\u001b[38;5;130;43;01m\\x12\u001b[39;49;00m\u001b[38;5;130;43;01m\\x42\u001b[39;49;00m\u001b[38;5;130;43;01m\\n\u001b[39;49;00m\u001b[38;5;130;43;01m\\x04\u001b[39;49;00m\u001b[38;5;124;43mtype\u001b[39;49m\u001b[38;5;130;43;01m\\x18\u001b[39;49;00m\u001b[38;5;130;43;01m\\x03\u001b[39;49;00m\u001b[38;5;124;43m\"\u001b[39;49m\n\u001b[1;32m     80\u001b[0m \u001b[43m        \u001b[49m\u001b[38;5;124;43mb\u001b[39;49m\u001b[38;5;124;43m'\u001b[39;49m\u001b[38;5;124;43m \u001b[39;49m\u001b[38;5;130;43;01m\\x01\u001b[39;49;00m\u001b[38;5;124;43m(\u001b[39;49m\u001b[38;5;130;43;01m\\x0e\u001b[39;49;00m\u001b[38;5;130;43;01m\\x32\u001b[39;49;00m\u001b[38;5;124;43m,.sentencepiece.ModelProto.SentencePiece.Type:\u001b[39;49m\u001b[38;5;130;43;01m\\x06\u001b[39;49;00m\u001b[38;5;124;43mNORMAL\u001b[39;49m\u001b[38;5;124;43m\"\u001b[39;49m\u001b[38;5;124;43mT\u001b[39;49m\u001b[38;5;130;43;01m\\n\u001b[39;49;00m\u001b[38;5;130;43;01m\\x04\u001b[39;49;00m\u001b[38;5;124;43mType\u001b[39;49m\u001b[38;5;130;43;01m\\x12\u001b[39;49;00m\u001b[38;5;130;43;01m\\n\u001b[39;49;00m\u001b[38;5;130;43;01m\\n\u001b[39;49;00m\u001b[38;5;130;43;01m\\x06\u001b[39;49;00m\u001b[38;5;124;43mNORMAL\u001b[39;49m\u001b[38;5;130;43;01m\\x10\u001b[39;49;00m\u001b[38;5;130;43;01m\\x01\u001b[39;49;00m\u001b[38;5;130;43;01m\\x12\u001b[39;49;00m\u001b[38;5;130;43;01m\\x0b\u001b[39;49;00m\u001b[38;5;130;43;01m\\n\u001b[39;49;00m\u001b[38;5;130;43;01m\\x07\u001b[39;49;00m\u001b[38;5;124;43mUNKNOWN\u001b[39;49m\u001b[38;5;130;43;01m\\x10\u001b[39;49;00m\u001b[38;5;130;43;01m\\x02\u001b[39;49;00m\u001b[38;5;130;43;01m\\x12\u001b[39;49;00m\u001b[38;5;130;43;01m\\x0b\u001b[39;49;00m\u001b[38;5;130;43;01m\\n\u001b[39;49;00m\u001b[38;5;130;43;01m\\x07\u001b[39;49;00m\u001b[38;5;130;43;01m\\x43\u001b[39;49;00m\u001b[38;5;124;43mONTROL\u001b[39;49m\u001b[38;5;130;43;01m\\x10\u001b[39;49;00m\u001b[38;5;130;43;01m\\x03\u001b[39;49;00m\u001b[38;5;130;43;01m\\x12\u001b[39;49;00m\u001b[38;5;130;43;01m\\x10\u001b[39;49;00m\u001b[38;5;130;43;01m\\n\u001b[39;49;00m\u001b[38;5;130;43;01m\\x0c\u001b[39;49;00m\u001b[38;5;124;43mUSER_DEFINED\u001b[39;49m\u001b[38;5;130;43;01m\\x10\u001b[39;49;00m\u001b[38;5;130;43;01m\\x04\u001b[39;49;00m\u001b[38;5;130;43;01m\\x12\u001b[39;49;00m\u001b[38;5;130;43;01m\\x08\u001b[39;49;00m\u001b[38;5;130;43;01m\\n\u001b[39;49;00m\u001b[38;5;130;43;01m\\x04\u001b[39;49;00m\u001b[38;5;130;43;01m\\x42\u001b[39;49;00m\u001b[38;5;124;43mYTE\u001b[39;49m\u001b[38;5;130;43;01m\\x10\u001b[39;49;00m\u001b[38;5;130;43;01m\\x06\u001b[39;49;00m\u001b[38;5;130;43;01m\\x12\u001b[39;49;00m\u001b[38;5;130;43;01m\\n\u001b[39;49;00m\u001b[38;5;130;43;01m\\n\u001b[39;49;00m\u001b[38;5;130;43;01m\\x06\u001b[39;49;00m\u001b[38;5;124;43mUNUSED\u001b[39;49m\u001b[38;5;130;43;01m\\x10\u001b[39;49;00m\u001b[38;5;130;43;01m\\x05\u001b[39;49;00m\u001b[38;5;124;43m*\u001b[39;49m\u001b[38;5;130;43;01m\\t\u001b[39;49;00m\u001b[38;5;130;43;01m\\x08\u001b[39;49;00m\u001b[38;5;130;43;01m\\xc8\u001b[39;49;00m\u001b[38;5;130;43;01m\\x01\u001b[39;49;00m\u001b[38;5;130;43;01m\\x10\u001b[39;49;00m\u001b[38;5;130;43;01m\\x80\u001b[39;49;00m\u001b[38;5;130;43;01m\\x80\u001b[39;49;00m\u001b[38;5;130;43;01m\\x80\u001b[39;49;00m\u001b[38;5;130;43;01m\\x80\u001b[39;49;00m\u001b[38;5;130;43;01m\\x02\u001b[39;49;00m\u001b[38;5;124;43m*\u001b[39;49m\u001b[38;5;130;43;01m\\t\u001b[39;49;00m\u001b[38;5;130;43;01m\\x08\u001b[39;49;00m\u001b[38;5;130;43;01m\\xc8\u001b[39;49;00m\u001b[38;5;130;43;01m\\x01\u001b[39;49;00m\u001b[38;5;130;43;01m\\x10\u001b[39;49;00m\u001b[38;5;130;43;01m\\x80\u001b[39;49;00m\u001b[38;5;130;43;01m\\x80\u001b[39;49;00m\u001b[38;5;130;43;01m\\x80\u001b[39;49;00m\u001b[38;5;130;43;01m\\x80\u001b[39;49;00m\u001b[38;5;130;43;01m\\x02\u001b[39;49;00m\u001b[38;5;130;43;01m\\x42\u001b[39;49;00m\u001b[38;5;130;43;01m\\x02\u001b[39;49;00m\u001b[38;5;124;43mH\u001b[39;49m\u001b[38;5;130;43;01m\\x03\u001b[39;49;00m\u001b[38;5;124;43m'\u001b[39;49m\n\u001b[1;32m     81\u001b[0m \u001b[43m    \u001b[49m\u001b[43m)\u001b[49m\u001b[43m,\u001b[49m\n\u001b[1;32m     82\u001b[0m \u001b[43m)\u001b[49m\n\u001b[1;32m     85\u001b[0m _TRAINERSPEC_MODELTYPE \u001b[38;5;241m=\u001b[39m _descriptor\u001b[38;5;241m.\u001b[39mEnumDescriptor(\n\u001b[1;32m     86\u001b[0m     name\u001b[38;5;241m=\u001b[39m\u001b[38;5;124m\"\u001b[39m\u001b[38;5;124mModelType\u001b[39m\u001b[38;5;124m\"\u001b[39m,\n\u001b[1;32m     87\u001b[0m     full_name\u001b[38;5;241m=\u001b[39m\u001b[38;5;124m\"\u001b[39m\u001b[38;5;124msentencepiece.TrainerSpec.ModelType\u001b[39m\u001b[38;5;124m\"\u001b[39m,\n\u001b[0;32m   (...)\u001b[0m\n\u001b[1;32m    128\u001b[0m     serialized_end\u001b[38;5;241m=\u001b[39m\u001b[38;5;241m1347\u001b[39m,\n\u001b[1;32m    129\u001b[0m )\n\u001b[1;32m    130\u001b[0m _sym_db\u001b[38;5;241m.\u001b[39mRegisterEnumDescriptor(_TRAINERSPEC_MODELTYPE)\n",
      "File \u001b[0;32m/mnt/c/MyWork/PersonalProjects/Masters-Thesis/.venv/lib/python3.9/site-packages/google/protobuf/descriptor.py:1028\u001b[0m, in \u001b[0;36mFileDescriptor.__new__\u001b[0;34m(cls, name, package, options, serialized_options, serialized_pb, dependencies, public_dependencies, syntax, pool, create_key)\u001b[0m\n\u001b[1;32m   1026\u001b[0m     \u001b[38;5;28;01mraise\u001b[39;00m \u001b[38;5;167;01mRuntimeError\u001b[39;00m(\u001b[38;5;124m'\u001b[39m\u001b[38;5;124mPlease link in cpp generated lib for \u001b[39m\u001b[38;5;132;01m%s\u001b[39;00m\u001b[38;5;124m'\u001b[39m \u001b[38;5;241m%\u001b[39m (name))\n\u001b[1;32m   1027\u001b[0m \u001b[38;5;28;01melif\u001b[39;00m serialized_pb:\n\u001b[0;32m-> 1028\u001b[0m   \u001b[38;5;28;01mreturn\u001b[39;00m \u001b[43m_message\u001b[49m\u001b[38;5;241;43m.\u001b[39;49m\u001b[43mdefault_pool\u001b[49m\u001b[38;5;241;43m.\u001b[39;49m\u001b[43mAddSerializedFile\u001b[49m\u001b[43m(\u001b[49m\u001b[43mserialized_pb\u001b[49m\u001b[43m)\u001b[49m\n\u001b[1;32m   1029\u001b[0m \u001b[38;5;28;01melse\u001b[39;00m:\n\u001b[1;32m   1030\u001b[0m   \u001b[38;5;28;01mreturn\u001b[39;00m \u001b[38;5;28msuper\u001b[39m(FileDescriptor, \u001b[38;5;28mcls\u001b[39m)\u001b[38;5;241m.\u001b[39m\u001b[38;5;21m__new__\u001b[39m(\u001b[38;5;28mcls\u001b[39m)\n",
      "\u001b[0;31mTypeError\u001b[0m: Couldn't build proto file into descriptor pool: duplicate file name (sentencepiece_model.proto)"
     ]
    }
   ],
   "source": [
    "tokenizer = AutoTokenizer.from_pretrained(checkpoint)\n",
    "model = AutoModelForSeq2SeqLM.from_pretrained(checkpoint)"
   ]
  },
  {
   "cell_type": "code",
   "execution_count": null,
   "id": "d08d1023-5b03-4318-8050-00cf0d7f35d4",
   "metadata": {},
   "outputs": [],
   "source": [
    "inputs = tokenizer(text1, return_tensors=\"pt\")\n",
    "summary_ids = model.generate(inputs[\"input_ids\"], max_new_tokens=1000)\n",
    "# summary_ids = model.generate(inputs[\"input_ids\"], min_length=int(np.floor(inputs['input_ids'].shape[1] * 0.25)), max_new_tokens=1000)\n",
    "tokenizer.batch_decode(summary_ids, skip_special_tokens=True, clean_up_tokenization_spaces=False)[0]"
   ]
  },
  {
   "cell_type": "code",
   "execution_count": null,
   "id": "29617372-b98b-475e-a935-fd3b06cdd110",
   "metadata": {},
   "outputs": [],
   "source": [
    "inputs = tokenizer(text2, return_tensors=\"pt\")\n",
    "summary_ids = model.generate(inputs[\"input_ids\"], max_new_tokens=1000)\n",
    "# summary_ids = model.generate(inputs[\"input_ids\"], min_length=int(np.floor(inputs['input_ids'].shape[1] * 0.25)), max_new_tokens=1000)\n",
    "tokenizer.batch_decode(summary_ids, skip_special_tokens=True, clean_up_tokenization_spaces=False)[0]"
   ]
  },
  {
   "cell_type": "markdown",
   "id": "2bd20181-fae9-4aa0-9968-b46be0522429",
   "metadata": {
    "tags": []
   },
   "source": [
    "## sshleifer/distill-pegasus-cnn-16-4"
   ]
  },
  {
   "cell_type": "code",
   "execution_count": 6,
   "id": "02ec03cb-dab2-4115-ba53-090451441c46",
   "metadata": {},
   "outputs": [],
   "source": [
    "checkpoint = 'sshleifer/distill-pegasus-cnn-16-4'"
   ]
  },
  {
   "cell_type": "code",
   "execution_count": 7,
   "id": "6d8db78d-1257-4199-8e08-aaea962b1f55",
   "metadata": {},
   "outputs": [
    {
     "data": {
      "application/vnd.jupyter.widget-view+json": {
       "model_id": "b11270ca342a4adebedb0b2b808032b7",
       "version_major": 2,
       "version_minor": 0
      },
      "text/plain": [
       "Downloading:   0%|          | 0.00/88.0 [00:00<?, ?B/s]"
      ]
     },
     "metadata": {},
     "output_type": "display_data"
    },
    {
     "data": {
      "application/vnd.jupyter.widget-view+json": {
       "model_id": "38b7b472397348faaee1404e878a8ebf",
       "version_major": 2,
       "version_minor": 0
      },
      "text/plain": [
       "Downloading:   0%|          | 0.00/1.16k [00:00<?, ?B/s]"
      ]
     },
     "metadata": {},
     "output_type": "display_data"
    },
    {
     "data": {
      "application/vnd.jupyter.widget-view+json": {
       "model_id": "885f1e96b5f64796a9744dbcdc10568b",
       "version_major": 2,
       "version_minor": 0
      },
      "text/plain": [
       "Downloading:   0%|          | 0.00/1.91M [00:00<?, ?B/s]"
      ]
     },
     "metadata": {},
     "output_type": "display_data"
    },
    {
     "data": {
      "application/vnd.jupyter.widget-view+json": {
       "model_id": "b90260d4190f4a3d9a6bdccb4c62d821",
       "version_major": 2,
       "version_minor": 0
      },
      "text/plain": [
       "Downloading:   0%|          | 0.00/65.0 [00:00<?, ?B/s]"
      ]
     },
     "metadata": {},
     "output_type": "display_data"
    },
    {
     "ename": "ImportError",
     "evalue": "\nPegasusConverter requires the protobuf library but it was not found in your environment. Checkout the instructions on the\ninstallation page of its repo: https://github.com/protocolbuffers/protobuf/tree/master/python#installation and follow the ones\nthat match your environment. Please note that you may need to restart your runtime after installation.\n",
     "output_type": "error",
     "traceback": [
      "\u001b[0;31m---------------------------------------------------------------------------\u001b[0m",
      "\u001b[0;31mImportError\u001b[0m                               Traceback (most recent call last)",
      "Cell \u001b[0;32mIn[7], line 1\u001b[0m\n\u001b[0;32m----> 1\u001b[0m tokenizer \u001b[38;5;241m=\u001b[39m \u001b[43mAutoTokenizer\u001b[49m\u001b[38;5;241;43m.\u001b[39;49m\u001b[43mfrom_pretrained\u001b[49m\u001b[43m(\u001b[49m\u001b[43mcheckpoint\u001b[49m\u001b[43m)\u001b[49m\n\u001b[1;32m      2\u001b[0m model \u001b[38;5;241m=\u001b[39m AutoModelForSeq2SeqLM\u001b[38;5;241m.\u001b[39mfrom_pretrained(checkpoint)\n",
      "File \u001b[0;32m/mnt/c/MyWork/PersonalProjects/Masters-Thesis/.venv/lib/python3.9/site-packages/transformers/models/auto/tokenization_auto.py:659\u001b[0m, in \u001b[0;36mAutoTokenizer.from_pretrained\u001b[0;34m(cls, pretrained_model_name_or_path, *inputs, **kwargs)\u001b[0m\n\u001b[1;32m    657\u001b[0m tokenizer_class_py, tokenizer_class_fast \u001b[38;5;241m=\u001b[39m TOKENIZER_MAPPING[\u001b[38;5;28mtype\u001b[39m(config)]\n\u001b[1;32m    658\u001b[0m \u001b[38;5;28;01mif\u001b[39;00m tokenizer_class_fast \u001b[38;5;129;01mand\u001b[39;00m (use_fast \u001b[38;5;129;01mor\u001b[39;00m tokenizer_class_py \u001b[38;5;129;01mis\u001b[39;00m \u001b[38;5;28;01mNone\u001b[39;00m):\n\u001b[0;32m--> 659\u001b[0m     \u001b[38;5;28;01mreturn\u001b[39;00m \u001b[43mtokenizer_class_fast\u001b[49m\u001b[38;5;241;43m.\u001b[39;49m\u001b[43mfrom_pretrained\u001b[49m\u001b[43m(\u001b[49m\u001b[43mpretrained_model_name_or_path\u001b[49m\u001b[43m,\u001b[49m\u001b[43m \u001b[49m\u001b[38;5;241;43m*\u001b[39;49m\u001b[43minputs\u001b[49m\u001b[43m,\u001b[49m\u001b[43m \u001b[49m\u001b[38;5;241;43m*\u001b[39;49m\u001b[38;5;241;43m*\u001b[39;49m\u001b[43mkwargs\u001b[49m\u001b[43m)\u001b[49m\n\u001b[1;32m    660\u001b[0m \u001b[38;5;28;01melse\u001b[39;00m:\n\u001b[1;32m    661\u001b[0m     \u001b[38;5;28;01mif\u001b[39;00m tokenizer_class_py \u001b[38;5;129;01mis\u001b[39;00m \u001b[38;5;129;01mnot\u001b[39;00m \u001b[38;5;28;01mNone\u001b[39;00m:\n",
      "File \u001b[0;32m/mnt/c/MyWork/PersonalProjects/Masters-Thesis/.venv/lib/python3.9/site-packages/transformers/tokenization_utils_base.py:1801\u001b[0m, in \u001b[0;36mPreTrainedTokenizerBase.from_pretrained\u001b[0;34m(cls, pretrained_model_name_or_path, *init_inputs, **kwargs)\u001b[0m\n\u001b[1;32m   1798\u001b[0m     \u001b[38;5;28;01melse\u001b[39;00m:\n\u001b[1;32m   1799\u001b[0m         logger\u001b[38;5;241m.\u001b[39minfo(\u001b[38;5;124mf\u001b[39m\u001b[38;5;124m\"\u001b[39m\u001b[38;5;124mloading file \u001b[39m\u001b[38;5;132;01m{\u001b[39;00mfile_path\u001b[38;5;132;01m}\u001b[39;00m\u001b[38;5;124m from cache at \u001b[39m\u001b[38;5;132;01m{\u001b[39;00mresolved_vocab_files[file_id]\u001b[38;5;132;01m}\u001b[39;00m\u001b[38;5;124m\"\u001b[39m)\n\u001b[0;32m-> 1801\u001b[0m \u001b[38;5;28;01mreturn\u001b[39;00m \u001b[38;5;28;43mcls\u001b[39;49m\u001b[38;5;241;43m.\u001b[39;49m\u001b[43m_from_pretrained\u001b[49m\u001b[43m(\u001b[49m\n\u001b[1;32m   1802\u001b[0m \u001b[43m    \u001b[49m\u001b[43mresolved_vocab_files\u001b[49m\u001b[43m,\u001b[49m\n\u001b[1;32m   1803\u001b[0m \u001b[43m    \u001b[49m\u001b[43mpretrained_model_name_or_path\u001b[49m\u001b[43m,\u001b[49m\n\u001b[1;32m   1804\u001b[0m \u001b[43m    \u001b[49m\u001b[43minit_configuration\u001b[49m\u001b[43m,\u001b[49m\n\u001b[1;32m   1805\u001b[0m \u001b[43m    \u001b[49m\u001b[38;5;241;43m*\u001b[39;49m\u001b[43minit_inputs\u001b[49m\u001b[43m,\u001b[49m\n\u001b[1;32m   1806\u001b[0m \u001b[43m    \u001b[49m\u001b[43muse_auth_token\u001b[49m\u001b[38;5;241;43m=\u001b[39;49m\u001b[43muse_auth_token\u001b[49m\u001b[43m,\u001b[49m\n\u001b[1;32m   1807\u001b[0m \u001b[43m    \u001b[49m\u001b[43mcache_dir\u001b[49m\u001b[38;5;241;43m=\u001b[39;49m\u001b[43mcache_dir\u001b[49m\u001b[43m,\u001b[49m\n\u001b[1;32m   1808\u001b[0m \u001b[43m    \u001b[49m\u001b[43mlocal_files_only\u001b[49m\u001b[38;5;241;43m=\u001b[39;49m\u001b[43mlocal_files_only\u001b[49m\u001b[43m,\u001b[49m\n\u001b[1;32m   1809\u001b[0m \u001b[43m    \u001b[49m\u001b[43m_commit_hash\u001b[49m\u001b[38;5;241;43m=\u001b[39;49m\u001b[43mcommit_hash\u001b[49m\u001b[43m,\u001b[49m\n\u001b[1;32m   1810\u001b[0m \u001b[43m    \u001b[49m\u001b[38;5;241;43m*\u001b[39;49m\u001b[38;5;241;43m*\u001b[39;49m\u001b[43mkwargs\u001b[49m\u001b[43m,\u001b[49m\n\u001b[1;32m   1811\u001b[0m \u001b[43m\u001b[49m\u001b[43m)\u001b[49m\n",
      "File \u001b[0;32m/mnt/c/MyWork/PersonalProjects/Masters-Thesis/.venv/lib/python3.9/site-packages/transformers/tokenization_utils_base.py:1956\u001b[0m, in \u001b[0;36mPreTrainedTokenizerBase._from_pretrained\u001b[0;34m(cls, resolved_vocab_files, pretrained_model_name_or_path, init_configuration, use_auth_token, cache_dir, local_files_only, _commit_hash, *init_inputs, **kwargs)\u001b[0m\n\u001b[1;32m   1954\u001b[0m \u001b[38;5;66;03m# Instantiate tokenizer.\u001b[39;00m\n\u001b[1;32m   1955\u001b[0m \u001b[38;5;28;01mtry\u001b[39;00m:\n\u001b[0;32m-> 1956\u001b[0m     tokenizer \u001b[38;5;241m=\u001b[39m \u001b[38;5;28;43mcls\u001b[39;49m\u001b[43m(\u001b[49m\u001b[38;5;241;43m*\u001b[39;49m\u001b[43minit_inputs\u001b[49m\u001b[43m,\u001b[49m\u001b[43m \u001b[49m\u001b[38;5;241;43m*\u001b[39;49m\u001b[38;5;241;43m*\u001b[39;49m\u001b[43minit_kwargs\u001b[49m\u001b[43m)\u001b[49m\n\u001b[1;32m   1957\u001b[0m \u001b[38;5;28;01mexcept\u001b[39;00m \u001b[38;5;167;01mOSError\u001b[39;00m:\n\u001b[1;32m   1958\u001b[0m     \u001b[38;5;28;01mraise\u001b[39;00m \u001b[38;5;167;01mOSError\u001b[39;00m(\n\u001b[1;32m   1959\u001b[0m         \u001b[38;5;124m\"\u001b[39m\u001b[38;5;124mUnable to load vocabulary from file. \u001b[39m\u001b[38;5;124m\"\u001b[39m\n\u001b[1;32m   1960\u001b[0m         \u001b[38;5;124m\"\u001b[39m\u001b[38;5;124mPlease check that the provided vocabulary is accessible and not corrupted.\u001b[39m\u001b[38;5;124m\"\u001b[39m\n\u001b[1;32m   1961\u001b[0m     )\n",
      "File \u001b[0;32m/mnt/c/MyWork/PersonalProjects/Masters-Thesis/.venv/lib/python3.9/site-packages/transformers/models/pegasus/tokenization_pegasus_fast.py:142\u001b[0m, in \u001b[0;36mPegasusTokenizerFast.__init__\u001b[0;34m(self, vocab_file, tokenizer_file, pad_token, eos_token, unk_token, mask_token, mask_token_sent, additional_special_tokens, offset, **kwargs)\u001b[0m\n\u001b[1;32m    139\u001b[0m     additional_special_tokens \u001b[38;5;241m=\u001b[39m [mask_token_sent] \u001b[38;5;28;01mif\u001b[39;00m mask_token_sent \u001b[38;5;129;01mis\u001b[39;00m \u001b[38;5;129;01mnot\u001b[39;00m \u001b[38;5;28;01mNone\u001b[39;00m \u001b[38;5;28;01melse\u001b[39;00m []\n\u001b[1;32m    140\u001b[0m     additional_special_tokens \u001b[38;5;241m+\u001b[39m\u001b[38;5;241m=\u001b[39m [\u001b[38;5;124mf\u001b[39m\u001b[38;5;124m\"\u001b[39m\u001b[38;5;124m<unk_\u001b[39m\u001b[38;5;132;01m{\u001b[39;00mi\u001b[38;5;132;01m}\u001b[39;00m\u001b[38;5;124m>\u001b[39m\u001b[38;5;124m\"\u001b[39m \u001b[38;5;28;01mfor\u001b[39;00m i \u001b[38;5;129;01min\u001b[39;00m \u001b[38;5;28mrange\u001b[39m(\u001b[38;5;241m2\u001b[39m, \u001b[38;5;28mself\u001b[39m\u001b[38;5;241m.\u001b[39moffset)]\n\u001b[0;32m--> 142\u001b[0m \u001b[38;5;28;43msuper\u001b[39;49m\u001b[43m(\u001b[49m\u001b[43m)\u001b[49m\u001b[38;5;241;43m.\u001b[39;49m\u001b[38;5;21;43m__init__\u001b[39;49m\u001b[43m(\u001b[49m\n\u001b[1;32m    143\u001b[0m \u001b[43m    \u001b[49m\u001b[43mvocab_file\u001b[49m\u001b[43m,\u001b[49m\n\u001b[1;32m    144\u001b[0m \u001b[43m    \u001b[49m\u001b[43mtokenizer_file\u001b[49m\u001b[38;5;241;43m=\u001b[39;49m\u001b[43mtokenizer_file\u001b[49m\u001b[43m,\u001b[49m\n\u001b[1;32m    145\u001b[0m \u001b[43m    \u001b[49m\u001b[43mpad_token\u001b[49m\u001b[38;5;241;43m=\u001b[39;49m\u001b[43mpad_token\u001b[49m\u001b[43m,\u001b[49m\n\u001b[1;32m    146\u001b[0m \u001b[43m    \u001b[49m\u001b[43meos_token\u001b[49m\u001b[38;5;241;43m=\u001b[39;49m\u001b[43meos_token\u001b[49m\u001b[43m,\u001b[49m\n\u001b[1;32m    147\u001b[0m \u001b[43m    \u001b[49m\u001b[43munk_token\u001b[49m\u001b[38;5;241;43m=\u001b[39;49m\u001b[43munk_token\u001b[49m\u001b[43m,\u001b[49m\n\u001b[1;32m    148\u001b[0m \u001b[43m    \u001b[49m\u001b[43mmask_token\u001b[49m\u001b[38;5;241;43m=\u001b[39;49m\u001b[43mmask_token\u001b[49m\u001b[43m,\u001b[49m\n\u001b[1;32m    149\u001b[0m \u001b[43m    \u001b[49m\u001b[43mmask_token_sent\u001b[49m\u001b[38;5;241;43m=\u001b[39;49m\u001b[43mmask_token_sent\u001b[49m\u001b[43m,\u001b[49m\n\u001b[1;32m    150\u001b[0m \u001b[43m    \u001b[49m\u001b[43moffset\u001b[49m\u001b[38;5;241;43m=\u001b[39;49m\u001b[43moffset\u001b[49m\u001b[43m,\u001b[49m\n\u001b[1;32m    151\u001b[0m \u001b[43m    \u001b[49m\u001b[43madditional_special_tokens\u001b[49m\u001b[38;5;241;43m=\u001b[39;49m\u001b[43madditional_special_tokens\u001b[49m\u001b[43m,\u001b[49m\n\u001b[1;32m    152\u001b[0m \u001b[43m    \u001b[49m\u001b[38;5;241;43m*\u001b[39;49m\u001b[38;5;241;43m*\u001b[39;49m\u001b[43mkwargs\u001b[49m\u001b[43m,\u001b[49m\n\u001b[1;32m    153\u001b[0m \u001b[43m\u001b[49m\u001b[43m)\u001b[49m\n\u001b[1;32m    154\u001b[0m \u001b[38;5;28mself\u001b[39m\u001b[38;5;241m.\u001b[39mvocab_file \u001b[38;5;241m=\u001b[39m vocab_file\n\u001b[1;32m    155\u001b[0m \u001b[38;5;28mself\u001b[39m\u001b[38;5;241m.\u001b[39mcan_save_slow_tokenizer \u001b[38;5;241m=\u001b[39m \u001b[38;5;28;01mFalse\u001b[39;00m \u001b[38;5;28;01mif\u001b[39;00m \u001b[38;5;129;01mnot\u001b[39;00m \u001b[38;5;28mself\u001b[39m\u001b[38;5;241m.\u001b[39mvocab_file \u001b[38;5;28;01melse\u001b[39;00m \u001b[38;5;28;01mTrue\u001b[39;00m\n",
      "File \u001b[0;32m/mnt/c/MyWork/PersonalProjects/Masters-Thesis/.venv/lib/python3.9/site-packages/transformers/tokenization_utils_fast.py:114\u001b[0m, in \u001b[0;36mPreTrainedTokenizerFast.__init__\u001b[0;34m(self, *args, **kwargs)\u001b[0m\n\u001b[1;32m    111\u001b[0m     fast_tokenizer \u001b[38;5;241m=\u001b[39m TokenizerFast\u001b[38;5;241m.\u001b[39mfrom_file(fast_tokenizer_file)\n\u001b[1;32m    112\u001b[0m \u001b[38;5;28;01melif\u001b[39;00m slow_tokenizer \u001b[38;5;129;01mis\u001b[39;00m \u001b[38;5;129;01mnot\u001b[39;00m \u001b[38;5;28;01mNone\u001b[39;00m:\n\u001b[1;32m    113\u001b[0m     \u001b[38;5;66;03m# We need to convert a slow tokenizer to build the backend\u001b[39;00m\n\u001b[0;32m--> 114\u001b[0m     fast_tokenizer \u001b[38;5;241m=\u001b[39m \u001b[43mconvert_slow_tokenizer\u001b[49m\u001b[43m(\u001b[49m\u001b[43mslow_tokenizer\u001b[49m\u001b[43m)\u001b[49m\n\u001b[1;32m    115\u001b[0m \u001b[38;5;28;01melif\u001b[39;00m \u001b[38;5;28mself\u001b[39m\u001b[38;5;241m.\u001b[39mslow_tokenizer_class \u001b[38;5;129;01mis\u001b[39;00m \u001b[38;5;129;01mnot\u001b[39;00m \u001b[38;5;28;01mNone\u001b[39;00m:\n\u001b[1;32m    116\u001b[0m     \u001b[38;5;66;03m# We need to create and convert a slow tokenizer to build the backend\u001b[39;00m\n\u001b[1;32m    117\u001b[0m     slow_tokenizer \u001b[38;5;241m=\u001b[39m \u001b[38;5;28mself\u001b[39m\u001b[38;5;241m.\u001b[39mslow_tokenizer_class(\u001b[38;5;241m*\u001b[39margs, \u001b[38;5;241m*\u001b[39m\u001b[38;5;241m*\u001b[39mkwargs)\n",
      "File \u001b[0;32m/mnt/c/MyWork/PersonalProjects/Masters-Thesis/.venv/lib/python3.9/site-packages/transformers/convert_slow_tokenizer.py:1162\u001b[0m, in \u001b[0;36mconvert_slow_tokenizer\u001b[0;34m(transformer_tokenizer)\u001b[0m\n\u001b[1;32m   1154\u001b[0m     \u001b[38;5;28;01mraise\u001b[39;00m \u001b[38;5;167;01mValueError\u001b[39;00m(\n\u001b[1;32m   1155\u001b[0m         \u001b[38;5;124mf\u001b[39m\u001b[38;5;124m\"\u001b[39m\u001b[38;5;124mAn instance of tokenizer class \u001b[39m\u001b[38;5;132;01m{\u001b[39;00mtokenizer_class_name\u001b[38;5;132;01m}\u001b[39;00m\u001b[38;5;124m cannot be converted in a Fast tokenizer instance.\u001b[39m\u001b[38;5;124m\"\u001b[39m\n\u001b[1;32m   1156\u001b[0m         \u001b[38;5;124m\"\u001b[39m\u001b[38;5;124m No converter was found. Currently available slow->fast convertors:\u001b[39m\u001b[38;5;124m\"\u001b[39m\n\u001b[1;32m   1157\u001b[0m         \u001b[38;5;124mf\u001b[39m\u001b[38;5;124m\"\u001b[39m\u001b[38;5;124m \u001b[39m\u001b[38;5;132;01m{\u001b[39;00m\u001b[38;5;28mlist\u001b[39m(SLOW_TO_FAST_CONVERTERS\u001b[38;5;241m.\u001b[39mkeys())\u001b[38;5;132;01m}\u001b[39;00m\u001b[38;5;124m\"\u001b[39m\n\u001b[1;32m   1158\u001b[0m     )\n\u001b[1;32m   1160\u001b[0m converter_class \u001b[38;5;241m=\u001b[39m SLOW_TO_FAST_CONVERTERS[tokenizer_class_name]\n\u001b[0;32m-> 1162\u001b[0m \u001b[38;5;28;01mreturn\u001b[39;00m \u001b[43mconverter_class\u001b[49m\u001b[43m(\u001b[49m\u001b[43mtransformer_tokenizer\u001b[49m\u001b[43m)\u001b[49m\u001b[38;5;241m.\u001b[39mconverted()\n",
      "File \u001b[0;32m/mnt/c/MyWork/PersonalProjects/Masters-Thesis/.venv/lib/python3.9/site-packages/transformers/convert_slow_tokenizer.py:434\u001b[0m, in \u001b[0;36mSpmConverter.__init__\u001b[0;34m(self, *args)\u001b[0m\n\u001b[1;32m    433\u001b[0m \u001b[38;5;28;01mdef\u001b[39;00m \u001b[38;5;21m__init__\u001b[39m(\u001b[38;5;28mself\u001b[39m, \u001b[38;5;241m*\u001b[39margs):\n\u001b[0;32m--> 434\u001b[0m     \u001b[43mrequires_backends\u001b[49m\u001b[43m(\u001b[49m\u001b[38;5;28;43mself\u001b[39;49m\u001b[43m,\u001b[49m\u001b[43m \u001b[49m\u001b[38;5;124;43m\"\u001b[39;49m\u001b[38;5;124;43mprotobuf\u001b[39;49m\u001b[38;5;124;43m\"\u001b[39;49m\u001b[43m)\u001b[49m\n\u001b[1;32m    436\u001b[0m     \u001b[38;5;28msuper\u001b[39m()\u001b[38;5;241m.\u001b[39m\u001b[38;5;21m__init__\u001b[39m(\u001b[38;5;241m*\u001b[39margs)\n\u001b[1;32m    438\u001b[0m     \u001b[38;5;28;01mfrom\u001b[39;00m \u001b[38;5;21;01m.\u001b[39;00m\u001b[38;5;21;01mutils\u001b[39;00m \u001b[38;5;28;01mimport\u001b[39;00m sentencepiece_model_pb2 \u001b[38;5;28;01mas\u001b[39;00m model_pb2\n",
      "File \u001b[0;32m/mnt/c/MyWork/PersonalProjects/Masters-Thesis/.venv/lib/python3.9/site-packages/transformers/utils/import_utils.py:997\u001b[0m, in \u001b[0;36mrequires_backends\u001b[0;34m(obj, backends)\u001b[0m\n\u001b[1;32m    995\u001b[0m failed \u001b[38;5;241m=\u001b[39m [msg\u001b[38;5;241m.\u001b[39mformat(name) \u001b[38;5;28;01mfor\u001b[39;00m available, msg \u001b[38;5;129;01min\u001b[39;00m checks \u001b[38;5;28;01mif\u001b[39;00m \u001b[38;5;129;01mnot\u001b[39;00m available()]\n\u001b[1;32m    996\u001b[0m \u001b[38;5;28;01mif\u001b[39;00m failed:\n\u001b[0;32m--> 997\u001b[0m     \u001b[38;5;28;01mraise\u001b[39;00m \u001b[38;5;167;01mImportError\u001b[39;00m(\u001b[38;5;124m\"\u001b[39m\u001b[38;5;124m\"\u001b[39m\u001b[38;5;241m.\u001b[39mjoin(failed))\n",
      "\u001b[0;31mImportError\u001b[0m: \nPegasusConverter requires the protobuf library but it was not found in your environment. Checkout the instructions on the\ninstallation page of its repo: https://github.com/protocolbuffers/protobuf/tree/master/python#installation and follow the ones\nthat match your environment. Please note that you may need to restart your runtime after installation.\n"
     ]
    }
   ],
   "source": [
    "tokenizer = AutoTokenizer.from_pretrained(checkpoint)\n",
    "model = AutoModelForSeq2SeqLM.from_pretrained(checkpoint)"
   ]
  },
  {
   "cell_type": "code",
   "execution_count": null,
   "id": "cedf29fd-fa09-42dc-91d4-d68c49dbe384",
   "metadata": {},
   "outputs": [],
   "source": [
    "inputs = tokenizer(text1, return_tensors=\"pt\")\n",
    "summary_ids = model.generate(inputs[\"input_ids\"], max_new_tokens=1000)\n",
    "# summary_ids = model.generate(inputs[\"input_ids\"], min_length=int(np.floor(inputs['input_ids'].shape[1] * 0.25)), max_new_tokens=1000)\n",
    "tokenizer.batch_decode(summary_ids, skip_special_tokens=True, clean_up_tokenization_spaces=False)[0]"
   ]
  },
  {
   "cell_type": "code",
   "execution_count": null,
   "id": "794224ce-0c06-455c-a626-89b4fa0123c1",
   "metadata": {},
   "outputs": [],
   "source": [
    "inputs = tokenizer(text2, return_tensors=\"pt\")\n",
    "summary_ids = model.generate(inputs[\"input_ids\"], max_new_tokens=1000)\n",
    "# summary_ids = model.generate(inputs[\"input_ids\"], min_length=int(np.floor(inputs['input_ids'].shape[1] * 0.25)), max_new_tokens=1000)\n",
    "tokenizer.batch_decode(summary_ids, skip_special_tokens=True, clean_up_tokenization_spaces=False)[0]"
   ]
  },
  {
   "cell_type": "code",
   "execution_count": 16,
   "id": "71793827-9f46-43f2-949d-2372a64adc68",
   "metadata": {},
   "outputs": [],
   "source": [
    "# checkpoint = 'sshleifer/distilbart-cnn-6-6'\n",
    "# summarizer = pipeline(\"summarization\", model=checkpoint)\n",
    "# summarizer(text2)"
   ]
  },
  {
   "cell_type": "code",
   "execution_count": null,
   "id": "ac46b55d-fabe-4e7a-ba2e-1f52c948c5a3",
   "metadata": {},
   "outputs": [],
   "source": []
  }
 ],
 "metadata": {
  "kernelspec": {
   "display_name": "Python 3 (ipykernel)",
   "language": "python",
   "name": "python3"
  },
  "language_info": {
   "codemirror_mode": {
    "name": "ipython",
    "version": 3
   },
   "file_extension": ".py",
   "mimetype": "text/x-python",
   "name": "python",
   "nbconvert_exporter": "python",
   "pygments_lexer": "ipython3",
   "version": "3.9.16"
  }
 },
 "nbformat": 4,
 "nbformat_minor": 5
}
