{
 "cells": [
  {
   "cell_type": "code",
   "execution_count": 1,
   "id": "d05318c6-68ee-490c-a58f-48a30342c992",
   "metadata": {},
   "outputs": [],
   "source": [
    "from transformers import (\n",
    "    TokenClassificationPipeline,\n",
    "    AutoModelForTokenClassification,\n",
    "    AutoTokenizer,\n",
    ")\n",
    "from transformers.pipelines import AggregationStrategy\n",
    "import numpy as np"
   ]
  },
  {
   "cell_type": "code",
   "execution_count": 2,
   "id": "7a28fbe2-b0c3-4d0e-bfd8-9c4b7b237048",
   "metadata": {},
   "outputs": [
    {
     "name": "stdout",
     "output_type": "stream",
     "text": [
      "\n",
      "Mr. and Mrs. Dursley, of number four, Privet Drive, were proud to say that they were perfectly normal, thank you very much. They were the last people you’d expect to be involved in anything strange or mysterious, because they just didn’t hold with such nonsense.\n",
      "\n",
      "Mr. Dursley was the director of a firm called Grunnings, which made drills. He was a big, beefy man with hardly any neck, although he did have a very large mustache. Mrs. Dursley was thin and blonde and had nearly twice the usual amount of neck, which came in very useful as she spent so much of her time craning over garden fences, spying on the neighbors. The Dursleys had a small son called Dudley and in their opinion there was no finer boy anywhere.\n",
      "\n",
      "The Dursleys had everything they wanted, but they also had a secret, and their greatest fear was that somebody would discover it. They didn’t think they could bear it if anyone found out about the Potters. Mrs. Potter was Mrs. Dursley’s sister, but they hadn’t met for several years; in fact, Mrs. Dursley pretended she didn’t have a sister, because her sister and her good-for-nothing husband were as unDursleyish as it was possible to be. The Dursleys shuddered to think what the neighbors would say if the Potters arrived in the street. The Dursleys knew that the Potters had a small son, too, but they had never even seen him. This boy was another good reason for keeping the Potters away; they didn’t want Dudley mixing with a child like that.\n",
      "\n"
     ]
    }
   ],
   "source": [
    "text1 = \"\"\"\n",
    "Mr. and Mrs. Dursley, of number four, Privet Drive, were proud to say that they were perfectly normal, thank you very much. They were the last people you’d expect to be involved in anything strange or mysterious, because they just didn’t hold with such nonsense.\n",
    "\n",
    "Mr. Dursley was the director of a firm called Grunnings, which made drills. He was a big, beefy man with hardly any neck, although he did have a very large mustache. Mrs. Dursley was thin and blonde and had nearly twice the usual amount of neck, which came in very useful as she spent so much of her time craning over garden fences, spying on the neighbors. The Dursleys had a small son called Dudley and in their opinion there was no finer boy anywhere.\n",
    "\n",
    "The Dursleys had everything they wanted, but they also had a secret, and their greatest fear was that somebody would discover it. They didn’t think they could bear it if anyone found out about the Potters. Mrs. Potter was Mrs. Dursley’s sister, but they hadn’t met for several years; in fact, Mrs. Dursley pretended she didn’t have a sister, because her sister and her good-for-nothing husband were as unDursleyish as it was possible to be. The Dursleys shuddered to think what the neighbors would say if the Potters arrived in the street. The Dursleys knew that the Potters had a small son, too, but they had never even seen him. This boy was another good reason for keeping the Potters away; they didn’t want Dudley mixing with a child like that.\n",
    "\"\"\"\n",
    "print(text1)"
   ]
  },
  {
   "cell_type": "code",
   "execution_count": 3,
   "id": "a42d313d-90f7-45f3-9193-2b807609e5bb",
   "metadata": {},
   "outputs": [
    {
     "name": "stdout",
     "output_type": "stream",
     "text": [
      "\n",
      "Once, there was a boy who became bored when he watched over the village sheep grazing on the hillside. To entertain himself, he sang out, “Wolf! Wolf! The wolf is chasing the sheep!”\n",
      "\n",
      "When the villagers heard the cry, they came running up the hill to drive the wolf away. But, when they arrived, they saw no wolf. The boy was amused when seeing their angry faces.\n",
      "\n",
      "“Don’t scream wolf, boy,” warned the villagers, “when there is no wolf!” They angrily went back down the hill.\n",
      "\n",
      "Later, the shepherd boy cried out once again, “Wolf! Wolf! The wolf is chasing the sheep!” To his amusement, he looked on as the villagers came running up the hill to scare the wolf away.\n",
      "\n",
      "As they saw there was no wolf, they said strictly, “Save your frightened cry for when there really is a wolf! Don’t cry ‘wolf’ when there is no wolf!” But the boy grinned at their words while they walked grumbling down the hill once more.\n",
      "\n",
      "Later, the boy saw a real wolf sneaking around his flock. Alarmed, he jumped on his feet and cried out as loud as he could, “Wolf! Wolf!” But the villagers thought he was fooling them again, and so they didn’t come to help.\n",
      "\n",
      "At sunset, the villagers went looking for the boy who hadn’t returned with their sheep. When they went up the hill, they found him weeping.\n",
      "\n",
      "“There really was a wolf here! The flock is gone! I cried out, ‘Wolf!’ but you didn’t come,” he wailed.\n",
      "\n",
      "An old man went to comfort the boy. As he put his arm around him, he said, “Nobody believes a liar, even when he is telling the truth!”\n",
      "\n"
     ]
    }
   ],
   "source": [
    "text2 = \"\"\"\n",
    "Once, there was a boy who became bored when he watched over the village sheep grazing on the hillside. To entertain himself, he sang out, “Wolf! Wolf! The wolf is chasing the sheep!”\n",
    "\n",
    "When the villagers heard the cry, they came running up the hill to drive the wolf away. But, when they arrived, they saw no wolf. The boy was amused when seeing their angry faces.\n",
    "\n",
    "“Don’t scream wolf, boy,” warned the villagers, “when there is no wolf!” They angrily went back down the hill.\n",
    "\n",
    "Later, the shepherd boy cried out once again, “Wolf! Wolf! The wolf is chasing the sheep!” To his amusement, he looked on as the villagers came running up the hill to scare the wolf away.\n",
    "\n",
    "As they saw there was no wolf, they said strictly, “Save your frightened cry for when there really is a wolf! Don’t cry ‘wolf’ when there is no wolf!” But the boy grinned at their words while they walked grumbling down the hill once more.\n",
    "\n",
    "Later, the boy saw a real wolf sneaking around his flock. Alarmed, he jumped on his feet and cried out as loud as he could, “Wolf! Wolf!” But the villagers thought he was fooling them again, and so they didn’t come to help.\n",
    "\n",
    "At sunset, the villagers went looking for the boy who hadn’t returned with their sheep. When they went up the hill, they found him weeping.\n",
    "\n",
    "“There really was a wolf here! The flock is gone! I cried out, ‘Wolf!’ but you didn’t come,” he wailed.\n",
    "\n",
    "An old man went to comfort the boy. As he put his arm around him, he said, “Nobody believes a liar, even when he is telling the truth!”\n",
    "\"\"\"\n",
    "print(text2)"
   ]
  },
  {
   "cell_type": "markdown",
   "id": "bf9e2ea0-76cc-4da7-ae48-ffcf2fd9b7e8",
   "metadata": {},
   "source": [
    "## ml6team/keyphrase-extraction-kbir-kpcrowd"
   ]
  },
  {
   "cell_type": "code",
   "execution_count": 4,
   "id": "d219f467-8dee-46c2-818a-b2876abf00b2",
   "metadata": {},
   "outputs": [],
   "source": [
    "# Define keyphrase extraction pipeline\n",
    "class KeyphraseExtractionPipeline(TokenClassificationPipeline):\n",
    "    def __init__(self, model, *args, **kwargs):\n",
    "        super().__init__(\n",
    "            model=AutoModelForTokenClassification.from_pretrained(model),\n",
    "            tokenizer=AutoTokenizer.from_pretrained(model),\n",
    "            *args,\n",
    "            **kwargs\n",
    "        )\n",
    "\n",
    "    def postprocess(self, model_outputs):\n",
    "        results = super().postprocess(\n",
    "            model_outputs=model_outputs,\n",
    "            aggregation_strategy=AggregationStrategy.SIMPLE,\n",
    "        )\n",
    "        return np.unique([result.get(\"word\").strip() for result in results])"
   ]
  },
  {
   "cell_type": "code",
   "execution_count": 5,
   "id": "7e518018-b84f-47a1-a026-30b6e91e4d69",
   "metadata": {},
   "outputs": [],
   "source": [
    "# Load pipeline\n",
    "model_name = \"ml6team/keyphrase-extraction-kbir-kpcrowd\"\n",
    "extractor = KeyphraseExtractionPipeline(model=model_name)"
   ]
  },
  {
   "cell_type": "code",
   "execution_count": 6,
   "id": "8889053f-17a3-44b5-a7f9-f29d7499c11d",
   "metadata": {},
   "outputs": [
    {
     "data": {
      "text/plain": [
       "array(['Drive', 'Dudley', 'Dursley', 'Dursleys', 'Grunnings', 'Mrs.',\n",
       "       'Potter', 'Potters', 'Privet', 'aning', 'beefy', 'big', 'blonde',\n",
       "       'director', 'discover', 'drills', 'garden', 'good',\n",
       "       'greatest fear', 'involved', 'keeping', 'mixing', 'mustache',\n",
       "       'mysterious', 'neck', 'neighbors', 'nonsense', 'normal', 'opinion',\n",
       "       'people', 'perfectly', 'proud', 'reason', 'say', 'seen',\n",
       "       'shuddered', 'small', 'spent', 'spying', 'strange', 'unDursleyish',\n",
       "       'useful', 'usual'], dtype='<U13')"
      ]
     },
     "execution_count": 6,
     "metadata": {},
     "output_type": "execute_result"
    }
   ],
   "source": [
    "# Inference\n",
    "keyphrases = extractor(text1)\n",
    "keyphrases"
   ]
  },
  {
   "cell_type": "code",
   "execution_count": 7,
   "id": "8bd56659-714a-49e8-ab8c-ff153cdddea8",
   "metadata": {},
   "outputs": [
    {
     "data": {
      "text/plain": [
       "array(['Alarmed', 'Wolf', 'amusement', 'angry', 'bored', 'boy', 'chasing',\n",
       "       'cried', 'entertain', 'found', 'frightened', 'grazing', 'hill',\n",
       "       'hillside', 'jumped', 'liar', 'looking', 'old', 'running',\n",
       "       'scream', 'sheep', 'shepherd boy', 'sneaking', 'telling', 'truth',\n",
       "       'villagers', 'wolf'], dtype='<U12')"
      ]
     },
     "execution_count": 7,
     "metadata": {},
     "output_type": "execute_result"
    }
   ],
   "source": [
    "# Inference\n",
    "keyphrases = extractor(text2)\n",
    "keyphrases"
   ]
  },
  {
   "cell_type": "markdown",
   "id": "a0d8d47c-28e2-4c51-b650-7b261cbe3a08",
   "metadata": {},
   "source": [
    "## ml6team/keyphrase-extraction-kbir-openkp"
   ]
  },
  {
   "cell_type": "code",
   "execution_count": 14,
   "id": "ac0ed76d-6340-40b2-83d2-f17be708bb98",
   "metadata": {},
   "outputs": [],
   "source": [
    "# Define keyphrase extraction pipeline\n",
    "class KeyphraseExtractionPipeline(TokenClassificationPipeline):\n",
    "    def __init__(self, model, *args, **kwargs):\n",
    "        super().__init__(\n",
    "            model=AutoModelForTokenClassification.from_pretrained(model),\n",
    "            tokenizer=AutoTokenizer.from_pretrained(model),\n",
    "            *args,\n",
    "            **kwargs\n",
    "        )\n",
    "\n",
    "    def postprocess(self, model_outputs):\n",
    "        results = super().postprocess(\n",
    "            model_outputs=model_outputs,\n",
    "            aggregation_strategy=AggregationStrategy.SIMPLE,\n",
    "        )\n",
    "        return np.unique([result.get(\"word\").strip() for result in results])"
   ]
  },
  {
   "cell_type": "code",
   "execution_count": 15,
   "id": "c15f83e6-6b9a-42c1-98f4-20265f9f56f8",
   "metadata": {},
   "outputs": [],
   "source": [
    "# Load pipeline\n",
    "model_name = \"ml6team/keyphrase-extraction-kbir-openkp\"\n",
    "extractor = KeyphraseExtractionPipeline(model=model_name)"
   ]
  },
  {
   "cell_type": "code",
   "execution_count": 16,
   "id": "79089595-a40f-4083-a041-d9cbdef6dfe0",
   "metadata": {},
   "outputs": [
    {
     "name": "stderr",
     "output_type": "stream",
     "text": [
      "Asking to truncate to max_length but no maximum length is provided and the model has no predefined maximum length. Default to no truncation.\n"
     ]
    },
    {
     "data": {
      "text/plain": [
       "array([], dtype=float64)"
      ]
     },
     "execution_count": 16,
     "metadata": {},
     "output_type": "execute_result"
    }
   ],
   "source": [
    "# Inference\n",
    "keyphrases = extractor(text1)\n",
    "keyphrases"
   ]
  },
  {
   "cell_type": "code",
   "execution_count": 17,
   "id": "295adb93-9249-4b59-aff7-ad737d713a45",
   "metadata": {},
   "outputs": [
    {
     "data": {
      "text/plain": [
       "array([], dtype=float64)"
      ]
     },
     "execution_count": 17,
     "metadata": {},
     "output_type": "execute_result"
    }
   ],
   "source": [
    "# Inference\n",
    "keyphrases = extractor(text2)\n",
    "keyphrases"
   ]
  },
  {
   "cell_type": "markdown",
   "id": "6ed8a259-24b3-49c6-8c4a-6c87c2a39f38",
   "metadata": {},
   "source": [
    "## ml6team/keyphrase-extraction-distilbert-kptimes"
   ]
  },
  {
   "cell_type": "code",
   "execution_count": 25,
   "id": "f75b0e06-920f-4140-a96a-76cb908c42d4",
   "metadata": {},
   "outputs": [],
   "source": [
    "# Define keyphrase extraction pipeline\n",
    "class KeyphraseExtractionPipeline(TokenClassificationPipeline):\n",
    "    def __init__(self, model, *args, **kwargs):\n",
    "        super().__init__(\n",
    "            model=AutoModelForTokenClassification.from_pretrained(model),\n",
    "            tokenizer=AutoTokenizer.from_pretrained(model),\n",
    "            *args,\n",
    "            **kwargs\n",
    "        )\n",
    "\n",
    "    def postprocess(self, model_outputs):\n",
    "        results = super().postprocess(\n",
    "            model_outputs=model_outputs,\n",
    "            aggregation_strategy=AggregationStrategy.FIRST,\n",
    "        )\n",
    "        return np.unique([result.get(\"word\").strip() for result in results])"
   ]
  },
  {
   "cell_type": "code",
   "execution_count": 26,
   "id": "3e867831-a8b0-4db2-ae5a-096ab0c4d151",
   "metadata": {},
   "outputs": [],
   "source": [
    "# Load pipeline\n",
    "model_name = \"ml6team/keyphrase-extraction-distilbert-kptimes\"\n",
    "extractor = KeyphraseExtractionPipeline(model=model_name)"
   ]
  },
  {
   "cell_type": "code",
   "execution_count": 30,
   "id": "bb05c841-1b69-4f3e-a1fc-6c721a4b11d9",
   "metadata": {},
   "outputs": [
    {
     "data": {
      "text/plain": [
       "array([], dtype=float64)"
      ]
     },
     "execution_count": 30,
     "metadata": {},
     "output_type": "execute_result"
    }
   ],
   "source": [
    "# Inference\n",
    "keyphrases = extractor(text1)\n",
    "keyphrases"
   ]
  },
  {
   "cell_type": "code",
   "execution_count": 28,
   "id": "fba5a678-8ec6-4a19-8389-0e55569634c1",
   "metadata": {},
   "outputs": [
    {
     "data": {
      "text/plain": [
       "array([], dtype=float64)"
      ]
     },
     "execution_count": 28,
     "metadata": {},
     "output_type": "execute_result"
    }
   ],
   "source": [
    "# Inference\n",
    "keyphrases = extractor(text2)\n",
    "keyphrases"
   ]
  },
  {
   "cell_type": "markdown",
   "id": "2c8cf93d-c1d4-4f8d-9311-ffc86eb8dde0",
   "metadata": {},
   "source": [
    "## ml6team/keyphrase-extraction-kbir-kptimes"
   ]
  },
  {
   "cell_type": "code",
   "execution_count": 31,
   "id": "ccdae75b-8eb8-4690-a390-2d0ec3503831",
   "metadata": {},
   "outputs": [],
   "source": [
    "# Define keyphrase extraction pipeline\n",
    "class KeyphraseExtractionPipeline(TokenClassificationPipeline):\n",
    "    def __init__(self, model, *args, **kwargs):\n",
    "        super().__init__(\n",
    "            model=AutoModelForTokenClassification.from_pretrained(model),\n",
    "            tokenizer=AutoTokenizer.from_pretrained(model),\n",
    "            *args,\n",
    "            **kwargs\n",
    "        )\n",
    "\n",
    "    def postprocess(self, model_outputs):\n",
    "        results = super().postprocess(\n",
    "            model_outputs=model_outputs,\n",
    "            aggregation_strategy=AggregationStrategy.SIMPLE,\n",
    "        )\n",
    "        return np.unique([result.get(\"word\").strip() for result in results])"
   ]
  },
  {
   "cell_type": "code",
   "execution_count": 32,
   "id": "65e11456-d44d-4f32-9827-339ffe912f11",
   "metadata": {},
   "outputs": [
    {
     "data": {
      "application/vnd.jupyter.widget-view+json": {
       "model_id": "0069deaa31a4465c9170bda7abc3a431",
       "version_major": 2,
       "version_minor": 0
      },
      "text/plain": [
       "Downloading:   0%|          | 0.00/855 [00:00<?, ?B/s]"
      ]
     },
     "metadata": {},
     "output_type": "display_data"
    },
    {
     "data": {
      "application/vnd.jupyter.widget-view+json": {
       "model_id": "4997190200c14bcaa2d7274df0ceebf6",
       "version_major": 2,
       "version_minor": 0
      },
      "text/plain": [
       "Downloading:   0%|          | 0.00/1.42G [00:00<?, ?B/s]"
      ]
     },
     "metadata": {},
     "output_type": "display_data"
    },
    {
     "data": {
      "application/vnd.jupyter.widget-view+json": {
       "model_id": "b77dbf469e5b497eae07f8adafe01469",
       "version_major": 2,
       "version_minor": 0
      },
      "text/plain": [
       "Downloading:   0%|          | 0.00/1.15k [00:00<?, ?B/s]"
      ]
     },
     "metadata": {},
     "output_type": "display_data"
    },
    {
     "data": {
      "application/vnd.jupyter.widget-view+json": {
       "model_id": "bfaf18d0d827454b9fa2ee25458953e6",
       "version_major": 2,
       "version_minor": 0
      },
      "text/plain": [
       "Downloading:   0%|          | 0.00/798k [00:00<?, ?B/s]"
      ]
     },
     "metadata": {},
     "output_type": "display_data"
    },
    {
     "data": {
      "application/vnd.jupyter.widget-view+json": {
       "model_id": "c4600b07966e4594ade622eafbce8056",
       "version_major": 2,
       "version_minor": 0
      },
      "text/plain": [
       "Downloading:   0%|          | 0.00/456k [00:00<?, ?B/s]"
      ]
     },
     "metadata": {},
     "output_type": "display_data"
    },
    {
     "data": {
      "application/vnd.jupyter.widget-view+json": {
       "model_id": "aab349d57b98495aa990bb0e0f9516f4",
       "version_major": 2,
       "version_minor": 0
      },
      "text/plain": [
       "Downloading:   0%|          | 0.00/2.11M [00:00<?, ?B/s]"
      ]
     },
     "metadata": {},
     "output_type": "display_data"
    },
    {
     "data": {
      "application/vnd.jupyter.widget-view+json": {
       "model_id": "572e0a1590ae4fed9a7076456c5c052a",
       "version_major": 2,
       "version_minor": 0
      },
      "text/plain": [
       "Downloading:   0%|          | 0.00/772 [00:00<?, ?B/s]"
      ]
     },
     "metadata": {},
     "output_type": "display_data"
    }
   ],
   "source": [
    "# Load pipeline\n",
    "model_name = \"ml6team/keyphrase-extraction-kbir-kptimes\"\n",
    "extractor = KeyphraseExtractionPipeline(model=model_name)"
   ]
  },
  {
   "cell_type": "code",
   "execution_count": 33,
   "id": "65c70c05-a3d2-4960-bda5-bb3642c5390a",
   "metadata": {},
   "outputs": [
    {
     "name": "stderr",
     "output_type": "stream",
     "text": [
      "Asking to truncate to max_length but no maximum length is provided and the model has no predefined maximum length. Default to no truncation.\n"
     ]
    },
    {
     "data": {
      "text/plain": [
       "array([], dtype=float64)"
      ]
     },
     "execution_count": 33,
     "metadata": {},
     "output_type": "execute_result"
    }
   ],
   "source": [
    "# Inference\n",
    "keyphrases = extractor(text1)\n",
    "keyphrases"
   ]
  },
  {
   "cell_type": "code",
   "execution_count": 34,
   "id": "899a4a2e-d15d-421f-8bf6-66b3974eafd3",
   "metadata": {},
   "outputs": [
    {
     "data": {
      "text/plain": [
       "array([], dtype=float64)"
      ]
     },
     "execution_count": 34,
     "metadata": {},
     "output_type": "execute_result"
    }
   ],
   "source": [
    "# Inference\n",
    "keyphrases = extractor(text2)\n",
    "keyphrases"
   ]
  },
  {
   "cell_type": "markdown",
   "id": "6c2f8b4a-4438-4003-a119-1db9ed7d02d8",
   "metadata": {},
   "source": [
    "## ml6team/keyphrase-extraction-distilbert-openkp"
   ]
  },
  {
   "cell_type": "code",
   "execution_count": 22,
   "id": "f8247084-d4df-4cfe-a59e-e5f49397d7cb",
   "metadata": {},
   "outputs": [],
   "source": [
    "# Define keyphrase extraction pipeline\n",
    "class KeyphraseExtractionPipeline(TokenClassificationPipeline):\n",
    "    def __init__(self, model, *args, **kwargs):\n",
    "        super().__init__(\n",
    "            model=AutoModelForTokenClassification.from_pretrained(model),\n",
    "            tokenizer=AutoTokenizer.from_pretrained(model),\n",
    "            *args,\n",
    "            **kwargs\n",
    "        )\n",
    "\n",
    "    def postprocess(self, model_outputs):\n",
    "        results = super().postprocess(\n",
    "            model_outputs=model_outputs,\n",
    "            aggregation_strategy=AggregationStrategy.FIRST,\n",
    "        )\n",
    "        return np.unique([result.get(\"word\").strip() for result in results])"
   ]
  },
  {
   "cell_type": "code",
   "execution_count": 23,
   "id": "00ffd162-1d54-4912-83a4-a0d7899d1cc0",
   "metadata": {},
   "outputs": [],
   "source": [
    "# Load pipeline\n",
    "model_name = \"ml6team/keyphrase-extraction-distilbert-openkp\"\n",
    "extractor = KeyphraseExtractionPipeline(model=model_name)"
   ]
  },
  {
   "cell_type": "code",
   "execution_count": 24,
   "id": "722521fe-1711-4e49-9727-d22c9d023f95",
   "metadata": {},
   "outputs": [
    {
     "data": {
      "text/plain": [
       "array([], dtype=float64)"
      ]
     },
     "execution_count": 24,
     "metadata": {},
     "output_type": "execute_result"
    }
   ],
   "source": [
    "# Inference\n",
    "keyphrases = extractor(text1)\n",
    "keyphrases"
   ]
  },
  {
   "cell_type": "code",
   "execution_count": 25,
   "id": "0a25634e-d68b-45b3-b06c-6d4da27de724",
   "metadata": {},
   "outputs": [
    {
     "data": {
      "text/plain": [
       "array([], dtype=float64)"
      ]
     },
     "execution_count": 25,
     "metadata": {},
     "output_type": "execute_result"
    }
   ],
   "source": [
    "# Inference\n",
    "keyphrases = extractor(text2)\n",
    "keyphrases"
   ]
  },
  {
   "cell_type": "code",
   "execution_count": null,
   "id": "22ff8b49-4382-4246-9dc3-6f856384258d",
   "metadata": {},
   "outputs": [],
   "source": []
  }
 ],
 "metadata": {
  "kernelspec": {
   "display_name": "Python 3 (ipykernel)",
   "language": "python",
   "name": "python3"
  },
  "language_info": {
   "codemirror_mode": {
    "name": "ipython",
    "version": 3
   },
   "file_extension": ".py",
   "mimetype": "text/x-python",
   "name": "python",
   "nbconvert_exporter": "python",
   "pygments_lexer": "ipython3",
   "version": "3.9.16"
  }
 },
 "nbformat": 4,
 "nbformat_minor": 5
}
